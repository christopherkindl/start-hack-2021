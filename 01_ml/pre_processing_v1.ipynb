{
 "cells": [
  {
   "cell_type": "code",
   "execution_count": 163,
   "metadata": {},
   "outputs": [],
   "source": [
    "import pandas as pd\n",
    "\n",
    "import datetime\n",
    "from datetime import timedelta\n",
    "\n",
    "from statsmodels.tsa.arima_model import ARIMA\n",
    "import matplotlib.pyplot as plt\n",
    "from pmdarima import auto_arima\n",
    "import math\n",
    "from sklearn.metrics import mean_squared_error, mean_absolute_error\n",
    "\n",
    "import pandas as pd\n",
    "import numpy as np\n",
    "\n",
    "from matplotlib import pyplot as plt\n",
    "\n",
    "from statsmodels.tsa.seasonal import seasonal_decompose\n",
    "from statsmodels.tsa.seasonal import seasonal_decompose \n",
    "\n",
    "from statsmodels.tsa.holtwinters import SimpleExpSmoothing   \n",
    "\n",
    "from statsmodels.tsa.holtwinters import ExponentialSmoothing"
   ]
  },
  {
   "cell_type": "code",
   "execution_count": 164,
   "metadata": {},
   "outputs": [],
   "source": [
    "path_occ = '~/Downloads/park-ride-rapperswil.csv'\n",
    "path_tickets = '~/Downloads/parkrail-sale-app.csv'"
   ]
  },
  {
   "cell_type": "code",
   "execution_count": 165,
   "metadata": {},
   "outputs": [],
   "source": [
    "true_occ = pd.read_csv(path_occ, sep=';')\n",
    "tickets = pd.read_csv(path_tickets, sep=';')"
   ]
  },
  {
   "cell_type": "code",
   "execution_count": 166,
   "metadata": {},
   "outputs": [],
   "source": [
    "tickets['start'] = pd.to_datetime(tickets['start'])\n",
    "tickets['end'] = pd.to_datetime(tickets['end'])"
   ]
  },
  {
   "cell_type": "code",
   "execution_count": 167,
   "metadata": {},
   "outputs": [],
   "source": [
    "tickets['start'] = tickets['start'].apply(lambda x: x.replace(tzinfo=None))\n",
    "tickets['end'] = tickets['end'].apply(lambda x: x.replace(tzinfo=None))"
   ]
  },
  {
   "cell_type": "code",
   "execution_count": 168,
   "metadata": {},
   "outputs": [],
   "source": [
    "TOTAL_SPACE = 180"
   ]
  },
  {
   "cell_type": "code",
   "execution_count": 169,
   "metadata": {},
   "outputs": [],
   "source": [
    "#############################################\n",
    "# Tickets Processing"
   ]
  },
  {
   "cell_type": "code",
   "execution_count": 170,
   "metadata": {},
   "outputs": [],
   "source": [
    "tickets = tickets.sort_values(by=\"start\") "
   ]
  },
  {
   "cell_type": "code",
   "execution_count": 171,
   "metadata": {},
   "outputs": [],
   "source": [
    "def rounder(t):\n",
    "    if t.minute >= 30:\n",
    "        try:\n",
    "            return t.replace(second=0, microsecond=0, minute=0, hour=t.hour+1)\n",
    "        except ValueError:\n",
    "            #return t.replace(day=t.day+1, second=0, microsecond=0, minute=0, hour=0)\n",
    "            t = t.replace(second=0, microsecond=0, minute=0, hour=0)\n",
    "            t = t+timedelta(hours=24)\n",
    "            return t\n",
    "    else:\n",
    "        return t.replace(second=0, microsecond=0, minute=0)"
   ]
  },
  {
   "cell_type": "code",
   "execution_count": 172,
   "metadata": {},
   "outputs": [],
   "source": [
    "d = {}\n",
    "for row in range(len(tickets)):\n",
    "    \n",
    "    td = tickets.iloc[row][1] - tickets.iloc[row][0]\n",
    "    hours = td.total_seconds() / 3600\n",
    "    \n",
    "    start = rounder(tickets.iloc[row][0])\n",
    "    for hour in range(int(hours+1)):\n",
    "        if start+timedelta(hours=hour) in d:\n",
    "            d[start+timedelta(hours=hour)] += 1\n",
    "        else:\n",
    "            d[start+timedelta(hours=hour)] = 1"
   ]
  },
  {
   "cell_type": "code",
   "execution_count": 173,
   "metadata": {},
   "outputs": [],
   "source": [
    "tickets_conv = pd.DataFrame(d.items(), columns=['date', 'occupancy_rate'])"
   ]
  },
  {
   "cell_type": "code",
   "execution_count": 175,
   "metadata": {},
   "outputs": [],
   "source": [
    "# Occupancy dataset from ticket sales\n",
    "tickets_conv['occupancy_rate'] = (tickets_conv['occupancy_rate'] / TOTAL_SPACE)*100"
   ]
  },
  {
   "cell_type": "code",
   "execution_count": 177,
   "metadata": {},
   "outputs": [],
   "source": [
    "#############################################"
   ]
  },
  {
   "cell_type": "code",
   "execution_count": 178,
   "metadata": {},
   "outputs": [],
   "source": [
    "#############################################\n",
    "# True occupancy processing"
   ]
  },
  {
   "cell_type": "code",
   "execution_count": 179,
   "metadata": {},
   "outputs": [],
   "source": [
    "true_occ['Datum'] = pd.to_datetime(true_occ['Datum'])"
   ]
  },
  {
   "cell_type": "code",
   "execution_count": 180,
   "metadata": {},
   "outputs": [],
   "source": [
    "true_occ = true_occ.rename(columns={'Datum': 'date', 'BELEGUNGSQUOTE (%)': 'occupancy_rate'})"
   ]
  },
  {
   "cell_type": "code",
   "execution_count": 181,
   "metadata": {},
   "outputs": [],
   "source": [
    "true_occ['date'] = true_occ['date'].apply(lambda x: x.replace(tzinfo=None))"
   ]
  },
  {
   "cell_type": "code",
   "execution_count": 182,
   "metadata": {},
   "outputs": [],
   "source": [
    "true_occ = true_occ.sort_values(by=\"date\")\n",
    "true_occ = true_occ.groupby(\"date\").mean()"
   ]
  },
  {
   "cell_type": "code",
   "execution_count": 183,
   "metadata": {},
   "outputs": [],
   "source": [
    "#############################################"
   ]
  },
  {
   "cell_type": "code",
   "execution_count": null,
   "metadata": {},
   "outputs": [],
   "source": []
  },
  {
   "cell_type": "code",
   "execution_count": 184,
   "metadata": {},
   "outputs": [],
   "source": [
    "#############################################\n",
    "# Add Gaussian Noise to simulate user inputs"
   ]
  },
  {
   "cell_type": "code",
   "execution_count": 185,
   "metadata": {},
   "outputs": [],
   "source": [
    "mu, sigma = 0, 5 \n",
    "# creating a noise with the same dimension as the dataset (2,2) \n",
    "noise = np.random.normal(mu, sigma, [len(true_occ),1]) \n",
    "\n",
    "user_input = true_occ + noise\n",
    "##########################################"
   ]
  },
  {
   "cell_type": "code",
   "execution_count": 186,
   "metadata": {},
   "outputs": [],
   "source": [
    "#############################################\n",
    "# Create training data"
   ]
  },
  {
   "cell_type": "code",
   "execution_count": null,
   "metadata": {},
   "outputs": [],
   "source": [
    "#############################################\n",
    "# Fill missing dates"
   ]
  },
  {
   "cell_type": "code",
   "execution_count": 188,
   "metadata": {},
   "outputs": [],
   "source": [
    "tickets_train = tickets_conv[tickets_conv['date']>=user_input.index[0]]\n",
    "tickets_train = tickets_train.groupby(\"date\").mean()\n",
    "\n",
    "user_input_train = user_input.loc[:tickets_train.index[-1]]"
   ]
  },
  {
   "cell_type": "code",
   "execution_count": 189,
   "metadata": {},
   "outputs": [],
   "source": [
    "user_input_train = user_input_train.reset_index()\n",
    "for i in range(1,len(user_input_train)):\n",
    "    if user_input_train.iloc[i]['date'] != user_input_train.iloc[i-1]['date']+timedelta(hours=1):\n",
    "        line = pd.DataFrame({\"date\": user_input_train.iloc[i-1]['date']+timedelta(hours=1),\"occupancy_rate\": user_input_train[\"occupancy_rate\"].quantile(.25)}, index=[i])\n",
    "        user_input_train = pd.concat([user_input_train.iloc[:i], line, user_input_train.iloc[i:]]).reset_index(drop=True)\n"
   ]
  },
  {
   "cell_type": "code",
   "execution_count": 190,
   "metadata": {},
   "outputs": [],
   "source": [
    "tickets_train = tickets_train.reset_index()\n",
    "for i in range(1,len(tickets_train)):\n",
    "    if tickets_train.iloc[i]['date'] != tickets_train.iloc[i-1]['date']+timedelta(hours=1):\n",
    "        line = pd.DataFrame({\"date\": tickets_train.iloc[i-1]['date']+timedelta(hours=1),\"occupancy_rate\": tickets_train.iloc[i-1]['occupancy_rate']}, index=[i])\n",
    "        tickets_train = pd.concat([tickets_train.iloc[:i], line, tickets_train.iloc[i:]]).reset_index(drop=True)"
   ]
  },
  {
   "cell_type": "code",
   "execution_count": 191,
   "metadata": {},
   "outputs": [],
   "source": [
    "user_input_train = user_input_train.groupby(\"date\").mean()\n",
    "tickets_train = tickets_train.groupby(\"date\").mean()"
   ]
  },
  {
   "cell_type": "code",
   "execution_count": 194,
   "metadata": {},
   "outputs": [],
   "source": [
    "#############################################"
   ]
  },
  {
   "cell_type": "code",
   "execution_count": 198,
   "metadata": {},
   "outputs": [],
   "source": [
    "train_data = user_input_train*0.7+user_input_train*0.3"
   ]
  },
  {
   "cell_type": "code",
   "execution_count": null,
   "metadata": {},
   "outputs": [],
   "source": []
  }
 ],
 "metadata": {
  "kernelspec": {
   "display_name": "Python 3",
   "language": "python",
   "name": "python3"
  },
  "language_info": {
   "codemirror_mode": {
    "name": "ipython",
    "version": 3
   },
   "file_extension": ".py",
   "mimetype": "text/x-python",
   "name": "python",
   "nbconvert_exporter": "python",
   "pygments_lexer": "ipython3",
   "version": "3.7.9"
  }
 },
 "nbformat": 4,
 "nbformat_minor": 4
}
