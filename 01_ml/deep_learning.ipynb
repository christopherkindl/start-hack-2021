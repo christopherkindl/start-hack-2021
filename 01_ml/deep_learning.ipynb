{
 "cells": [
  {
   "cell_type": "markdown",
   "metadata": {},
   "source": [
    "This notebook features the training and creation of a Long Short-Term Memory (LSTM) recurrent neural networks based on TensorFlow."
   ]
  },
  {
   "cell_type": "markdown",
   "metadata": {},
   "source": [
    "## 1. Dependencies"
   ]
  },
  {
   "cell_type": "code",
   "execution_count": 2,
   "metadata": {},
   "outputs": [],
   "source": [
    "# standard libraries\n",
    "from datetime import datetime\n",
    "import numpy as np\n",
    "import pandas as pd\n",
    "import time\n",
    "import os\n",
    "from math import sqrt\n",
    "\n",
    "# machine learning libraries\n",
    "from sklearn.compose import ColumnTransformer\n",
    "from sklearn.metrics import mean_squared_error\n",
    "from sklearn.metrics import mean_absolute_error\n",
    "from sklearn.model_selection import RandomizedSearchCV\n",
    "from sklearn.model_selection import TimeSeriesSplit\n",
    "from sklearn.pipeline import Pipeline\n",
    "from sklearn.preprocessing import MinMaxScaler\n",
    "from sklearn.preprocessing import LabelEncoder\n",
    "from sklearn.preprocessing import OneHotEncoder\n",
    "from sklearn.preprocessing import StandardScaler\n",
    "import xgboost as xgb\n",
    "\n",
    "# deep learning libraries\n",
    "from keras.models import Sequential\n",
    "from keras.layers import Dense\n",
    "from keras.layers import LSTM\n",
    "\n",
    "# display full output in Notebook, instead of only the last result\n",
    "from IPython.core.interactiveshell import InteractiveShell\n",
    "InteractiveShell.ast_node_interactivity = \"all\"\n",
    "\n",
    "import matplotlib.pyplot as plt"
   ]
  },
  {
   "cell_type": "markdown",
   "metadata": {},
   "source": [
    "## 2. Data Import"
   ]
  },
  {
   "cell_type": "markdown",
   "metadata": {},
   "source": [
    "source of test data: https://raw.githubusercontent.com/jbrownlee/Datasets/master/pollution.csv"
   ]
  },
  {
   "cell_type": "markdown",
   "metadata": {},
   "source": [
    "The complete feature list in the raw data is as follows:\n",
    "\n",
    "- No: row number\n",
    "- year: year of data in this row\n",
    "- month: month of data in this row\n",
    "- day: day of data in this row\n",
    "- hour: hour of data in this row\n",
    "- pm2.5: PM2.5 concentration\n",
    "- DEWP: Dew Point\n",
    "- TEMP: Temperature\n",
    "- PRES: Pressure\n",
    "- cbwd: Combined wind direction\n",
    "- Iws: Cumulated wind speed\n",
    "- Is: Cumulated hours of snow\n",
    "- Ir: Cumulated hours of rain"
   ]
  },
  {
   "cell_type": "code",
   "execution_count": 4,
   "metadata": {},
   "outputs": [],
   "source": [
    "# set path\n",
    "data_path = \"../00_data\""
   ]
  },
  {
   "cell_type": "code",
   "execution_count": 5,
   "metadata": {},
   "outputs": [],
   "source": [
    "# import test data\n",
    "df = pd.read_csv(os.path.join(data_path, \"test.csv\"), sep=\",\")"
   ]
  },
  {
   "cell_type": "markdown",
   "metadata": {},
   "source": [
    "## 3. Data Cleaning"
   ]
  },
  {
   "cell_type": "code",
   "execution_count": null,
   "metadata": {},
   "outputs": [],
   "source": [
    "# load data\n",
    "def parse(x):\n",
    "\treturn datetime.strptime(x, '%Y %m %d %H')\n",
    "\n",
    "dataset = pd.read_csv(os.path.join(data_path, \"test.csv\"),  parse_dates = [['year', 'month', 'day', 'hour']], index_col=0, date_parser=parse)\n",
    "dataset.drop('No', axis=1, inplace=True)\n",
    "\n",
    "# manually specify column names\n",
    "dataset.columns = ['pollution', 'dew', 'temp', 'press', 'wnd_dir', 'wnd_spd', 'snow', 'rain']\n",
    "dataset.index.name = 'date'\n",
    "\n",
    "# mark all NA values with 0\n",
    "dataset['pollution'].fillna(0, inplace=True)\n",
    "\n",
    "# drop the first 24 hours\n",
    "dataset = dataset[24:]\n",
    "\n",
    "# summarize first 5 rows\n",
    "print(dataset.head(5))\n",
    "\n",
    "# save to file\n",
    "dataset.to_csv(data_path + 'pollution.csv')"
   ]
  },
  {
   "cell_type": "markdown",
   "metadata": {},
   "source": [
    "## 4. Define and Fit Model"
   ]
  },
  {
   "cell_type": "markdown",
   "metadata": {},
   "source": [
    "We frame the supervised learning problem as predicting the pollution at the current hour (t) given the pollution measurement and weather conditions at the prior time step."
   ]
  },
  {
   "cell_type": "code",
   "execution_count": 69,
   "metadata": {},
   "outputs": [
    {
     "name": "stdout",
     "output_type": "stream",
     "text": [
      "   var1(t-1)  var2(t-1)  var3(t-1)  var4(t-1)  var5(t-1)  var6(t-1)  \\\n",
      "1   0.129779   0.352941   0.245902   0.527273   0.666667   0.002290   \n",
      "2   0.148893   0.367647   0.245902   0.527273   0.666667   0.003811   \n",
      "3   0.159960   0.426471   0.229508   0.545454   0.666667   0.005332   \n",
      "4   0.182093   0.485294   0.229508   0.563637   0.666667   0.008391   \n",
      "5   0.138833   0.485294   0.229508   0.563637   0.666667   0.009912   \n",
      "\n",
      "   var7(t-1)  var8(t-1)   var1(t)  \n",
      "1   0.000000        0.0  0.148893  \n",
      "2   0.000000        0.0  0.159960  \n",
      "3   0.000000        0.0  0.182093  \n",
      "4   0.037037        0.0  0.138833  \n",
      "5   0.074074        0.0  0.109658  \n"
     ]
    }
   ],
   "source": [
    "# convert series to supervised learning\n",
    "def series_to_supervised(data, n_in=1, n_out=1, dropnan=True):\n",
    "\tn_vars = 1 if type(data) is list else data.shape[1]\n",
    "\tdf = pd.DataFrame(data)\n",
    "\tcols, names = list(), list()\n",
    "\t# input sequence (t-n, ... t-1)\n",
    "\tfor i in range(n_in, 0, -1):\n",
    "\t\tcols.append(df.shift(i))\n",
    "\t\tnames += [('var%d(t-%d)' % (j+1, i)) for j in range(n_vars)]\n",
    "\t# forecast sequence (t, t+1, ... t+n)\n",
    "\tfor i in range(0, n_out):\n",
    "\t\tcols.append(df.shift(-i))\n",
    "\t\tif i == 0:\n",
    "\t\t\tnames += [('var%d(t)' % (j+1)) for j in range(n_vars)]\n",
    "\t\telse:\n",
    "\t\t\tnames += [('var%d(t+%d)' % (j+1, i)) for j in range(n_vars)]\n",
    "\t# put it all together\n",
    "\tagg = pd.concat(cols, axis=1)\n",
    "\tagg.columns = names\n",
    "\t# drop rows with NaN values\n",
    "\tif dropnan:\n",
    "\t\tagg.dropna(inplace=True)\n",
    "\treturn agg\n",
    " \n",
    "# load dataset\n",
    "dataset = pd.read_csv(data_path + 'pollution.csv', header=0, index_col=0)\n",
    "values = dataset.values\n",
    "# integer encode direction\n",
    "encoder = LabelEncoder()\n",
    "values[:,4] = encoder.fit_transform(values[:,4])\n",
    "# ensure all data is float\n",
    "values = values.astype('float32')\n",
    "# normalize features\n",
    "scaler = MinMaxScaler(feature_range=(0, 1))\n",
    "scaled = scaler.fit_transform(values)\n",
    "# frame as supervised learning\n",
    "reframed = series_to_supervised(scaled, 1, 1)\n",
    "# drop columns we don't want to predict\n",
    "reframed.drop(reframed.columns[[9,10,11,12,13,14,15]], axis=1, inplace=True)\n",
    "print(reframed.head())"
   ]
  },
  {
   "cell_type": "markdown",
   "metadata": {},
   "source": [
    "The example below splits the dataset into train and test sets, then splits the train and test sets into input and output variables. Finally, the inputs (X) are reshaped into the 3D format expected by LSTMs, namely [samples, timesteps, features]."
   ]
  },
  {
   "cell_type": "code",
   "execution_count": 70,
   "metadata": {},
   "outputs": [
    {
     "name": "stdout",
     "output_type": "stream",
     "text": [
      "(8760, 1, 8) (8760,) (35039, 1, 8) (35039,)\n"
     ]
    }
   ],
   "source": [
    "# split into train and test sets\n",
    "values = reframed.values\n",
    "n_train_hours = 365 * 24\n",
    "train = values[:n_train_hours, :]\n",
    "test = values[n_train_hours:, :]\n",
    "\n",
    "# split into input and outputs\n",
    "train_X, train_y = train[:, :-1], train[:, -1]\n",
    "test_X, test_y = test[:, :-1], test[:, -1]\n",
    "\n",
    "# reshape input to be 3D [samples, timesteps, features]\n",
    "train_X = train_X.reshape((train_X.shape[0], 1, train_X.shape[1]))\n",
    "test_X = test_X.reshape((test_X.shape[0], 1, test_X.shape[1]))\n",
    "print(train_X.shape, train_y.shape, test_X.shape, test_y.shape)"
   ]
  },
  {
   "cell_type": "markdown",
   "metadata": {},
   "source": [
    "We will define the LSTM with 50 neurons in the first hidden layer and 1 neuron in the output layer for predicting pollution. The input shape will be 1 time step with 8 features."
   ]
  },
  {
   "cell_type": "code",
   "execution_count": 71,
   "metadata": {},
   "outputs": [
    {
     "name": "stdout",
     "output_type": "stream",
     "text": [
      "Epoch 1/50\n",
      "122/122 - 3s - loss: 0.0593 - val_loss: 0.0548\n",
      "Epoch 2/50\n",
      "122/122 - 1s - loss: 0.0421 - val_loss: 0.0582\n",
      "Epoch 3/50\n",
      "122/122 - 1s - loss: 0.0274 - val_loss: 0.0505\n",
      "Epoch 4/50\n",
      "122/122 - 1s - loss: 0.0189 - val_loss: 0.0418\n",
      "Epoch 5/50\n",
      "122/122 - 1s - loss: 0.0163 - val_loss: 0.0280\n",
      "Epoch 6/50\n",
      "122/122 - 1s - loss: 0.0153 - val_loss: 0.0192\n",
      "Epoch 7/50\n",
      "122/122 - 1s - loss: 0.0149 - val_loss: 0.0162\n",
      "Epoch 8/50\n",
      "122/122 - 1s - loss: 0.0148 - val_loss: 0.0151\n",
      "Epoch 9/50\n",
      "122/122 - 1s - loss: 0.0147 - val_loss: 0.0149\n",
      "Epoch 10/50\n",
      "122/122 - 1s - loss: 0.0147 - val_loss: 0.0147\n",
      "Epoch 11/50\n",
      "122/122 - 1s - loss: 0.0147 - val_loss: 0.0147\n",
      "Epoch 12/50\n",
      "122/122 - 1s - loss: 0.0148 - val_loss: 0.0145\n",
      "Epoch 13/50\n",
      "122/122 - 1s - loss: 0.0147 - val_loss: 0.0143\n",
      "Epoch 14/50\n",
      "122/122 - 1s - loss: 0.0146 - val_loss: 0.0141\n",
      "Epoch 15/50\n",
      "122/122 - 1s - loss: 0.0147 - val_loss: 0.0140\n",
      "Epoch 16/50\n",
      "122/122 - 1s - loss: 0.0146 - val_loss: 0.0139\n",
      "Epoch 17/50\n",
      "122/122 - 1s - loss: 0.0146 - val_loss: 0.0137\n",
      "Epoch 18/50\n",
      "122/122 - 1s - loss: 0.0146 - val_loss: 0.0137\n",
      "Epoch 19/50\n",
      "122/122 - 1s - loss: 0.0147 - val_loss: 0.0139\n",
      "Epoch 20/50\n",
      "122/122 - 1s - loss: 0.0149 - val_loss: 0.0135\n",
      "Epoch 21/50\n",
      "122/122 - 1s - loss: 0.0146 - val_loss: 0.0136\n",
      "Epoch 22/50\n",
      "122/122 - 1s - loss: 0.0146 - val_loss: 0.0135\n",
      "Epoch 23/50\n",
      "122/122 - 1s - loss: 0.0147 - val_loss: 0.0137\n",
      "Epoch 24/50\n",
      "122/122 - 1s - loss: 0.0146 - val_loss: 0.0138\n",
      "Epoch 25/50\n",
      "122/122 - 1s - loss: 0.0146 - val_loss: 0.0135\n",
      "Epoch 26/50\n",
      "122/122 - 1s - loss: 0.0144 - val_loss: 0.0134\n",
      "Epoch 27/50\n",
      "122/122 - 1s - loss: 0.0145 - val_loss: 0.0135\n",
      "Epoch 28/50\n",
      "122/122 - 1s - loss: 0.0145 - val_loss: 0.0135\n",
      "Epoch 29/50\n",
      "122/122 - 1s - loss: 0.0145 - val_loss: 0.0137\n",
      "Epoch 30/50\n",
      "122/122 - 1s - loss: 0.0147 - val_loss: 0.0137\n",
      "Epoch 31/50\n",
      "122/122 - 1s - loss: 0.0144 - val_loss: 0.0134\n",
      "Epoch 32/50\n",
      "122/122 - 1s - loss: 0.0145 - val_loss: 0.0135\n",
      "Epoch 33/50\n",
      "122/122 - 1s - loss: 0.0146 - val_loss: 0.0135\n",
      "Epoch 34/50\n",
      "122/122 - 1s - loss: 0.0145 - val_loss: 0.0137\n",
      "Epoch 35/50\n",
      "122/122 - 1s - loss: 0.0147 - val_loss: 0.0135\n",
      "Epoch 36/50\n",
      "122/122 - 1s - loss: 0.0144 - val_loss: 0.0134\n",
      "Epoch 37/50\n",
      "122/122 - 1s - loss: 0.0144 - val_loss: 0.0133\n",
      "Epoch 38/50\n",
      "122/122 - 1s - loss: 0.0145 - val_loss: 0.0133\n",
      "Epoch 39/50\n",
      "122/122 - 1s - loss: 0.0146 - val_loss: 0.0134\n",
      "Epoch 40/50\n",
      "122/122 - 1s - loss: 0.0145 - val_loss: 0.0134\n",
      "Epoch 41/50\n",
      "122/122 - 1s - loss: 0.0145 - val_loss: 0.0134\n",
      "Epoch 42/50\n",
      "122/122 - 1s - loss: 0.0144 - val_loss: 0.0134\n",
      "Epoch 43/50\n",
      "122/122 - 1s - loss: 0.0144 - val_loss: 0.0133\n",
      "Epoch 44/50\n",
      "122/122 - 1s - loss: 0.0145 - val_loss: 0.0134\n",
      "Epoch 45/50\n",
      "122/122 - 1s - loss: 0.0143 - val_loss: 0.0133\n",
      "Epoch 46/50\n",
      "122/122 - 1s - loss: 0.0144 - val_loss: 0.0133\n",
      "Epoch 47/50\n",
      "122/122 - 1s - loss: 0.0143 - val_loss: 0.0133\n",
      "Epoch 48/50\n",
      "122/122 - 1s - loss: 0.0144 - val_loss: 0.0133\n",
      "Epoch 49/50\n",
      "122/122 - 1s - loss: 0.0143 - val_loss: 0.0133\n",
      "Epoch 50/50\n",
      "122/122 - 1s - loss: 0.0143 - val_loss: 0.0133\n"
     ]
    },
    {
     "data": {
      "text/plain": [
       "[<matplotlib.lines.Line2D at 0x10bedf0d0>]"
      ]
     },
     "execution_count": 71,
     "metadata": {},
     "output_type": "execute_result"
    },
    {
     "data": {
      "text/plain": [
       "[<matplotlib.lines.Line2D at 0x10bedf4f0>]"
      ]
     },
     "execution_count": 71,
     "metadata": {},
     "output_type": "execute_result"
    },
    {
     "data": {
      "text/plain": [
       "<matplotlib.legend.Legend at 0x10bedf7c0>"
      ]
     },
     "execution_count": 71,
     "metadata": {},
     "output_type": "execute_result"
    },
    {
     "data": {
      "image/png": "[encoded data removed]",
      "text/plain": [
       "<Figure size 432x288 with 1 Axes>"
      ]
     },
     "metadata": {
      "needs_background": "light"
     },
     "output_type": "display_data"
    }
   ],
   "source": [
    "# design network\n",
    "model = Sequential()\n",
    "model.add(LSTM(50, input_shape=(train_X.shape[1], train_X.shape[2])))\n",
    "model.add(Dense(1))\n",
    "model.compile(loss='mae', optimizer='adam')\n",
    "# fit network\n",
    "history = model.fit(train_X, train_y, epochs=50, batch_size=72, validation_data=(test_X, test_y), verbose=2, shuffle=False)\n",
    "# plot history\n",
    "plt.plot(history.history['loss'], label='train')\n",
    "plt.plot(history.history['val_loss'], label='test')\n",
    "plt.legend()\n",
    "plt.show()"
   ]
  },
  {
   "cell_type": "markdown",
   "metadata": {},
   "source": [
    "## 5. Evaluate Model"
   ]
  },
  {
   "cell_type": "code",
   "execution_count": 64,
   "metadata": {},
   "outputs": [
    {
     "name": "stdout",
     "output_type": "stream",
     "text": [
      "Test RMSE: 26.485\n"
     ]
    }
   ],
   "source": [
    "# make prediction\n",
    "yhat = model.predict(test_X)\n",
    "test_X = test_X.reshape((test_X.shape[0], test_X.shape[2]))\n",
    "\n",
    "# invert scaling for forecast\n",
    "inv_yhat = np.concatenate((yhat, test_X[:, 1:]), axis=1)\n",
    "inv_yhat = scaler.inverse_transform(inv_yhat)\n",
    "inv_yhat = inv_yhat[:,0]\n",
    "\n",
    "# invert scaling for actual\n",
    "test_y = test_y.reshape((len(test_y), 1))\n",
    "inv_y = np.concatenate((test_y, test_X[:, 1:]), axis=1)\n",
    "inv_y = scaler.inverse_transform(inv_y)\n",
    "inv_y = inv_y[:,0]\n",
    "\n",
    "# calculate RMSE\n",
    "rmse = sqrt(mean_squared_error(inv_y, inv_yhat))\n",
    "print('Test RMSE: %.3f' % rmse)"
   ]
  }
 ],
 "metadata": {
  "kernelspec": {
   "display_name": "Python 3",
   "language": "python",
   "name": "python3"
  },
  "language_info": {
   "codemirror_mode": {
    "name": "ipython",
    "version": 3
   },
   "file_extension": ".py",
   "mimetype": "text/x-python",
   "name": "python",
   "nbconvert_exporter": "python",
   "pygments_lexer": "ipython3",
   "version": "3.8.3"
  }
 },
 "nbformat": 4,
 "nbformat_minor": 4
}
