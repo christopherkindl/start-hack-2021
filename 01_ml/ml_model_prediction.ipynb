{
 "cells": [
  {
   "cell_type": "code",
   "execution_count": null,
   "metadata": {},
   "outputs": [],
   "source": [
    "!pip install fbprophet"
   ]
  },
  {
   "cell_type": "code",
   "execution_count": 485,
   "metadata": {},
   "outputs": [],
   "source": [
    "import pandas as pd\n",
    "\n",
    "import datetime\n",
    "from datetime import timedelta\n",
    "\n",
    "from statsmodels.tsa.arima_model import ARIMA\n",
    "import matplotlib.pyplot as plt\n",
    "from pmdarima import auto_arima\n",
    "import math\n",
    "from sklearn.metrics import mean_squared_error, mean_absolute_error\n",
    "from sklearn import preprocessing\n",
    "\n",
    "import pandas as pd\n",
    "import numpy as np\n",
    "\n",
    "from matplotlib import pyplot as plt\n",
    "\n",
    "from statsmodels.tsa.seasonal import seasonal_decompose\n",
    "from statsmodels.tsa.seasonal import seasonal_decompose \n",
    "\n",
    "from statsmodels.tsa.holtwinters import SimpleExpSmoothing   \n",
    "\n",
    "from statsmodels.tsa.holtwinters import ExponentialSmoothing\n",
    "from fbprophet import Prophet\n",
    "\n",
    "\n",
    "import time"
   ]
  },
  {
   "cell_type": "code",
   "execution_count": 486,
   "metadata": {},
   "outputs": [],
   "source": [
    "path_occ = '~/Downloads/park-ride-rapperswil.csv'\n",
    "path_tickets = '~/Downloads/parkrail-sale-app.csv'"
   ]
  },
  {
   "cell_type": "code",
   "execution_count": 487,
   "metadata": {},
   "outputs": [],
   "source": [
    "true_occ = pd.read_csv(path_occ, sep=';')\n",
    "tickets = pd.read_csv(path_tickets, sep=';')"
   ]
  },
  {
   "cell_type": "code",
   "execution_count": 488,
   "metadata": {},
   "outputs": [],
   "source": [
    "start_time = time.time()"
   ]
  },
  {
   "cell_type": "code",
   "execution_count": 489,
   "metadata": {},
   "outputs": [],
   "source": [
    "tickets['start'] = pd.to_datetime(tickets['start'])\n",
    "tickets['end'] = pd.to_datetime(tickets['end'])\n",
    "\n",
    "tickets['start'] = tickets['start'].apply(lambda x: x.replace(tzinfo=None))\n",
    "tickets['end'] = tickets['end'].apply(lambda x: x.replace(tzinfo=None))\n",
    "\n",
    "TOTAL_SPACE = 180\n",
    "\n",
    "#############################################\n",
    "# Tickets Processing\n",
    "\n",
    "tickets = tickets.sort_values(by=\"start\") \n",
    "\n",
    "def rounder(t):\n",
    "    if t.minute >= 30:\n",
    "        try:\n",
    "            return t.replace(second=0, microsecond=0, minute=0, hour=t.hour+1)\n",
    "        except ValueError:\n",
    "            #return t.replace(day=t.day+1, second=0, microsecond=0, minute=0, hour=0)\n",
    "            t = t.replace(second=0, microsecond=0, minute=0, hour=0)\n",
    "            t = t+timedelta(hours=24)\n",
    "            return t\n",
    "    else:\n",
    "        return t.replace(second=0, microsecond=0, minute=0)\n",
    "\n",
    "d = {}\n",
    "for row in range(len(tickets)):\n",
    "    \n",
    "    td = tickets.iloc[row][1] - tickets.iloc[row][0]\n",
    "    hours = td.total_seconds() / 3600\n",
    "    \n",
    "    start = rounder(tickets.iloc[row][0])\n",
    "    for hour in range(int(hours+1)):\n",
    "        if start+timedelta(hours=hour) in d:\n",
    "            d[start+timedelta(hours=hour)] += 1\n",
    "        else:\n",
    "            d[start+timedelta(hours=hour)] = 1\n",
    "\n",
    "tickets_conv = pd.DataFrame(d.items(), columns=['date', 'occupancy_rate'])\n",
    "\n",
    "# Occupancy dataset from ticket sales\n",
    "tickets_conv['occupancy_rate'] = (tickets_conv['occupancy_rate'] / TOTAL_SPACE)*100\n",
    "\n",
    "tickets_conv = tickets_conv.groupby(\"date\").mean()\n",
    "\n",
    "#############################################\n",
    "\n",
    "#############################################\n",
    "# True occupancy processing\n",
    "\n",
    "true_occ['Datum'] = pd.to_datetime(true_occ['Datum'])\n",
    "\n",
    "true_occ = true_occ.rename(columns={'Datum': 'date', 'BELEGUNGSQUOTE (%)': 'occupancy_rate'})\n",
    "\n",
    "true_occ['date'] = true_occ['date'].apply(lambda x: x.replace(tzinfo=None))\n",
    "\n",
    "true_occ = true_occ.sort_values(by=\"date\")\n",
    "true_occ = true_occ.groupby(\"date\").mean()\n",
    "\n",
    "#############################################\n",
    "\n",
    "\n",
    "\n",
    "#############################################\n",
    "# Add Gaussian Noise to simulate user inputs\n",
    "\n",
    "mu, sigma = 0, 5 \n",
    "# creating a noise with the same dimension as the dataset (2,2) \n",
    "noise = np.random.normal(mu, sigma, [len(true_occ),1]) \n",
    "\n",
    "user_input = true_occ + noise\n",
    "##########################################\n",
    "\n",
    "#############################################\n",
    "# Fill missing dates\n",
    "\n",
    "user_input = user_input.reset_index()\n",
    "i = 1\n",
    "while user_input.iloc[i]['date'] < user_input.iloc[-1]['date']:\n",
    "    if user_input.iloc[i]['date'] != user_input.iloc[i-1]['date']+timedelta(hours=1):\n",
    "        line = pd.DataFrame({\"date\": user_input.iloc[i-1]['date']+timedelta(hours=1),\"occupancy_rate\": user_input[\"occupancy_rate\"].quantile(.25)}, index=[i])\n",
    "        user_input = pd.concat([user_input.iloc[:i], line, user_input.iloc[i:]]).reset_index(drop=True)\n",
    "    i+=1\n",
    "\n",
    "\n",
    "tickets_conv = tickets_conv.reset_index()\n",
    "i = 1\n",
    "while tickets_conv.iloc[i]['date'] < tickets_conv.iloc[-1]['date']:\n",
    "    if tickets_conv.iloc[i]['date'] != tickets_conv.iloc[i-1]['date']+timedelta(hours=1):\n",
    "        line = pd.DataFrame({\"date\": tickets_conv.iloc[i-1]['date']+timedelta(hours=1),\"occupancy_rate\": tickets_conv.iloc[i-1]['occupancy_rate']}, index=[i])\n",
    "        tickets_conv = pd.concat([tickets_conv.iloc[:i], line, tickets_conv.iloc[i:]]).reset_index(drop=True)\n",
    "    i+=1\n",
    "\n",
    "user_input = user_input.groupby(\"date\").mean()\n",
    "tickets_conv = tickets_conv.groupby(\"date\").mean()\n",
    "\n",
    "#############################################\n",
    "\n",
    "#############################################\n",
    "# Create training data\n",
    "\n",
    "start = max(user_input.index[0], tickets_conv.index[0])\n",
    "end = min(user_input.index[-1], tickets_conv.index[-1])\n",
    "\n",
    "user_input_train = user_input[start:end]\n",
    "tickets_train = tickets_conv[start:end]\n",
    "\n",
    "train_data = (user_input_train*0.7)+(tickets_train*5*0.3)\n",
    "\n",
    "#############################################\n",
    "\n",
    "#############################################\n",
    "# Create training data\n",
    "\n",
    "train_data['occupancy_rate'] = train_data['occupancy_rate'].apply(lambda x: 0 if x < 0 else x)\n",
    "#train_data['occupancy_rate'] = train_data['occupancy_rate'].apply(lambda x: 100.0 if x > 100.0 else x)\n",
    "\n",
    "train_data_hw = train_data.iloc[:]\n",
    "train_data['occupancy_rate'] = train_data['occupancy_rate'].apply(lambda x: 0.5 if x == 0 else x)\n",
    "\n",
    "#train_hw = ExponentialSmoothing(train_data_hw['occupancy_rate'],\n",
    "#                                            trend=None,seasonal='mul',seasonal_periods=24).fit()\n",
    "\n",
    "#pred = train_hw.forecast(7*24)\n",
    "\n",
    "model = Prophet()\n",
    "model.fit(train_data_hw.reset_index().rename(columns={'date':'ds', 'occupancy_rate': 'y'}))\n",
    "\n",
    "# Create dummy test set\n",
    "ds = []\n",
    "sdate = train_data_hw.index[-1]\n",
    "for i in range(1,(24*7)+1):\n",
    "    ds.append(sdate+timedelta(hours=i))\n",
    "\n",
    "y = [0]*(24*7)\n",
    "test = pd.DataFrame({'ds':ds, 'y':y})\n",
    "\n",
    "pred = model.predict(inp)\n",
    "\n",
    "x = pred['yhat'].values #returns a numpy array\n",
    "min_max_scaler = preprocessing.MinMaxScaler()\n",
    "x_scaled = min_max_scaler.fit_transform(x.reshape(-1, 1))\n",
    "\n",
    "df = pd.DataFrame(x_scaled)\n",
    "\n",
    "out = pd.DataFrame({'date':inp.ds, 'occupancy_rate':df[0]})"
   ]
  },
  {
   "cell_type": "code",
   "execution_count": 528,
   "metadata": {},
   "outputs": [
    {
     "name": "stdout",
     "output_type": "stream",
     "text": [
      "--- 18.29501700401306 seconds ---\n"
     ]
    }
   ],
   "source": [
    "print(\"--- %s seconds ---\" % (time.time() - start_time))"
   ]
  },
  {
   "cell_type": "markdown",
   "metadata": {},
   "source": [
    "## END"
   ]
  },
  {
   "cell_type": "code",
   "execution_count": 529,
   "metadata": {},
   "outputs": [],
   "source": [
    "#################################\n",
    "# Check accuracy"
   ]
  },
  {
   "cell_type": "code",
   "execution_count": 530,
   "metadata": {},
   "outputs": [],
   "source": [
    "test = true_occ[end:] "
   ]
  },
  {
   "cell_type": "code",
   "execution_count": 531,
   "metadata": {
    "scrolled": true
   },
   "outputs": [
    {
     "name": "stderr",
     "output_type": "stream",
     "text": [
      "/opt/anaconda3/lib/python3.7/site-packages/ipykernel_launcher.py:1: SettingWithCopyWarning: \n",
      "A value is trying to be set on a copy of a slice from a DataFrame.\n",
      "Try using .loc[row_indexer,col_indexer] = value instead\n",
      "\n",
      "See the caveats in the documentation: https://pandas.pydata.org/pandas-docs/stable/user_guide/indexing.html#returning-a-view-versus-a-copy\n",
      "  \"\"\"Entry point for launching an IPython kernel.\n"
     ]
    }
   ],
   "source": [
    "test['occupancy_rate'] = test['occupancy_rate']/100"
   ]
  },
  {
   "cell_type": "code",
   "execution_count": 532,
   "metadata": {
    "scrolled": false
   },
   "outputs": [
    {
     "name": "stderr",
     "output_type": "stream",
     "text": [
      "/opt/anaconda3/lib/python3.7/site-packages/ipykernel_launcher.py:1: SettingWithCopyWarning: \n",
      "A value is trying to be set on a copy of a slice from a DataFrame.\n",
      "Try using .loc[row_indexer,col_indexer] = value instead\n",
      "\n",
      "See the caveats in the documentation: https://pandas.pydata.org/pandas-docs/stable/user_guide/indexing.html#returning-a-view-versus-a-copy\n",
      "  \"\"\"Entry point for launching an IPython kernel.\n"
     ]
    }
   ],
   "source": [
    "test['pred'] = list(out['occupancy_rate'])[:len(test)]"
   ]
  },
  {
   "cell_type": "code",
   "execution_count": 534,
   "metadata": {},
   "outputs": [
    {
     "data": {
      "text/plain": [
       "<AxesSubplot:>"
      ]
     },
     "execution_count": 534,
     "metadata": {},
     "output_type": "execute_result"
    },
    {
     "data": {
      "image/png": "[encoded data removed]",
      "text/plain": [
       "<Figure size 432x288 with 1 Axes>"
      ]
     },
     "metadata": {
      "needs_background": "light"
     },
     "output_type": "display_data"
    }
   ],
   "source": [
    "df[0].plot()"
   ]
  },
  {
   "cell_type": "code",
   "execution_count": 533,
   "metadata": {
    "scrolled": true
   },
   "outputs": [
    {
     "data": {
      "text/plain": [
       "<AxesSubplot:xlabel='date'>"
      ]
     },
     "execution_count": 533,
     "metadata": {},
     "output_type": "execute_result"
    },
    {
     "data": {
      "image/png": "[encoded data removed]",
      "text/plain": [
       "<Figure size 432x288 with 1 Axes>"
      ]
     },
     "metadata": {
      "needs_background": "light"
     },
     "output_type": "display_data"
    }
   ],
   "source": [
    "test.plot()"
   ]
  },
  {
   "cell_type": "code",
   "execution_count": null,
   "metadata": {},
   "outputs": [],
   "source": []
  },
  {
   "cell_type": "code",
   "execution_count": null,
   "metadata": {},
   "outputs": [],
   "source": []
  },
  {
   "cell_type": "code",
   "execution_count": null,
   "metadata": {},
   "outputs": [],
   "source": []
  }
 ],
 "metadata": {
  "kernelspec": {
   "display_name": "Python 3",
   "language": "python",
   "name": "python3"
  },
  "language_info": {
   "codemirror_mode": {
    "name": "ipython",
    "version": 3
   },
   "file_extension": ".py",
   "mimetype": "text/x-python",
   "name": "python",
   "nbconvert_exporter": "python",
   "pygments_lexer": "ipython3",
   "version": "3.7.9"
  }
 },
 "nbformat": 4,
 "nbformat_minor": 4
}
