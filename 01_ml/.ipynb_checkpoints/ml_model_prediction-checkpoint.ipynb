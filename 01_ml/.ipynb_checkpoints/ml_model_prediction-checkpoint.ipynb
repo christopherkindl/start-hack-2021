{
 "cells": [
  {
   "cell_type": "code",
   "execution_count": null,
   "metadata": {},
   "outputs": [],
   "source": [
    "!pip install fbprophet"
   ]
  },
  {
   "cell_type": "code",
   "execution_count": 1,
   "metadata": {},
   "outputs": [
    {
     "name": "stderr",
     "output_type": "stream",
     "text": [
      "Importing plotly failed. Interactive plots will not work.\n"
     ]
    }
   ],
   "source": [
    "import pandas as pd\n",
    "\n",
    "import datetime\n",
    "from datetime import timedelta\n",
    "\n",
    "from statsmodels.tsa.arima_model import ARIMA\n",
    "import matplotlib.pyplot as plt\n",
    "from pmdarima import auto_arima\n",
    "import math\n",
    "from sklearn.metrics import mean_squared_error, mean_absolute_error\n",
    "from sklearn import preprocessing\n",
    "\n",
    "import pandas as pd\n",
    "import numpy as np\n",
    "\n",
    "from matplotlib import pyplot as plt\n",
    "\n",
    "from statsmodels.tsa.seasonal import seasonal_decompose\n",
    "from statsmodels.tsa.seasonal import seasonal_decompose \n",
    "\n",
    "from statsmodels.tsa.holtwinters import SimpleExpSmoothing   \n",
    "\n",
    "from statsmodels.tsa.holtwinters import ExponentialSmoothing\n",
    "from fbprophet import Prophet\n",
    "\n",
    "import time"
   ]
  },
  {
   "cell_type": "code",
   "execution_count": 2,
   "metadata": {},
   "outputs": [],
   "source": [
    "path_occ = '~/Downloads/park-ride-rapperswil.csv'\n",
    "path_tickets = '~/Downloads/parkrail-sale-app.csv'"
   ]
  },
  {
   "cell_type": "code",
   "execution_count": 3,
   "metadata": {},
   "outputs": [],
   "source": [
    "true_occ = pd.read_csv(path_occ, sep=';')\n",
    "tickets = pd.read_csv(path_tickets, sep=';')"
   ]
  },
  {
   "cell_type": "code",
   "execution_count": 4,
   "metadata": {},
   "outputs": [],
   "source": [
    "start_time = time.time()"
   ]
  },
  {
   "cell_type": "code",
   "execution_count": 5,
   "metadata": {},
   "outputs": [
    {
     "name": "stderr",
     "output_type": "stream",
     "text": [
      "INFO:fbprophet:Disabling yearly seasonality. Run prophet with yearly_seasonality=True to override this.\n"
     ]
    }
   ],
   "source": [
    "tickets['start'] = pd.to_datetime(tickets['start'])\n",
    "tickets['end'] = pd.to_datetime(tickets['end'])\n",
    "\n",
    "tickets['start'] = tickets['start'].apply(lambda x: x.replace(tzinfo=None))\n",
    "tickets['end'] = tickets['end'].apply(lambda x: x.replace(tzinfo=None))\n",
    "\n",
    "TOTAL_SPACE = 180\n",
    "\n",
    "#############################################\n",
    "# Tickets Processing\n",
    "\n",
    "tickets = tickets.sort_values(by=\"start\") \n",
    "\n",
    "def rounder(t):\n",
    "    if t.minute >= 30:\n",
    "        try:\n",
    "            return t.replace(second=0, microsecond=0, minute=0, hour=t.hour+1)\n",
    "        except ValueError:\n",
    "            #return t.replace(day=t.day+1, second=0, microsecond=0, minute=0, hour=0)\n",
    "            t = t.replace(second=0, microsecond=0, minute=0, hour=0)\n",
    "            t = t+timedelta(hours=24)\n",
    "            return t\n",
    "    else:\n",
    "        return t.replace(second=0, microsecond=0, minute=0)\n",
    "\n",
    "d = {}\n",
    "for row in range(len(tickets)):\n",
    "    \n",
    "    td = tickets.iloc[row][1] - tickets.iloc[row][0]\n",
    "    hours = td.total_seconds() / 3600\n",
    "    \n",
    "    start = rounder(tickets.iloc[row][0])\n",
    "    for hour in range(int(hours+1)):\n",
    "        if start+timedelta(hours=hour) in d:\n",
    "            d[start+timedelta(hours=hour)] += 1\n",
    "        else:\n",
    "            d[start+timedelta(hours=hour)] = 1\n",
    "\n",
    "tickets_conv = pd.DataFrame(d.items(), columns=['date', 'occupancy_rate'])\n",
    "\n",
    "# Occupancy dataset from ticket sales\n",
    "tickets_conv['occupancy_rate'] = (tickets_conv['occupancy_rate'] / TOTAL_SPACE)*100\n",
    "\n",
    "tickets_conv = tickets_conv.groupby(\"date\").mean()\n",
    "\n",
    "#############################################\n",
    "\n",
    "#############################################\n",
    "# True occupancy processing\n",
    "\n",
    "true_occ['Datum'] = pd.to_datetime(true_occ['Datum'])\n",
    "\n",
    "true_occ = true_occ.rename(columns={'Datum': 'date', 'BELEGUNGSQUOTE (%)': 'occupancy_rate'})\n",
    "\n",
    "true_occ['date'] = true_occ['date'].apply(lambda x: x.replace(tzinfo=None))\n",
    "\n",
    "true_occ = true_occ.sort_values(by=\"date\")\n",
    "true_occ = true_occ.groupby(\"date\").mean()\n",
    "\n",
    "#############################################\n",
    "\n",
    "\n",
    "\n",
    "#############################################\n",
    "# Add Gaussian Noise to simulate user inputs\n",
    "\n",
    "mu, sigma = 0, 5 \n",
    "# creating a noise with the same dimension as the dataset (2,2) \n",
    "noise = np.random.normal(mu, sigma, [len(true_occ),1]) \n",
    "\n",
    "user_input = true_occ + noise\n",
    "##########################################\n",
    "\n",
    "#############################################\n",
    "# Fill missing dates\n",
    "\n",
    "user_input = user_input.reset_index()\n",
    "i = 1\n",
    "while user_input.iloc[i]['date'] < user_input.iloc[-1]['date']:\n",
    "    if user_input.iloc[i]['date'] != user_input.iloc[i-1]['date']+timedelta(hours=1):\n",
    "        line = pd.DataFrame({\"date\": user_input.iloc[i-1]['date']+timedelta(hours=1),\"occupancy_rate\": user_input[\"occupancy_rate\"].quantile(.25)}, index=[i])\n",
    "        user_input = pd.concat([user_input.iloc[:i], line, user_input.iloc[i:]]).reset_index(drop=True)\n",
    "    i+=1\n",
    "\n",
    "\n",
    "tickets_conv = tickets_conv.reset_index()\n",
    "i = 1\n",
    "while tickets_conv.iloc[i]['date'] < tickets_conv.iloc[-1]['date']:\n",
    "    if tickets_conv.iloc[i]['date'] != tickets_conv.iloc[i-1]['date']+timedelta(hours=1):\n",
    "        line = pd.DataFrame({\"date\": tickets_conv.iloc[i-1]['date']+timedelta(hours=1),\"occupancy_rate\": tickets_conv.iloc[i-1]['occupancy_rate']}, index=[i])\n",
    "        tickets_conv = pd.concat([tickets_conv.iloc[:i], line, tickets_conv.iloc[i:]]).reset_index(drop=True)\n",
    "    i+=1\n",
    "\n",
    "user_input = user_input.groupby(\"date\").mean()\n",
    "tickets_conv = tickets_conv.groupby(\"date\").mean()\n",
    "\n",
    "#############################################\n",
    "\n",
    "#############################################\n",
    "# Create training data\n",
    "\n",
    "start = max(user_input.index[0], tickets_conv.index[0])\n",
    "end = min(user_input.index[-1], tickets_conv.index[-1])\n",
    "\n",
    "user_input_train = user_input[start:end]\n",
    "tickets_train = tickets_conv[start:end]\n",
    "\n",
    "train_data = (user_input_train*0.7)+(tickets_train*5*0.3)\n",
    "\n",
    "#############################################\n",
    "\n",
    "#############################################\n",
    "# Create training data\n",
    "\n",
    "train_data['occupancy_rate'] = train_data['occupancy_rate'].apply(lambda x: 0 if x < 0 else x)\n",
    "#train_data['occupancy_rate'] = train_data['occupancy_rate'].apply(lambda x: 100.0 if x > 100.0 else x)\n",
    "\n",
    "train_data_hw = train_data.iloc[:]\n",
    "train_data['occupancy_rate'] = train_data['occupancy_rate'].apply(lambda x: 0.5 if x == 0 else x)\n",
    "\n",
    "#train_hw = ExponentialSmoothing(train_data_hw['occupancy_rate'],\n",
    "#                                            trend=None,seasonal='mul',seasonal_periods=24).fit()\n",
    "\n",
    "#pred = train_hw.forecast(7*24)\n",
    "\n",
    "model = Prophet()\n",
    "model.fit(train_data_hw.reset_index().rename(columns={'date':'ds', 'occupancy_rate': 'y'}))\n",
    "\n",
    "# Create dummy test set\n",
    "ds = []\n",
    "sdate = train_data_hw.index[-1]\n",
    "for i in range(1,(24*7)+1):\n",
    "    ds.append(sdate+timedelta(hours=i))\n",
    "\n",
    "y = [0]*(24*7)\n",
    "inp = pd.DataFrame({'ds':ds, 'y':y})\n",
    "\n",
    "pred = model.predict(inp)\n",
    "\n",
    "x = pred['yhat'].values #returns a numpy array\n",
    "min_max_scaler = preprocessing.MinMaxScaler()\n",
    "x_scaled = min_max_scaler.fit_transform(x.reshape(-1, 1))\n",
    "\n",
    "df = pd.DataFrame(x_scaled)\n",
    "\n",
    "out = pd.DataFrame({'date':inp.ds, 'occupancy_rate':df[0]})"
   ]
  },
  {
   "cell_type": "code",
   "execution_count": null,
   "metadata": {},
   "outputs": [],
   "source": [
    "out_dt = out.iloc[:]\n",
    "out_dt['ndate'] = [d.date() for d in out_dt['date']]\n",
    "out_dt['time'] = [d.time() for d in out_dt['date']]"
   ]
  },
  {
   "cell_type": "code",
   "execution_count": null,
   "metadata": {},
   "outputs": [],
   "source": [
    "mean_squared_error()"
   ]
  },
  {
   "cell_type": "code",
   "execution_count": null,
   "metadata": {
    "scrolled": true
   },
   "outputs": [],
   "source": [
    "out_dt"
   ]
  },
  {
   "cell_type": "code",
   "execution_count": null,
   "metadata": {},
   "outputs": [],
   "source": [
    "test"
   ]
  },
  {
   "cell_type": "code",
   "execution_count": null,
   "metadata": {},
   "outputs": [],
   "source": [
    "print(\"--- %s seconds ---\" % (time.time() - start_time))"
   ]
  },
  {
   "cell_type": "markdown",
   "metadata": {},
   "source": [
    "## END"
   ]
  },
  {
   "cell_type": "code",
   "execution_count": null,
   "metadata": {},
   "outputs": [],
   "source": [
    "test"
   ]
  },
  {
   "cell_type": "code",
   "execution_count": null,
   "metadata": {},
   "outputs": [],
   "source": []
  },
  {
   "cell_type": "code",
   "execution_count": null,
   "metadata": {},
   "outputs": [],
   "source": [
    "mean_squared_error(test['occupancy_rate'], out['occupancy_rate'].iloc[:85])"
   ]
  },
  {
   "cell_type": "code",
   "execution_count": 6,
   "metadata": {},
   "outputs": [],
   "source": [
    "test = out.iloc[:]"
   ]
  },
  {
   "cell_type": "code",
   "execution_count": 9,
   "metadata": {},
   "outputs": [
    {
     "data": {
      "text/plain": [
       "Timestamp('2021-02-24 13:00:00')"
      ]
     },
     "execution_count": 9,
     "metadata": {},
     "output_type": "execute_result"
    }
   ],
   "source": [
    "out.date[0]"
   ]
  },
  {
   "cell_type": "code",
   "execution_count": 14,
   "metadata": {},
   "outputs": [
    {
     "data": {
      "text/html": [
       "<div>\n",
       "<style scoped>\n",
       "    .dataframe tbody tr th:only-of-type {\n",
       "        vertical-align: middle;\n",
       "    }\n",
       "\n",
       "    .dataframe tbody tr th {\n",
       "        vertical-align: top;\n",
       "    }\n",
       "\n",
       "    .dataframe thead th {\n",
       "        text-align: right;\n",
       "    }\n",
       "</style>\n",
       "<table border=\"1\" class=\"dataframe\">\n",
       "  <thead>\n",
       "    <tr style=\"text-align: right;\">\n",
       "      <th></th>\n",
       "      <th>occupancy_rate</th>\n",
       "    </tr>\n",
       "    <tr>\n",
       "      <th>date</th>\n",
       "      <th></th>\n",
       "    </tr>\n",
       "  </thead>\n",
       "  <tbody>\n",
       "    <tr>\n",
       "      <th>2020-06-01 01:00:00</th>\n",
       "      <td>12.582781</td>\n",
       "    </tr>\n",
       "    <tr>\n",
       "      <th>2020-06-01 02:00:00</th>\n",
       "      <td>6.993007</td>\n",
       "    </tr>\n",
       "    <tr>\n",
       "      <th>2020-06-01 03:00:00</th>\n",
       "      <td>7.284768</td>\n",
       "    </tr>\n",
       "    <tr>\n",
       "      <th>2020-06-01 04:00:00</th>\n",
       "      <td>7.342657</td>\n",
       "    </tr>\n",
       "    <tr>\n",
       "      <th>2020-06-01 05:00:00</th>\n",
       "      <td>6.643357</td>\n",
       "    </tr>\n",
       "    <tr>\n",
       "      <th>...</th>\n",
       "      <td>...</td>\n",
       "    </tr>\n",
       "    <tr>\n",
       "      <th>2021-02-27 20:00:00</th>\n",
       "      <td>23.000000</td>\n",
       "    </tr>\n",
       "    <tr>\n",
       "      <th>2021-02-27 21:00:00</th>\n",
       "      <td>25.157233</td>\n",
       "    </tr>\n",
       "    <tr>\n",
       "      <th>2021-02-27 22:00:00</th>\n",
       "      <td>24.842767</td>\n",
       "    </tr>\n",
       "    <tr>\n",
       "      <th>2021-02-27 23:00:00</th>\n",
       "      <td>20.666667</td>\n",
       "    </tr>\n",
       "    <tr>\n",
       "      <th>2021-02-28 00:00:00</th>\n",
       "      <td>12.893082</td>\n",
       "    </tr>\n",
       "  </tbody>\n",
       "</table>\n",
       "<p>6344 rows × 1 columns</p>\n",
       "</div>"
      ],
      "text/plain": [
       "                     occupancy_rate\n",
       "date                               \n",
       "2020-06-01 01:00:00       12.582781\n",
       "2020-06-01 02:00:00        6.993007\n",
       "2020-06-01 03:00:00        7.284768\n",
       "2020-06-01 04:00:00        7.342657\n",
       "2020-06-01 05:00:00        6.643357\n",
       "...                             ...\n",
       "2021-02-27 20:00:00       23.000000\n",
       "2021-02-27 21:00:00       25.157233\n",
       "2021-02-27 22:00:00       24.842767\n",
       "2021-02-27 23:00:00       20.666667\n",
       "2021-02-28 00:00:00       12.893082\n",
       "\n",
       "[6344 rows x 1 columns]"
      ]
     },
     "execution_count": 14,
     "metadata": {},
     "output_type": "execute_result"
    }
   ],
   "source": [
    "true_occ[start:]"
   ]
  },
  {
   "cell_type": "code",
   "execution_count": 18,
   "metadata": {},
   "outputs": [
    {
     "data": {
      "text/plain": [
       "0"
      ]
     },
     "execution_count": 18,
     "metadata": {},
     "output_type": "execute_result"
    }
   ],
   "source": [
    "start"
   ]
  },
  {
   "cell_type": "code",
   "execution_count": 20,
   "metadata": {},
   "outputs": [
    {
     "data": {
      "text/plain": [
       "Timestamp('2021-02-24 13:00:00')"
      ]
     },
     "execution_count": 20,
     "metadata": {},
     "output_type": "execute_result"
    }
   ],
   "source": [
    "out.date.iloc[0]"
   ]
  },
  {
   "cell_type": "code",
   "execution_count": 21,
   "metadata": {},
   "outputs": [],
   "source": [
    "start = out.date.iloc[0]\n",
    "test = true_occ[start:]"
   ]
  },
  {
   "cell_type": "code",
   "execution_count": 26,
   "metadata": {},
   "outputs": [
    {
     "data": {
      "text/plain": [
       "0      0.887895\n",
       "1      0.933971\n",
       "2      0.957514\n",
       "3      0.920011\n",
       "4      0.819186\n",
       "         ...   \n",
       "163    0.416177\n",
       "164    0.597419\n",
       "165    0.739806\n",
       "166    0.817995\n",
       "167    0.856040\n",
       "Name: occupancy_rate, Length: 168, dtype: float64"
      ]
     },
     "execution_count": 26,
     "metadata": {},
     "output_type": "execute_result"
    }
   ],
   "source": [
    "out['occupancy_rate']"
   ]
  },
  {
   "cell_type": "code",
   "execution_count": 27,
   "metadata": {
    "scrolled": true
   },
   "outputs": [
    {
     "name": "stderr",
     "output_type": "stream",
     "text": [
      "/opt/anaconda3/lib/python3.7/site-packages/ipykernel_launcher.py:1: SettingWithCopyWarning: \n",
      "A value is trying to be set on a copy of a slice from a DataFrame.\n",
      "Try using .loc[row_indexer,col_indexer] = value instead\n",
      "\n",
      "See the caveats in the documentation: https://pandas.pydata.org/pandas-docs/stable/user_guide/indexing.html#returning-a-view-versus-a-copy\n",
      "  \"\"\"Entry point for launching an IPython kernel.\n"
     ]
    }
   ],
   "source": [
    "test['pred'] = list(out['occupancy_rate'])[:len(test)]"
   ]
  },
  {
   "cell_type": "code",
   "execution_count": 29,
   "metadata": {},
   "outputs": [
    {
     "data": {
      "text/plain": [
       "2446.797519342378"
      ]
     },
     "execution_count": 29,
     "metadata": {},
     "output_type": "execute_result"
    }
   ],
   "source": [
    "mean_squared_error(test['occupancy_rate'], test['pred'])"
   ]
  },
  {
   "cell_type": "code",
   "execution_count": 28,
   "metadata": {
    "scrolled": true
   },
   "outputs": [
    {
     "data": {
      "text/html": [
       "<div>\n",
       "<style scoped>\n",
       "    .dataframe tbody tr th:only-of-type {\n",
       "        vertical-align: middle;\n",
       "    }\n",
       "\n",
       "    .dataframe tbody tr th {\n",
       "        vertical-align: top;\n",
       "    }\n",
       "\n",
       "    .dataframe thead th {\n",
       "        text-align: right;\n",
       "    }\n",
       "</style>\n",
       "<table border=\"1\" class=\"dataframe\">\n",
       "  <thead>\n",
       "    <tr style=\"text-align: right;\">\n",
       "      <th></th>\n",
       "      <th>occupancy_rate</th>\n",
       "      <th>pred</th>\n",
       "    </tr>\n",
       "    <tr>\n",
       "      <th>date</th>\n",
       "      <th></th>\n",
       "      <th></th>\n",
       "    </tr>\n",
       "  </thead>\n",
       "  <tbody>\n",
       "    <tr>\n",
       "      <th>2021-02-24 13:00:00</th>\n",
       "      <td>80.188679</td>\n",
       "      <td>0.887895</td>\n",
       "    </tr>\n",
       "    <tr>\n",
       "      <th>2021-02-24 14:00:00</th>\n",
       "      <td>87.735849</td>\n",
       "      <td>0.933971</td>\n",
       "    </tr>\n",
       "    <tr>\n",
       "      <th>2021-02-24 15:00:00</th>\n",
       "      <td>86.792453</td>\n",
       "      <td>0.957514</td>\n",
       "    </tr>\n",
       "    <tr>\n",
       "      <th>2021-02-24 16:00:00</th>\n",
       "      <td>79.559748</td>\n",
       "      <td>0.920011</td>\n",
       "    </tr>\n",
       "    <tr>\n",
       "      <th>2021-02-24 17:00:00</th>\n",
       "      <td>60.062893</td>\n",
       "      <td>0.819186</td>\n",
       "    </tr>\n",
       "    <tr>\n",
       "      <th>...</th>\n",
       "      <td>...</td>\n",
       "      <td>...</td>\n",
       "    </tr>\n",
       "    <tr>\n",
       "      <th>2021-02-27 20:00:00</th>\n",
       "      <td>23.000000</td>\n",
       "      <td>0.456509</td>\n",
       "    </tr>\n",
       "    <tr>\n",
       "      <th>2021-02-27 21:00:00</th>\n",
       "      <td>25.157233</td>\n",
       "      <td>0.415580</td>\n",
       "    </tr>\n",
       "    <tr>\n",
       "      <th>2021-02-27 22:00:00</th>\n",
       "      <td>24.842767</td>\n",
       "      <td>0.346510</td>\n",
       "    </tr>\n",
       "    <tr>\n",
       "      <th>2021-02-27 23:00:00</th>\n",
       "      <td>20.666667</td>\n",
       "      <td>0.239283</td>\n",
       "    </tr>\n",
       "    <tr>\n",
       "      <th>2021-02-28 00:00:00</th>\n",
       "      <td>12.893082</td>\n",
       "      <td>0.127475</td>\n",
       "    </tr>\n",
       "  </tbody>\n",
       "</table>\n",
       "<p>84 rows × 2 columns</p>\n",
       "</div>"
      ],
      "text/plain": [
       "                     occupancy_rate      pred\n",
       "date                                         \n",
       "2021-02-24 13:00:00       80.188679  0.887895\n",
       "2021-02-24 14:00:00       87.735849  0.933971\n",
       "2021-02-24 15:00:00       86.792453  0.957514\n",
       "2021-02-24 16:00:00       79.559748  0.920011\n",
       "2021-02-24 17:00:00       60.062893  0.819186\n",
       "...                             ...       ...\n",
       "2021-02-27 20:00:00       23.000000  0.456509\n",
       "2021-02-27 21:00:00       25.157233  0.415580\n",
       "2021-02-27 22:00:00       24.842767  0.346510\n",
       "2021-02-27 23:00:00       20.666667  0.239283\n",
       "2021-02-28 00:00:00       12.893082  0.127475\n",
       "\n",
       "[84 rows x 2 columns]"
      ]
     },
     "execution_count": 28,
     "metadata": {},
     "output_type": "execute_result"
    }
   ],
   "source": [
    "test"
   ]
  },
  {
   "cell_type": "code",
   "execution_count": null,
   "metadata": {},
   "outputs": [],
   "source": [
    "test['pred'] = out['occupancy_rate'].iloc[:]"
   ]
  },
  {
   "cell_type": "code",
   "execution_count": null,
   "metadata": {},
   "outputs": [],
   "source": [
    "#################################\n",
    "# Check accuracy"
   ]
  },
  {
   "cell_type": "code",
   "execution_count": null,
   "metadata": {},
   "outputs": [],
   "source": [
    "test"
   ]
  },
  {
   "cell_type": "code",
   "execution_count": null,
   "metadata": {},
   "outputs": [],
   "source": [
    "test = test.iloc[:85] "
   ]
  },
  {
   "cell_type": "code",
   "execution_count": null,
   "metadata": {},
   "outputs": [],
   "source": [
    "start = test.ds[0]"
   ]
  },
  {
   "cell_type": "code",
   "execution_count": null,
   "metadata": {},
   "outputs": [],
   "source": [
    "start"
   ]
  },
  {
   "cell_type": "code",
   "execution_count": null,
   "metadata": {},
   "outputs": [],
   "source": [
    "true_occ"
   ]
  },
  {
   "cell_type": "code",
   "execution_count": null,
   "metadata": {
    "scrolled": true
   },
   "outputs": [],
   "source": [
    "test['true'] = true_occ[start:]"
   ]
  },
  {
   "cell_type": "code",
   "execution_count": null,
   "metadata": {},
   "outputs": [],
   "source": [
    "test"
   ]
  },
  {
   "cell_type": "code",
   "execution_count": null,
   "metadata": {},
   "outputs": [],
   "source": [
    "del test['pred']"
   ]
  },
  {
   "cell_type": "code",
   "execution_count": null,
   "metadata": {},
   "outputs": [],
   "source": [
    "test"
   ]
  },
  {
   "cell_type": "code",
   "execution_count": null,
   "metadata": {
    "scrolled": true
   },
   "outputs": [],
   "source": [
    "test['occupancy_rate'] = test['occupancy_rate']/100"
   ]
  },
  {
   "cell_type": "code",
   "execution_count": null,
   "metadata": {
    "scrolled": false
   },
   "outputs": [],
   "source": [
    "test['pred'] = list(out['occupancy_rate'])[:len(test)]"
   ]
  },
  {
   "cell_type": "code",
   "execution_count": null,
   "metadata": {},
   "outputs": [],
   "source": [
    "df[0].plot()"
   ]
  },
  {
   "cell_type": "code",
   "execution_count": null,
   "metadata": {
    "scrolled": true
   },
   "outputs": [],
   "source": [
    "test.plot()"
   ]
  },
  {
   "cell_type": "code",
   "execution_count": null,
   "metadata": {},
   "outputs": [],
   "source": []
  },
  {
   "cell_type": "code",
   "execution_count": null,
   "metadata": {},
   "outputs": [],
   "source": []
  },
  {
   "cell_type": "code",
   "execution_count": null,
   "metadata": {},
   "outputs": [],
   "source": []
  }
 ],
 "metadata": {
  "kernelspec": {
   "display_name": "Python 3",
   "language": "python",
   "name": "python3"
  },
  "language_info": {
   "codemirror_mode": {
    "name": "ipython",
    "version": 3
   },
   "file_extension": ".py",
   "mimetype": "text/x-python",
   "name": "python",
   "nbconvert_exporter": "python",
   "pygments_lexer": "ipython3",
   "version": "3.7.9"
  }
 },
 "nbformat": 4,
 "nbformat_minor": 4
}
