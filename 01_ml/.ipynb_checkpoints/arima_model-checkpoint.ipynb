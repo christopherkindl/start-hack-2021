{
 "cells": [
  {
   "cell_type": "markdown",
   "metadata": {},
   "source": [
    "## Import dependencies"
   ]
  },
  {
   "cell_type": "code",
   "execution_count": 201,
   "metadata": {},
   "outputs": [],
   "source": [
    "# display full output in Notebook, instead of only the last result\n",
    "from IPython.core.interactiveshell import InteractiveShell\n",
    "InteractiveShell.ast_node_interactivity = \"all\"\n",
    "\n",
    "# customized preprocessing functions\n",
    "import util\n",
    "\n",
    "# standard libraries\n",
    "import pandas as pd\n",
    "import numpy as np\n",
    "import os\n",
    "from datetime import datetime\n",
    "import time\n",
    "\n",
    "\n",
    "\n",
    "# scikit-learn\n",
    "from sklearn.metrics import mean_squared_error\n",
    "from sklearn.metrics import mean_absolute_error\n",
    "from sklearn.preprocessing import OrdinalEncoder \n",
    "from sklearn.preprocessing import OneHotEncoder\n",
    "from sklearn.compose import ColumnTransformer\n",
    "from sklearn.preprocessing import StandardScaler\n",
    "from sklearn.pipeline import Pipeline\n",
    "from sklearn.ensemble import RandomForestRegressor\n",
    "from sklearn.model_selection import TimeSeriesSplit\n",
    "from sklearn.model_selection import GridSearchCV\n",
    "from sklearn.model_selection import RandomizedSearchCV\n",
    "\n",
    "# models\n",
    "from pmdarima import auto_arima\n",
    "import statsmodels.api as sm\n",
    "import xgboost as xgb"
   ]
  },
  {
   "cell_type": "markdown",
   "metadata": {},
   "source": [
    "## Import data"
   ]
  },
  {
   "cell_type": "code",
   "execution_count": 172,
   "metadata": {},
   "outputs": [
    {
     "name": "stdout",
     "output_type": "stream",
     "text": [
      "Dataset shape of Rapperswil data: (12317, 18)\n",
      "Dataset shape of Burgdorf data: (7164, 18)\n"
     ]
    }
   ],
   "source": [
    "data_path = \"../00_data\"\n",
    "\n",
    "df_rapperswil = pd.read_csv(os.path.join(data_path, \"features_rapperswil.csv\"), sep=\",\")\n",
    "df_burgdorf = pd.read_csv(os.path.join(data_path, \"features_burgdorf.csv\"), sep=\",\")\n",
    "\n",
    "print('Dataset shape of Rapperswil data: {}'.format(df_rapperswil.shape))\n",
    "print('Dataset shape of Burgdorf data: {}'.format(df_burgdorf.shape))"
   ]
  },
  {
   "cell_type": "code",
   "execution_count": 79,
   "metadata": {},
   "outputs": [],
   "source": [
    "df_rapperswil = df_rapperswil[['date', 'occupancy_rate']]\n",
    "# df_rapperswil.set_index('date', inplace = True)"
   ]
  },
  {
   "cell_type": "markdown",
   "metadata": {},
   "source": [
    "## Train/Test Split"
   ]
  },
  {
   "cell_type": "code",
   "execution_count": 81,
   "metadata": {},
   "outputs": [
    {
     "name": "stderr",
     "output_type": "stream",
     "text": [
      "<ipython-input-81-37bb481ba1aa>:1: SettingWithCopyWarning: \n",
      "A value is trying to be set on a copy of a slice from a DataFrame.\n",
      "Try using .loc[row_indexer,col_indexer] = value instead\n",
      "\n",
      "See the caveats in the documentation: https://pandas.pydata.org/pandas-docs/stable/user_guide/indexing.html#returning-a-view-versus-a-copy\n",
      "  df_rapperswil['date'] = pd.to_datetime(df_rapperswil['date'])\n"
     ]
    }
   ],
   "source": [
    "df_rapperswil['date'] = pd.to_datetime(df_rapperswil['date'])\n",
    "# df_rapperswil['date'] = df_rapperswil['date'].dt.date "
   ]
  },
  {
   "cell_type": "code",
   "execution_count": 89,
   "metadata": {},
   "outputs": [],
   "source": [
    "def split(df, split_date):\n",
    "    \n",
    "    # define split date\n",
    "    # split_date = datetime.strptime(split_date, '%Y-%m-%d %H:%M:%S').date()\n",
    "    split_date = datetime.strptime(split_date, '%Y-%m-%d %H:%M:%S')\n",
    "    \n",
    "    # split df into train and test set\n",
    "    df_train = df.loc[df['date'] <= split_date].copy()\n",
    "    df_test = df.loc[df['date'] > split_date].copy()\n",
    "    \n",
    "    # set date as index in both sets\n",
    "    df_train = df_train.set_index('date')\n",
    "    df_test = df_test.set_index('date')\n",
    "    \n",
    "    return df_train, df_test"
   ]
  },
  {
   "cell_type": "code",
   "execution_count": 90,
   "metadata": {},
   "outputs": [],
   "source": [
    "df_train, df_test = split(df_rapperswil, '2021-07-01 01:00:00')"
   ]
  },
  {
   "cell_type": "markdown",
   "metadata": {},
   "source": [
    "## 1. ARIMA Model"
   ]
  },
  {
   "cell_type": "markdown",
   "metadata": {},
   "source": [
    "Model parameters:\n",
    "\n",
    "- **p:** The number of lag observations included in the model, also called the lag order.\n",
    "- **d:** The number of times that the raw observations are differenced, also called the degree of differencing.\n",
    "- **q:** The size of the moving average window, also called the order of moving average."
   ]
  },
  {
   "cell_type": "markdown",
   "metadata": {},
   "source": [
    "Preliminary steps:\n",
    "\n",
    "**1) Stationarity:**\n",
    "ARIMA models assumes non-stationarity, meaning a flat looking series, without trend, constant variance over time, a constant autocorrelation structure over time and no periodic fluctuations. If stationarity exists, we need to mathematically differentiate the time series until it becomes stationary.\n",
    "\n",
    "**2) Analyse Auto-Correlation:** We use auto correlation function (ACF) and partial auto correlation function (PACF) to determine the optimal number of MA and AR terms"
   ]
  },
  {
   "cell_type": "code",
   "execution_count": 99,
   "metadata": {},
   "outputs": [
    {
     "name": "stdout",
     "output_type": "stream",
     "text": [
      "Performing stepwise search to minimize aic\n",
      " ARIMA(1,1,1)(0,0,0)[0] intercept   : AIC=66497.908, Time=2.31 sec\n",
      " ARIMA(0,1,0)(0,0,0)[0] intercept   : AIC=71981.154, Time=0.60 sec\n",
      " ARIMA(1,1,0)(0,0,0)[0] intercept   : AIC=66656.232, Time=1.28 sec\n",
      " ARIMA(0,1,1)(0,0,0)[0] intercept   : AIC=67828.668, Time=2.52 sec\n",
      " ARIMA(0,1,0)(0,0,0)[0]             : AIC=71979.154, Time=0.13 sec\n",
      " ARIMA(2,1,1)(0,0,0)[0] intercept   : AIC=66477.477, Time=3.48 sec\n",
      " ARIMA(2,1,0)(0,0,0)[0] intercept   : AIC=66477.222, Time=1.22 sec\n",
      " ARIMA(3,1,0)(0,0,0)[0] intercept   : AIC=66475.822, Time=2.02 sec\n",
      " ARIMA(3,1,1)(0,0,0)[0] intercept   : AIC=66465.257, Time=9.25 sec\n",
      " ARIMA(3,1,2)(0,0,0)[0] intercept   : AIC=inf, Time=25.27 sec\n",
      " ARIMA(2,1,2)(0,0,0)[0] intercept   : AIC=66451.486, Time=7.18 sec\n",
      " ARIMA(1,1,2)(0,0,0)[0] intercept   : AIC=66450.215, Time=4.69 sec\n",
      " ARIMA(0,1,2)(0,0,0)[0] intercept   : AIC=66657.189, Time=2.74 sec\n",
      " ARIMA(1,1,3)(0,0,0)[0] intercept   : AIC=inf, Time=19.08 sec\n",
      " ARIMA(0,1,3)(0,0,0)[0] intercept   : AIC=66475.610, Time=3.96 sec\n",
      " ARIMA(2,1,3)(0,0,0)[0] intercept   : AIC=66450.180, Time=16.60 sec\n",
      " ARIMA(3,1,3)(0,0,0)[0] intercept   : AIC=66246.721, Time=33.40 sec\n",
      " ARIMA(3,1,3)(0,0,0)[0]             : AIC=66217.767, Time=14.62 sec\n",
      " ARIMA(2,1,3)(0,0,0)[0]             : AIC=66448.180, Time=9.05 sec\n",
      " ARIMA(3,1,2)(0,0,0)[0]             : AIC=inf, Time=13.55 sec\n",
      " ARIMA(2,1,2)(0,0,0)[0]             : AIC=66449.486, Time=3.44 sec\n",
      "\n",
      "Best model:  ARIMA(3,1,3)(0,0,0)[0]          \n",
      "Total fit time: 176.438 seconds\n"
     ]
    }
   ],
   "source": [
    "stepwise_model = auto_arima(df_train, start_p=1, max_p=3, start_q=1,\n",
    "                            max_q=3, start_d=0, max_d = 3,\n",
    "                            seasonal=False,\n",
    "                            trace=True,\n",
    "                            error_action='ignore',  \n",
    "                            suppress_warnings=True, \n",
    "                            stepwise=True) "
   ]
  },
  {
   "cell_type": "code",
   "execution_count": 100,
   "metadata": {},
   "outputs": [
    {
     "data": {
      "text/plain": [
       "ARIMA(order=(3, 1, 3), scoring_args={}, suppress_warnings=True,\n",
       "      with_intercept=False)"
      ]
     },
     "execution_count": 100,
     "metadata": {},
     "output_type": "execute_result"
    }
   ],
   "source": [
    "# fit model with optimal parameters obtained through grid search\n",
    "stepwise_model.fit(df_train['occupancy_rate'])"
   ]
  },
  {
   "cell_type": "code",
   "execution_count": 101,
   "metadata": {},
   "outputs": [],
   "source": [
    "# run prediction and assign values to test set\n",
    "prediction = stepwise_model.predict(n_periods=len(df_test))\n",
    "df_test['arima'] = stepwise_model.predict(n_periods=len(df_test))\n",
    "\n",
    "# merge train and test set for visualization purpose\n",
    "df_all = pd.concat([df_test, df_train], sort=False)"
   ]
  },
  {
   "cell_type": "markdown",
   "metadata": {},
   "source": [
    "1) Calculate evaluation metrics performed on the test set"
   ]
  },
  {
   "cell_type": "markdown",
   "metadata": {},
   "source": [
    "**Mean absolute error** \\\n",
    "MAE measures the average magnitude of the errors in a set of predictions, without considering their direction. It’s the average over the test sample of the absolute differences between prediction and actual observation where all individual differences have equal weight.\n",
    "\n",
    "**Root mean squared error** \\\n",
    "RMSE is a quadratic scoring rule that also measures the average magnitude of the error. It’s the square root of the average of squared differences between prediction and actual observation.\n",
    "\n",
    "**Difference of these two measures** \\\n",
    "Taking the square root of the average squared errors has some interesting implications for RMSE. Since the errors are squared before they are averaged, the RMSE gives a relatively high weight to large errors. This means the RMSE should be more useful when large errors are particularly undesirable. The three tables below show examples where MAE is steady and RMSE increases as the variance associated with the frequency distribution of error magnitudes also increases."
   ]
  },
  {
   "cell_type": "code",
   "execution_count": 102,
   "metadata": {},
   "outputs": [
    {
     "name": "stdout",
     "output_type": "stream",
     "text": [
      "MAE:  45.41\n",
      "RMSE:  57.11\n"
     ]
    }
   ],
   "source": [
    "print('MAE: ', round(mean_absolute_error(y_true=df_test['occupancy_rate'], y_pred=df_test['arima']), 2))\n",
    "print('RMSE: ', round(mean_squared_error(y_true=df_test['occupancy_rate'], y_pred=df_test['arima'], squared=False), 2))"
   ]
  },
  {
   "cell_type": "markdown",
   "metadata": {},
   "source": [
    "2) Plot actual and predicted values"
   ]
  },
  {
   "cell_type": "code",
   "execution_count": 103,
   "metadata": {},
   "outputs": [],
   "source": [
    "df_test['arima'] = stepwise_model.predict(n_periods=len(df_test))\n",
    "df_all = pd.concat([df_test, df_train], sort=False)"
   ]
  },
  {
   "cell_type": "code",
   "execution_count": 104,
   "metadata": {},
   "outputs": [
    {
     "data": {
      "text/plain": [
       "<matplotlib.axes._subplots.AxesSubplot at 0x1846277f0>"
      ]
     },
     "execution_count": 104,
     "metadata": {},
     "output_type": "execute_result"
    },
    {
     "data": {
      "image/png": "[encoded data removed]",
      "text/plain": [
       "<Figure size 1080x360 with 1 Axes>"
      ]
     },
     "metadata": {
      "needs_background": "light"
     },
     "output_type": "display_data"
    }
   ],
   "source": [
    "df_all[['occupancy_rate', 'arima']].plot(figsize=(15, 5))"
   ]
  },
  {
   "cell_type": "markdown",
   "metadata": {},
   "source": [
    "## 2. SARIMA Model"
   ]
  },
  {
   "cell_type": "code",
   "execution_count": null,
   "metadata": {},
   "outputs": [],
   "source": [
    "model = sm.tsa.statespace.SARIMAX(df_train,\n",
    "                                order=(3, 1, 3),\n",
    "                                seasonal_order=(1, 1, 1, 24),\n",
    "                                enforce_stationarity=False,\n",
    "                                enforce_invertibility=False)\n",
    "results = model.fit()"
   ]
  },
  {
   "cell_type": "code",
   "execution_count": null,
   "metadata": {},
   "outputs": [],
   "source": [
    "pred = results.get_prediction(start=pd.to_datetime('2018-06-01'), dynamic=False)"
   ]
  },
  {
   "cell_type": "markdown",
   "metadata": {},
   "source": [
    "## Advanced Models"
   ]
  },
  {
   "cell_type": "markdown",
   "metadata": {},
   "source": [
    "For advanced models, we reload the dataset to incorporate the created features in the feature engineering part."
   ]
  },
  {
   "cell_type": "code",
   "execution_count": 173,
   "metadata": {},
   "outputs": [],
   "source": [
    "df_rapperswil['date'] = pd.to_datetime(df_rapperswil['date'])"
   ]
  },
  {
   "cell_type": "code",
   "execution_count": 181,
   "metadata": {},
   "outputs": [],
   "source": [
    "# declare categorical columns\n",
    "for col in ['hour', 'day_of_week', 'quarter', 'month', 'day_of_year', 'day_of_month', 'week_of_year', 'weather', 'holiday']:\n",
    "    df_rapperswil[col] = df_rapperswil[col].astype(object)"
   ]
  },
  {
   "cell_type": "code",
   "execution_count": 182,
   "metadata": {},
   "outputs": [],
   "source": [
    "df_train, df_test = split(df_rapperswil, '2021-07-01 01:00:00')"
   ]
  },
  {
   "cell_type": "code",
   "execution_count": 183,
   "metadata": {},
   "outputs": [],
   "source": [
    "# split data sets\n",
    "X_train, y_train = util.split(df_train, label='occupancy_rate')\n",
    "X_test, y_test = util.split(df_test, label='occupancy_rate')"
   ]
  },
  {
   "cell_type": "markdown",
   "metadata": {},
   "source": [
    "**Feature scaling** \\\n",
    "Features vary in magnitude and units, which is why we apply feature scaling using `StandardScaler()` for numeric features and `OneHotEncoder()` for categorical features. For example, the input value `day_of_week` should not be used as a continuous value from 1 to 7, since this would mean that the last weekdays (5, 6 or 7) are associated to a higher\n",
    "weight than the first ones (1,2 and 3)."
   ]
  },
  {
   "cell_type": "code",
   "execution_count": 185,
   "metadata": {},
   "outputs": [],
   "source": [
    "# split numerical and categorical columns\n",
    "data_num = X_train.select_dtypes(include=[np.number])\n",
    "data_cat = X_train.select_dtypes(include=[np.object])\n",
    "\n",
    "# create data pipeline\n",
    "num_pipeline = Pipeline([('std_scaler', StandardScaler())])\n",
    "\n",
    "num_attribs = list(data_num)\n",
    "cat_attribs = list(data_cat)\n",
    "\n",
    "full_pipeline = ColumnTransformer([\n",
    "        ('num', num_pipeline, num_attribs),\n",
    "        ('cat', OneHotEncoder(), cat_attribs)])\n",
    "\n",
    "# fit and transform training data set with preprocessing pipeline and\n",
    "# only transform test feature set with the pipeline fit on training feature set to not\n",
    "# artificially improve test performance\n",
    "\n",
    "X_train = full_pipeline.fit_transform(X_train)\n",
    "X_test = full_pipeline.transform(X_test)"
   ]
  },
  {
   "cell_type": "markdown",
   "metadata": {},
   "source": [
    "## 3. Random Forest"
   ]
  },
  {
   "cell_type": "markdown",
   "metadata": {},
   "source": [
    "For hyperparameter optimization, we apply `random grid search` with cross validation to narrow down the range of reasonable values for the given parameters for the models. Then, `full grid search` with cross validation is applied with the value range obtained from the random grid search."
   ]
  },
  {
   "cell_type": "markdown",
   "metadata": {},
   "source": [
    "1) Define random grid "
   ]
  },
  {
   "cell_type": "code",
   "execution_count": 129,
   "metadata": {},
   "outputs": [],
   "source": [
    "# number of trees in random forest\n",
    "n_estimators = [x for x in range(200, 2000, 25)]\n",
    "\n",
    "# number of features to consider at every split\n",
    "max_features = ['auto', 'sqrt']\n",
    "\n",
    "# maximum number of levels in tree\n",
    "max_depth = [int(x) for x in np.linspace(10, 110, num = 11)]\n",
    "max_depth.append(None)\n",
    "\n",
    "# minimum number of samples required to split a node\n",
    "min_samples_split = [2, 5, 10]\n",
    "\n",
    "# minimum number of samples required at each leaf node\n",
    "min_samples_leaf = [1, 2, 4]\n",
    "\n",
    "# create grid\n",
    "random_grid = {'n_estimators': n_estimators,\n",
    "               'max_features': max_features,\n",
    "               'max_depth': max_depth,\n",
    "               'min_samples_split': min_samples_split,\n",
    "               'min_samples_leaf': min_samples_leaf}"
   ]
  },
  {
   "cell_type": "markdown",
   "metadata": {},
   "source": [
    "2) Random grid search"
   ]
  },
  {
   "cell_type": "code",
   "execution_count": 136,
   "metadata": {},
   "outputs": [
    {
     "name": "stdout",
     "output_type": "stream",
     "text": [
      "Fitting 3 folds for each of 75 candidates, totalling 225 fits\n"
     ]
    },
    {
     "name": "stderr",
     "output_type": "stream",
     "text": [
      "[Parallel(n_jobs=-1)]: Using backend LokyBackend with 4 concurrent workers.\n",
      "[Parallel(n_jobs=-1)]: Done  33 tasks      | elapsed:  3.9min\n",
      "[Parallel(n_jobs=-1)]: Done 154 tasks      | elapsed: 16.5min\n",
      "[Parallel(n_jobs=-1)]: Done 225 out of 225 | elapsed: 23.6min finished\n"
     ]
    },
    {
     "data": {
      "text/plain": [
       "RandomizedSearchCV(cv=TimeSeriesSplit(max_train_size=None, n_splits=3),\n",
       "                   estimator=RandomForestRegressor(random_state=42), n_iter=75,\n",
       "                   n_jobs=-1,\n",
       "                   param_distributions={'max_depth': [10, 20, 30, 40, 50, 60,\n",
       "                                                      70, 80, 90, 100, 110,\n",
       "                                                      None],\n",
       "                                        'max_features': ['auto', 'sqrt'],\n",
       "                                        'min_samples_leaf': [1, 2, 4],\n",
       "                                        'min_samples_split': [2, 5, 10],\n",
       "                                        'n_estimators': [200, 225, 250, 275,\n",
       "                                                         300, 325, 350, 375,\n",
       "                                                         400, 425, 450, 475,\n",
       "                                                         500, 525, 550, 575,\n",
       "                                                         600, 625, 650, 675,\n",
       "                                                         700, 725, 750, 775,\n",
       "                                                         800, 825, 850, 875,\n",
       "                                                         900, 925, ...]},\n",
       "                   random_state=42, verbose=2)"
      ]
     },
     "execution_count": 136,
     "metadata": {},
     "output_type": "execute_result"
    },
    {
     "name": "stdout",
     "output_type": "stream",
     "text": [
      "Best parameters:\n"
     ]
    },
    {
     "data": {
      "text/plain": [
       "{'n_estimators': 600,\n",
       " 'min_samples_split': 2,\n",
       " 'min_samples_leaf': 2,\n",
       " 'max_features': 'auto',\n",
       " 'max_depth': 20}"
      ]
     },
     "execution_count": 136,
     "metadata": {},
     "output_type": "execute_result"
    }
   ],
   "source": [
    "# use the random grid to search for best hyperparameters\n",
    "\n",
    "# create random forest model\n",
    "rf = RandomForestRegressor(random_state = 42)\n",
    "\n",
    "# ensure prediction is made on subsequent data\n",
    "cv = TimeSeriesSplit(n_splits=3)\n",
    "\n",
    "# random search of parameters, using 3 fold cross validation, \n",
    "# search across 75 different combinations, and use all available cores\n",
    "rf_random = RandomizedSearchCV(estimator = rf, param_distributions = random_grid, n_iter = 75, cv = cv,\n",
    "                               verbose=2, random_state=42, n_jobs = -1)\n",
    "# fit the random search model\n",
    "rf_random.fit(X_train, y_train)\n",
    "\n",
    "#s how best parameters\n",
    "print('Best parameters:')\n",
    "rf_random.best_params_"
   ]
  },
  {
   "cell_type": "markdown",
   "metadata": {},
   "source": [
    "3) Full grid search with obtained value ranges from random grid search"
   ]
  },
  {
   "cell_type": "code",
   "execution_count": null,
   "metadata": {},
   "outputs": [],
   "source": [
    "# define more specific grid\n",
    "\n",
    "# number of trees in random forest\n",
    "n_estimators = [x for x in range(200, 2000, 25)]\n",
    "\n",
    "# number of features to consider at every split\n",
    "max_features = ['auto', 'sqrt']\n",
    "\n",
    "# maximum number of levels in tree\n",
    "max_depth = [int(x) for x in np.linspace(10, 110, num = 11)]\n",
    "max_depth.append(None)\n",
    "\n",
    "# minimum number of samples required to split a node\n",
    "min_samples_split = [2, 5, 10]\n",
    "\n",
    "# minimum number of samples required at each leaf node\n",
    "min_samples_leaf = [1, 2, 4]\n",
    "\n",
    "# create grid\n",
    "random_grid = {'n_estimators': n_estimators,\n",
    "               'max_features': max_features,\n",
    "               'max_depth': max_depth,\n",
    "               'min_samples_split': min_samples_split,\n",
    "               'min_samples_leaf': min_samples_leaf}"
   ]
  },
  {
   "cell_type": "code",
   "execution_count": null,
   "metadata": {},
   "outputs": [],
   "source": [
    "# create random forest model\n",
    "rf = RandomForestRegressor(random_state = 42)\n",
    "\n",
    "# ensure prediction is made on subsequent data\n",
    "cv = TimeSeriesSplit(n_splits=3)\n",
    "\n",
    "# random search of parameters, using 3 fold cross validation, \n",
    "# search across 75 different combinations, and use all available cores\n",
    "rf = GridSearchCV(estimator = rf, param_distributions = random_grid, n_iter = 75, cv = cv,\n",
    "                               verbose=2, random_state=42, n_jobs = -1)\n",
    "# fit the random search model\n",
    "rf.fit(X_train, y_train)\n",
    "\n",
    "# show best parameters\n",
    "print('Best parameters:')\n",
    "rf.best_params_"
   ]
  },
  {
   "cell_type": "markdown",
   "metadata": {},
   "source": [
    "4) Fit model with optimal parameters and apply model to test set"
   ]
  },
  {
   "cell_type": "code",
   "execution_count": 137,
   "metadata": {},
   "outputs": [],
   "source": [
    "rf = RandomForestRegressor(random_state = 42,\n",
    "                           n_estimators = 600,\n",
    "                           max_features = 'auto',\n",
    "                           max_depth = 20,\n",
    "                           min_samples_split = 2,\n",
    "                           min_samples_leaf = 2)"
   ]
  },
  {
   "cell_type": "code",
   "execution_count": 138,
   "metadata": {},
   "outputs": [
    {
     "data": {
      "text/plain": [
       "RandomForestRegressor(max_depth=20, min_samples_leaf=2, n_estimators=600,\n",
       "                      random_state=42)"
      ]
     },
     "execution_count": 138,
     "metadata": {},
     "output_type": "execute_result"
    }
   ],
   "source": [
    "# fit the random search model\n",
    "rf.fit(X_train, y_train)\n",
    "\n",
    "# run prediction\n",
    "df_test['random_forest'] = rf.predict(X_test)\n",
    "df_all = pd.concat([df_test, df_train], sort=False)"
   ]
  },
  {
   "cell_type": "code",
   "execution_count": 139,
   "metadata": {},
   "outputs": [
    {
     "name": "stdout",
     "output_type": "stream",
     "text": [
      "MAE:  3.96\n",
      "RMSE:  6.12\n"
     ]
    }
   ],
   "source": [
    "print('MAE: ', round(mean_absolute_error(y_true=df_test['occupancy_rate'], y_pred=df_test['random_forest']), 2))\n",
    "print('RMSE: ', round(mean_squared_error(y_true=df_test['occupancy_rate'], y_pred=df_test['random_forest'], squared=False), 2))"
   ]
  },
  {
   "cell_type": "markdown",
   "metadata": {},
   "source": [
    "## 4. XGBoost"
   ]
  },
  {
   "cell_type": "markdown",
   "metadata": {},
   "source": [
    "1) Define randomg grid"
   ]
  },
  {
   "cell_type": "code",
   "execution_count": 143,
   "metadata": {},
   "outputs": [],
   "source": [
    "# number of trees in random forest\n",
    "n_estimators = [x for x in range(200, 2000, 25)]\n",
    "\n",
    "# learning rate\n",
    "arr = np.arange(0.01, 1.0, 0.05)\n",
    "eta = arr.tolist()\n",
    "\n",
    "# defines the minimum sum of weights of all observations required in a child\n",
    "min_child_weight = [i for i in range(1, 100, 8)]\n",
    "\n",
    "# maximum depth of a tree\n",
    "max_depth = [i for i in range(1, 100, 5)]\n",
    "\n",
    "# regularization\n",
    "gamma = [0, 1, 5]\n",
    "\n",
    "# number of columns used by each tree\n",
    "colsample_bytree = [0.8, 0.9, 1]\n",
    "\n",
    "# maximum number of leaf nodes in tree\n",
    "max_leaf_nodes = [i for i in range(10, 200, 5)]\n",
    "max_leaf_nodes.append(None)\n",
    "\n",
    "# create random grid\n",
    "random_grid = {'n_estimators' : n_estimators,\n",
    "               'eta' : eta,\n",
    "               'max_depth': max_depth,\n",
    "               'max_features': max_features,\n",
    "               'min_child_weight': min_child_weight,\n",
    "               'gamma' : gamma,\n",
    "               'colsample_bytree' : colsample_bytree,\n",
    "               'max_leaf_nodes': max_leaf_nodes}"
   ]
  },
  {
   "cell_type": "code",
   "execution_count": null,
   "metadata": {},
   "outputs": [],
   "source": [
    "start = time.time()\n",
    "print(\"hello\")\n",
    "end = time.time()\n",
    "print(end - start)"
   ]
  },
  {
   "cell_type": "code",
   "execution_count": 187,
   "metadata": {},
   "outputs": [
    {
     "name": "stdout",
     "output_type": "stream",
     "text": [
      "Fitting 3 folds for each of 75 candidates, totalling 225 fits\n"
     ]
    },
    {
     "name": "stderr",
     "output_type": "stream",
     "text": [
      "[Parallel(n_jobs=-1)]: Using backend LokyBackend with 4 concurrent workers.\n",
      "[Parallel(n_jobs=-1)]: Done  33 tasks      | elapsed:  7.5min\n",
      "[Parallel(n_jobs=-1)]: Done 154 tasks      | elapsed: 29.0min\n",
      "[Parallel(n_jobs=-1)]: Done 225 out of 225 | elapsed: 42.0min finished\n"
     ]
    },
    {
     "name": "stdout",
     "output_type": "stream",
     "text": [
      "[02:05:08] WARNING: /Users/travis/build/dmlc/xgboost/src/learner.cc:516: \n",
      "Parameters: { max_features, max_leaf_nodes } might not be used.\n",
      "\n",
      "  This may not be accurate due to some parameters are only used in language bindings but\n",
      "  passed down to XGBoost core.  Or some parameters are not used but slip through this\n",
      "  verification. Please open an issue if you find above cases.\n",
      "\n",
      "\n"
     ]
    },
    {
     "data": {
      "text/plain": [
       "RandomizedSearchCV(cv=TimeSeriesSplit(max_train_size=None, n_splits=3),\n",
       "                   estimator=XGBRegressor(base_score=None, booster=None,\n",
       "                                          colsample_bylevel=None,\n",
       "                                          colsample_bynode=None,\n",
       "                                          colsample_bytree=None, gamma=None,\n",
       "                                          gpu_id=None, importance_type='gain',\n",
       "                                          interaction_constraints=None,\n",
       "                                          learning_rate=None,\n",
       "                                          max_delta_step=None, max_depth=None,\n",
       "                                          min_child_weight=None, missing=na...\n",
       "                                        'max_leaf_nodes': [10, 15, 20, 25, 30,\n",
       "                                                           35, 40, 45, 50, 55,\n",
       "                                                           60, 65, 70, 75, 80,\n",
       "                                                           85, 90, 95, 100, 105,\n",
       "                                                           110, 115, 120, 125,\n",
       "                                                           130, 135, 140, 145,\n",
       "                                                           150, 155, ...],\n",
       "                                        'min_child_weight': [1, 9, 17, 25, 33,\n",
       "                                                             41, 49, 57, 65, 73,\n",
       "                                                             81, 89, 97],\n",
       "                                        'n_estimators': [200, 225, 250, 275,\n",
       "                                                         300, 325, 350, 375,\n",
       "                                                         400, 425, 450, 475,\n",
       "                                                         500, 525, 550, 575,\n",
       "                                                         600, 625, 650, 675,\n",
       "                                                         700, 725, 750, 775,\n",
       "                                                         800, 825, 850, 875,\n",
       "                                                         900, 925, ...]},\n",
       "                   random_state=42, verbose=2)"
      ]
     },
     "execution_count": 187,
     "metadata": {},
     "output_type": "execute_result"
    },
    {
     "name": "stdout",
     "output_type": "stream",
     "text": [
      "2527.4384319782257\n",
      "Best parameters:\n"
     ]
    },
    {
     "data": {
      "text/plain": [
       "{'n_estimators': 375,\n",
       " 'min_child_weight': 17,\n",
       " 'max_leaf_nodes': 110,\n",
       " 'max_features': 'auto',\n",
       " 'max_depth': 51,\n",
       " 'gamma': 0,\n",
       " 'eta': 0.01,\n",
       " 'colsample_bytree': 0.9}"
      ]
     },
     "execution_count": 187,
     "metadata": {},
     "output_type": "execute_result"
    }
   ],
   "source": [
    "# create xgb model\n",
    "xgb = xgb.XGBRegressor(random_state=42)\n",
    "\n",
    "# ensure prediction is made on subsequent data\n",
    "cv = TimeSeriesSplit(n_splits=3)\n",
    "\n",
    "# random search of parameters, using 3 fold cross validation, \n",
    "# search across 75 different combinations, and use all available cores\n",
    "xbg_random = RandomizedSearchCV(estimator = xgb, param_distributions = random_grid, n_iter = 75, cv = cv,\n",
    "                               verbose=2, random_state=42, n_jobs = -1)\n",
    "# fit the xgboost model\n",
    "start = time.time()\n",
    "xbg_random.fit(X_train, y_train)\n",
    "end = time.time()\n",
    "print(end - start)\n",
    "\n",
    "# show best parameters\n",
    "print('Best parameters:')\n",
    "xbg_random.best_params_"
   ]
  },
  {
   "cell_type": "markdown",
   "metadata": {},
   "source": [
    "fbfgb"
   ]
  },
  {
   "cell_type": "markdown",
   "metadata": {},
   "source": [
    "4) Fit model with optimal parameters and apply model to test set"
   ]
  },
  {
   "cell_type": "markdown",
   "metadata": {},
   "source": [
    "{'n_estimators': 375,\n",
    " 'min_child_weight': 17,\n",
    " 'max_leaf_nodes': 110,\n",
    " 'max_features': 'auto',\n",
    " 'max_depth': 51,\n",
    " 'gamma': 0,\n",
    " 'eta': 0.01,\n",
    " 'colsample_bytree': 0.9}"
   ]
  },
  {
   "cell_type": "code",
   "execution_count": 202,
   "metadata": {},
   "outputs": [],
   "source": [
    "xgb = xgb.XGBRegressor(n_estimators = 600,\n",
    "                            min_child_weight = 17,\n",
    "                            max_leaf_nodes = 110,\n",
    "                            # max_features = 'auto',\n",
    "                            max_depth = 51,\n",
    "                            gamma = 0,\n",
    "                            eta = 0.01,\n",
    "                            colsample_bytree = 0.9,\n",
    "                            random_state=42)"
   ]
  },
  {
   "cell_type": "code",
   "execution_count": 203,
   "metadata": {},
   "outputs": [
    {
     "name": "stdout",
     "output_type": "stream",
     "text": [
      "[02:19:05] WARNING: /Users/travis/build/dmlc/xgboost/src/learner.cc:516: \n",
      "Parameters: { max_leaf_nodes } might not be used.\n",
      "\n",
      "  This may not be accurate due to some parameters are only used in language bindings but\n",
      "  passed down to XGBoost core.  Or some parameters are not used but slip through this\n",
      "  verification. Please open an issue if you find above cases.\n",
      "\n",
      "\n"
     ]
    },
    {
     "data": {
      "text/plain": [
       "XGBRegressor(base_score=0.5, booster='gbtree', colsample_bylevel=1,\n",
       "             colsample_bynode=1, colsample_bytree=0.9, eta=0.01, gamma=0,\n",
       "             gpu_id=-1, importance_type='gain', interaction_constraints='',\n",
       "             learning_rate=0.00999999978, max_delta_step=0, max_depth=51,\n",
       "             max_leaf_nodes=110, min_child_weight=17, missing=nan,\n",
       "             monotone_constraints='()', n_estimators=600, n_jobs=0,\n",
       "             num_parallel_tree=1, random_state=42, reg_alpha=0, reg_lambda=1,\n",
       "             scale_pos_weight=1, subsample=1, tree_method='exact',\n",
       "             validate_parameters=1, verbosity=None)"
      ]
     },
     "execution_count": 203,
     "metadata": {},
     "output_type": "execute_result"
    }
   ],
   "source": [
    "# fit the random search model\n",
    "xgb.fit(X_train, y_train)\n",
    "\n",
    "# run prediction\n",
    "df_test['xgb'] = xgb.predict(X_test)\n",
    "df_all = pd.concat([df_test, df_train], sort=False)"
   ]
  },
  {
   "cell_type": "code",
   "execution_count": 205,
   "metadata": {},
   "outputs": [
    {
     "name": "stdout",
     "output_type": "stream",
     "text": [
      "MAE:  3.93\n",
      "RMSE:  6.03\n"
     ]
    }
   ],
   "source": [
    "print('MAE: ', round(mean_absolute_error(y_true=df_test['occupancy_rate'], y_pred=df_test['xgb']), 2))\n",
    "print('RMSE: ', round(mean_squared_error(y_true=df_test['occupancy_rate'], y_pred=df_test['xgb'], squared=False), 2))"
   ]
  },
  {
   "cell_type": "code",
   "execution_count": 206,
   "metadata": {},
   "outputs": [
    {
     "data": {
      "text/html": [
       "<div>\n",
       "<style scoped>\n",
       "    .dataframe tbody tr th:only-of-type {\n",
       "        vertical-align: middle;\n",
       "    }\n",
       "\n",
       "    .dataframe tbody tr th {\n",
       "        vertical-align: top;\n",
       "    }\n",
       "\n",
       "    .dataframe thead th {\n",
       "        text-align: right;\n",
       "    }\n",
       "</style>\n",
       "<table border=\"1\" class=\"dataframe\">\n",
       "  <thead>\n",
       "    <tr style=\"text-align: right;\">\n",
       "      <th></th>\n",
       "      <th>occupancy_rate</th>\n",
       "      <th>xgb</th>\n",
       "    </tr>\n",
       "    <tr>\n",
       "      <th>date</th>\n",
       "      <th></th>\n",
       "      <th></th>\n",
       "    </tr>\n",
       "  </thead>\n",
       "  <tbody>\n",
       "    <tr>\n",
       "      <th>2021-07-01 02:00:00</th>\n",
       "      <td>8.582090</td>\n",
       "      <td>8.727159</td>\n",
       "    </tr>\n",
       "    <tr>\n",
       "      <th>2021-07-01 03:00:00</th>\n",
       "      <td>9.328358</td>\n",
       "      <td>8.838514</td>\n",
       "    </tr>\n",
       "    <tr>\n",
       "      <th>2021-07-01 04:00:00</th>\n",
       "      <td>9.600000</td>\n",
       "      <td>9.363166</td>\n",
       "    </tr>\n",
       "    <tr>\n",
       "      <th>2021-07-01 05:00:00</th>\n",
       "      <td>10.169492</td>\n",
       "      <td>12.241113</td>\n",
       "    </tr>\n",
       "    <tr>\n",
       "      <th>2021-07-01 06:00:00</th>\n",
       "      <td>13.636364</td>\n",
       "      <td>15.155659</td>\n",
       "    </tr>\n",
       "    <tr>\n",
       "      <th>2021-07-01 07:00:00</th>\n",
       "      <td>18.531469</td>\n",
       "      <td>23.937639</td>\n",
       "    </tr>\n",
       "    <tr>\n",
       "      <th>2021-07-01 08:00:00</th>\n",
       "      <td>33.333333</td>\n",
       "      <td>33.336365</td>\n",
       "    </tr>\n",
       "    <tr>\n",
       "      <th>2021-07-01 09:00:00</th>\n",
       "      <td>77.477477</td>\n",
       "      <td>53.424191</td>\n",
       "    </tr>\n",
       "    <tr>\n",
       "      <th>2021-07-01 10:00:00</th>\n",
       "      <td>91.732283</td>\n",
       "      <td>89.510620</td>\n",
       "    </tr>\n",
       "    <tr>\n",
       "      <th>2021-07-01 11:00:00</th>\n",
       "      <td>91.732283</td>\n",
       "      <td>91.574463</td>\n",
       "    </tr>\n",
       "    <tr>\n",
       "      <th>2021-07-01 12:00:00</th>\n",
       "      <td>87.062937</td>\n",
       "      <td>91.338448</td>\n",
       "    </tr>\n",
       "    <tr>\n",
       "      <th>2021-07-01 13:00:00</th>\n",
       "      <td>83.566434</td>\n",
       "      <td>88.226173</td>\n",
       "    </tr>\n",
       "    <tr>\n",
       "      <th>2021-07-01 14:00:00</th>\n",
       "      <td>91.338583</td>\n",
       "      <td>87.740051</td>\n",
       "    </tr>\n",
       "    <tr>\n",
       "      <th>2021-07-01 15:00:00</th>\n",
       "      <td>93.006993</td>\n",
       "      <td>90.306557</td>\n",
       "    </tr>\n",
       "    <tr>\n",
       "      <th>2021-07-01 16:00:00</th>\n",
       "      <td>93.356643</td>\n",
       "      <td>87.556747</td>\n",
       "    </tr>\n",
       "    <tr>\n",
       "      <th>2021-07-01 17:00:00</th>\n",
       "      <td>82.517483</td>\n",
       "      <td>85.052322</td>\n",
       "    </tr>\n",
       "    <tr>\n",
       "      <th>2021-07-01 18:00:00</th>\n",
       "      <td>70.078740</td>\n",
       "      <td>71.262917</td>\n",
       "    </tr>\n",
       "    <tr>\n",
       "      <th>2021-07-01 19:00:00</th>\n",
       "      <td>70.629371</td>\n",
       "      <td>69.972893</td>\n",
       "    </tr>\n",
       "    <tr>\n",
       "      <th>2021-07-01 20:00:00</th>\n",
       "      <td>71.259843</td>\n",
       "      <td>75.809410</td>\n",
       "    </tr>\n",
       "    <tr>\n",
       "      <th>2021-07-01 21:00:00</th>\n",
       "      <td>56.756757</td>\n",
       "      <td>60.963867</td>\n",
       "    </tr>\n",
       "  </tbody>\n",
       "</table>\n",
       "</div>"
      ],
      "text/plain": [
       "                     occupancy_rate        xgb\n",
       "date                                          \n",
       "2021-07-01 02:00:00        8.582090   8.727159\n",
       "2021-07-01 03:00:00        9.328358   8.838514\n",
       "2021-07-01 04:00:00        9.600000   9.363166\n",
       "2021-07-01 05:00:00       10.169492  12.241113\n",
       "2021-07-01 06:00:00       13.636364  15.155659\n",
       "2021-07-01 07:00:00       18.531469  23.937639\n",
       "2021-07-01 08:00:00       33.333333  33.336365\n",
       "2021-07-01 09:00:00       77.477477  53.424191\n",
       "2021-07-01 10:00:00       91.732283  89.510620\n",
       "2021-07-01 11:00:00       91.732283  91.574463\n",
       "2021-07-01 12:00:00       87.062937  91.338448\n",
       "2021-07-01 13:00:00       83.566434  88.226173\n",
       "2021-07-01 14:00:00       91.338583  87.740051\n",
       "2021-07-01 15:00:00       93.006993  90.306557\n",
       "2021-07-01 16:00:00       93.356643  87.556747\n",
       "2021-07-01 17:00:00       82.517483  85.052322\n",
       "2021-07-01 18:00:00       70.078740  71.262917\n",
       "2021-07-01 19:00:00       70.629371  69.972893\n",
       "2021-07-01 20:00:00       71.259843  75.809410\n",
       "2021-07-01 21:00:00       56.756757  60.963867"
      ]
     },
     "execution_count": 206,
     "metadata": {},
     "output_type": "execute_result"
    }
   ],
   "source": [
    "df_all[['occupancy_rate', 'xgb']].head(20)"
   ]
  },
  {
   "cell_type": "code",
   "execution_count": null,
   "metadata": {},
   "outputs": [],
   "source": []
  }
 ],
 "metadata": {
  "kernelspec": {
   "display_name": "Python 3",
   "language": "python",
   "name": "python3"
  },
  "language_info": {
   "codemirror_mode": {
    "name": "ipython",
    "version": 3
   },
   "file_extension": ".py",
   "mimetype": "text/x-python",
   "name": "python",
   "nbconvert_exporter": "python",
   "pygments_lexer": "ipython3",
   "version": "3.8.3"
  }
 },
 "nbformat": 4,
 "nbformat_minor": 4
}
