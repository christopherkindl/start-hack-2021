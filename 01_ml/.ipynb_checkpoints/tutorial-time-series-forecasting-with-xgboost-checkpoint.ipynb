{
 "cells": [
  {
   "cell_type": "markdown",
   "metadata": {
    "_uuid": "9bb54771ab0e8de3f40d12e7f47d3c86fe58645b"
   },
   "source": [
    "# Hourly Time Series Forecasting using XGBoost\n",
    "\n",
    "[If you haven't already first check out my previous notebook forecasting on the same data using Prophet](https://www.kaggle.com/robikscube/hourly-time-series-forecasting-with-prophet)\n",
    "\n",
    "In this notebook we will walk through time series forecasting using XGBoost. The data we will be using is hourly energy consumption."
   ]
  },
  {
   "cell_type": "code",
   "execution_count": 1,
   "metadata": {
    "_cell_guid": "b1076dfc-b9ad-4769-8c92-a6c4dae69d19",
    "_uuid": "8f2839f25d086af736a60e9eeb907d3b93b6e0e5"
   },
   "outputs": [],
   "source": [
    "import numpy as np # linear algebra\n",
    "import pandas as pd # data processing, CSV file I/O (e.g. pd.read_csv)\n",
    "import seaborn as sns\n",
    "import matplotlib.pyplot as plt\n",
    "import xgboost as xgb\n",
    "from xgboost import plot_importance, plot_tree\n",
    "from sklearn.metrics import mean_squared_error, mean_absolute_error\n",
    "plt.style.use('fivethirtyeight')"
   ]
  },
  {
   "cell_type": "markdown",
   "metadata": {
    "_uuid": "102c0bcb9cfc3be70922d8a308d4e29f02002c3e"
   },
   "source": [
    "# Data\n",
    "The data we will be using is hourly power consumption data from PJM. Energy consumtion has some unique charachteristics. It will be interesting to see how prophet picks them up.\n",
    "\n",
    "Pulling the `PJM East` which has data from 2002-2018 for the entire east region."
   ]
  },
  {
   "cell_type": "code",
   "execution_count": null,
   "metadata": {
    "_cell_guid": "79c7e3d0-c299-4dcb-8224-4455121ee9b0",
    "_uuid": "d629ff2d2480ee46fbb7e2d37f6b5fab8052498a"
   },
   "outputs": [],
   "source": [
    "pjme = pd.read_csv('/Users/christopherkindl/working/start-hack-2021/01_ml/AEP_hourly.csv', index_col=[0], parse_dates=[0])"
   ]
  },
  {
   "cell_type": "code",
   "execution_count": null,
   "metadata": {
    "_uuid": "c9ed25d7b8010577d04385c9c4077b6fffd7d409"
   },
   "outputs": [],
   "source": [
    "color_pal = [\"#F8766D\", \"#D39200\", \"#93AA00\", \"#00BA38\", \"#00C19F\", \"#00B9E3\", \"#619CFF\", \"#DB72FB\"]\n",
    "_ = pjme.plot(style='.', figsize=(15,5), color=color_pal[0], title='PJM East')"
   ]
  },
  {
   "cell_type": "markdown",
   "metadata": {
    "_uuid": "1c1c9cf0b6c70a8edd221810bb289b8837889288"
   },
   "source": [
    "# Train/Test Split\n",
    "Cut off the data after 2015 to use as our validation set."
   ]
  },
  {
   "cell_type": "code",
   "execution_count": null,
   "metadata": {
    "_uuid": "9e5c8c6fd78d2ac35c628315a7f12ad19c84dddb"
   },
   "outputs": [],
   "source": [
    "split_date = '01-Jan-2015'\n",
    "pjme_train = pjme.loc[pjme.index <= split_date].copy()\n",
    "pjme_test = pjme.loc[pjme.index > split_date].copy()"
   ]
  },
  {
   "cell_type": "code",
   "execution_count": null,
   "metadata": {
    "_uuid": "e1a730acd8b68e569ce5ff1abe18b047ca85ab91"
   },
   "outputs": [],
   "source": [
    "_ = pjme_test \\\n",
    "    .rename(columns={'PJME_MW': 'TEST SET'}) \\\n",
    "    .join(pjme_train.rename(columns={'PJME_MW': 'TRAINING SET'}), how='outer') \\\n",
    "    .plot(figsize=(15,5), title='PJM East', style='.')"
   ]
  },
  {
   "cell_type": "markdown",
   "metadata": {
    "_uuid": "a40373b87cfcbbfac9be205b3dbacf56bb9bc3d0"
   },
   "source": [
    "# Create Time Series Features"
   ]
  },
  {
   "cell_type": "code",
   "execution_count": null,
   "metadata": {
    "_uuid": "53212882b070962fad91503aec7d2e550ac401c7"
   },
   "outputs": [],
   "source": [
    "def create_features(df, label=None):\n",
    "    \"\"\"\n",
    "    Creates time series features from datetime index\n",
    "    \"\"\"\n",
    "    df['date'] = df.index\n",
    "    df['hour'] = df['date'].dt.hour\n",
    "    df['dayofweek'] = df['date'].dt.dayofweek\n",
    "    df['quarter'] = df['date'].dt.quarter\n",
    "    df['month'] = df['date'].dt.month\n",
    "    df['year'] = df['date'].dt.year\n",
    "    df['dayofyear'] = df['date'].dt.dayofyear\n",
    "    df['dayofmonth'] = df['date'].dt.day\n",
    "    df['weekofyear'] = df['date'].dt.weekofyear\n",
    "    \n",
    "    X = df[['hour','dayofweek','quarter','month','year',\n",
    "           'dayofyear','dayofmonth','weekofyear']]\n",
    "    if label:\n",
    "        y = df[label]\n",
    "        return X, y\n",
    "    return X"
   ]
  },
  {
   "cell_type": "code",
   "execution_count": null,
   "metadata": {
    "_uuid": "6bb80315201ecc19305b67e4ba8177bcbb9514b4"
   },
   "outputs": [],
   "source": [
    "X_train, y_train = create_features(pjme_train, label='PJME_MW')\n",
    "X_test, y_test = create_features(pjme_test, label='PJME_MW')"
   ]
  },
  {
   "cell_type": "markdown",
   "metadata": {
    "_uuid": "60ffc6c21d16280ee05faead916fd09c34fa490c"
   },
   "source": [
    "# Create XGBoost Model"
   ]
  },
  {
   "cell_type": "code",
   "execution_count": null,
   "metadata": {
    "_uuid": "f608b0b457225f175c2eb1c4a74450747b095e93"
   },
   "outputs": [],
   "source": [
    "reg = xgb.XGBRegressor(n_estimators=1000)\n",
    "reg.fit(X_train, y_train,\n",
    "        eval_set=[(X_train, y_train), (X_test, y_test)],\n",
    "        early_stopping_rounds=50,\n",
    "       verbose=False) # Change verbose to True if you want to see it train"
   ]
  },
  {
   "cell_type": "markdown",
   "metadata": {
    "_uuid": "bf8d62f71d3037055bb267d283d58e510b2f58ff"
   },
   "source": [
    "## Feature Importances\n",
    "Feature importance is a great way to get a general idea about which features the model is relying on most to make the prediction. This is a metric that simply sums up how many times each feature is split on.\n",
    "\n",
    "We can see that the day of year was most commonly used to split trees, while hour and year came in next. Quarter has low importance due to the fact that it could be created by different dayofyear splits."
   ]
  },
  {
   "cell_type": "code",
   "execution_count": null,
   "metadata": {
    "_uuid": "bf9e389874f0463e33fc844a4821b27f32353e2c"
   },
   "outputs": [],
   "source": [
    "_ = plot_importance(reg, height=0.9)"
   ]
  },
  {
   "cell_type": "markdown",
   "metadata": {
    "_uuid": "7d16d64d0081f8ab9d5aff6970115f82a2e455a1"
   },
   "source": [
    "# Forecast on Test Set"
   ]
  },
  {
   "cell_type": "code",
   "execution_count": null,
   "metadata": {
    "_uuid": "ab0386238f329132254a5d2fd1ab15cc05c2ce4e"
   },
   "outputs": [],
   "source": [
    "pjme_test['MW_Prediction'] = reg.predict(X_test)\n",
    "pjme_all = pd.concat([pjme_test, pjme_train], sort=False)"
   ]
  },
  {
   "cell_type": "code",
   "execution_count": null,
   "metadata": {
    "_uuid": "46c23648943927364a6e35428ac15dbb52a3ee7b"
   },
   "outputs": [],
   "source": [
    "_ = pjme_all[['PJME_MW','MW_Prediction']].plot(figsize=(15, 5))"
   ]
  },
  {
   "cell_type": "markdown",
   "metadata": {
    "_uuid": "7b0c23f8ab69549bcf64c154a4ab6cb86c0fe204"
   },
   "source": [
    "# Look at first month of predictions"
   ]
  },
  {
   "cell_type": "code",
   "execution_count": null,
   "metadata": {
    "_uuid": "b07c99d3ceffa3634714f23ab3e27b7d1c6fb3e1"
   },
   "outputs": [],
   "source": [
    "# Plot the forecast with the actuals\n",
    "f, ax = plt.subplots(1)\n",
    "f.set_figheight(5)\n",
    "f.set_figwidth(15)\n",
    "_ = pjme_all[['MW_Prediction','PJME_MW']].plot(ax=ax,\n",
    "                                              style=['-','.'])\n",
    "ax.set_xbound(lower='01-01-2015', upper='02-01-2015')\n",
    "ax.set_ylim(0, 60000)\n",
    "plot = plt.suptitle('January 2015 Forecast vs Actuals')"
   ]
  },
  {
   "cell_type": "markdown",
   "metadata": {
    "_uuid": "7c46fb18df1f2a56cf2ab082814d890d34e54e4e"
   },
   "source": []
  },
  {
   "cell_type": "code",
   "execution_count": null,
   "metadata": {
    "_uuid": "153d79e6a408c5705b5c4a19ef100449d0c38d8b"
   },
   "outputs": [],
   "source": [
    "# Plot the forecast with the actuals\n",
    "f, ax = plt.subplots(1)\n",
    "f.set_figheight(5)\n",
    "f.set_figwidth(15)\n",
    "_ = pjme_all[['MW_Prediction','PJME_MW']].plot(ax=ax,\n",
    "                                              style=['-','.'])\n",
    "ax.set_xbound(lower='01-01-2015', upper='01-08-2015')\n",
    "ax.set_ylim(0, 60000)\n",
    "plot = plt.suptitle('First Week of January Forecast vs Actuals')"
   ]
  },
  {
   "cell_type": "code",
   "execution_count": null,
   "metadata": {
    "_uuid": "8e24f91a3a71acd6d16eb930381d5b9baabffae2"
   },
   "outputs": [],
   "source": [
    "f, ax = plt.subplots(1)\n",
    "f.set_figheight(5)\n",
    "f.set_figwidth(15)\n",
    "_ = pjme_all[['MW_Prediction','PJME_MW']].plot(ax=ax,\n",
    "                                              style=['-','.'])\n",
    "ax.set_ylim(0, 60000)\n",
    "ax.set_xbound(lower='07-01-2015', upper='07-08-2015')\n",
    "plot = plt.suptitle('First Week of July Forecast vs Actuals')"
   ]
  },
  {
   "cell_type": "markdown",
   "metadata": {
    "_uuid": "31964c9653b64c3e3f6fe48f5b3d7eb1987eaf84"
   },
   "source": [
    "# Error Metrics On Test Set\n",
    "Our RMSE error is 13780445  \n",
    "Our MAE error is 2848.89  \n",
    "Our MAPE error is 8.9%"
   ]
  },
  {
   "cell_type": "code",
   "execution_count": null,
   "metadata": {
    "_uuid": "baf33e07988ad1860ab3fee31817cba797110879"
   },
   "outputs": [],
   "source": [
    "mean_squared_error(y_true=pjme_test['PJME_MW'],\n",
    "                   y_pred=pjme_test['MW_Prediction'])"
   ]
  },
  {
   "cell_type": "code",
   "execution_count": null,
   "metadata": {
    "_uuid": "4943521452099c82efb7fd00da4305b457a52fc0"
   },
   "outputs": [],
   "source": [
    "mean_absolute_error(y_true=pjme_test['PJME_MW'],\n",
    "                   y_pred=pjme_test['MW_Prediction'])"
   ]
  },
  {
   "cell_type": "markdown",
   "metadata": {
    "_uuid": "3bfa58efee593e8ea8a8accdcd981b6b9cde5146"
   },
   "source": [
    "I like using mean absolute percent error because it gives an easy to interperate percentage showing how off the predictions are.\n",
    "MAPE isn't included in sklearn so we need to use a custom function."
   ]
  },
  {
   "cell_type": "code",
   "execution_count": null,
   "metadata": {
    "_uuid": "32fcb6d7905e2847a18e89e310b0a61bfc6c3321"
   },
   "outputs": [],
   "source": [
    "def mean_absolute_percentage_error(y_true, y_pred): \n",
    "    \"\"\"Calculates MAPE given y_true and y_pred\"\"\"\n",
    "    y_true, y_pred = np.array(y_true), np.array(y_pred)\n",
    "    return np.mean(np.abs((y_true - y_pred) / y_true)) * 100"
   ]
  },
  {
   "cell_type": "code",
   "execution_count": null,
   "metadata": {
    "_uuid": "eb095dfe68dccdc10f545d2345e3ed10865102dd"
   },
   "outputs": [],
   "source": [
    "mean_absolute_percentage_error(y_true=pjme_test['PJME_MW'],\n",
    "                   y_pred=pjme_test['MW_Prediction'])"
   ]
  },
  {
   "cell_type": "markdown",
   "metadata": {
    "_uuid": "5f5225264a6ae80a24b4c2802eff73f576aa4867"
   },
   "source": [
    "# Look at Worst and Best Predicted Days"
   ]
  },
  {
   "cell_type": "code",
   "execution_count": null,
   "metadata": {
    "_uuid": "fb1fcc67506951b7a9708cce9463f899b98a7b37"
   },
   "outputs": [],
   "source": [
    "pjme_test['error'] = pjme_test['PJME_MW'] - pjme_test['MW_Prediction']\n",
    "pjme_test['abs_error'] = pjme_test['error'].apply(np.abs)\n",
    "error_by_day = pjme_test.groupby(['year','month','dayofmonth']) \\\n",
    "    .mean()[['PJME_MW','MW_Prediction','error','abs_error']]"
   ]
  },
  {
   "cell_type": "code",
   "execution_count": null,
   "metadata": {
    "_uuid": "6364555e8bed275076f6f6ee93c8537da3741aba"
   },
   "outputs": [],
   "source": [
    "# Over forecasted days\n",
    "error_by_day.sort_values('error', ascending=True).head(10)"
   ]
  },
  {
   "cell_type": "markdown",
   "metadata": {
    "_uuid": "adcc6c413889583c4ab195d3b9933827ff630762"
   },
   "source": [
    "Notice anything about the over forecasted days? \n",
    "- #1 worst day - July 4th, 2016 - is a holiday. \n",
    "- #3 worst day - December 25, 2015 - Christmas\n",
    "- #5 worst day - July 4th, 2016 - is a holiday.   \n",
    "Looks like our model may benefit from adding a holiday indicator."
   ]
  },
  {
   "cell_type": "code",
   "execution_count": null,
   "metadata": {
    "_uuid": "72ee8685aea837bc274cec93c2fabb108b6a107d"
   },
   "outputs": [],
   "source": [
    "# Worst absolute predicted days\n",
    "error_by_day.sort_values('abs_error', ascending=False).head(10)"
   ]
  },
  {
   "cell_type": "markdown",
   "metadata": {
    "_uuid": "0f4c1097312214cb35781d1e692a50b9a4c75654"
   },
   "source": [
    "The best predicted days seem to be a lot of october (not many holidays and mild weather) Also early may"
   ]
  },
  {
   "cell_type": "code",
   "execution_count": null,
   "metadata": {
    "_uuid": "faf0e5530e1f02fb82022813780562c42a911493"
   },
   "outputs": [],
   "source": [
    "# Best predicted days\n",
    "error_by_day.sort_values('abs_error', ascending=True).head(10)"
   ]
  },
  {
   "cell_type": "markdown",
   "metadata": {
    "_uuid": "0f78f528ca59a1e1cfb253ab69651149a5018b3b"
   },
   "source": [
    "# Plotting some best/worst predicted days"
   ]
  },
  {
   "cell_type": "code",
   "execution_count": null,
   "metadata": {
    "_uuid": "fd9d1df9db6153690488549f11cfd32c87cce960"
   },
   "outputs": [],
   "source": [
    "f, ax = plt.subplots(1)\n",
    "f.set_figheight(5)\n",
    "f.set_figwidth(10)\n",
    "_ = pjme_all[['MW_Prediction','PJME_MW']].plot(ax=ax,\n",
    "                                              style=['-','.'])\n",
    "ax.set_ylim(0, 60000)\n",
    "ax.set_xbound(lower='08-13-2016', upper='08-14-2016')\n",
    "plot = plt.suptitle('Aug 13, 2016 - Worst Predicted Day')"
   ]
  },
  {
   "cell_type": "markdown",
   "metadata": {
    "_uuid": "2ca961106be98ebbf703ba52b9d10a2d58ff8a56"
   },
   "source": [
    "This one is pretty impressive. SPOT ON!"
   ]
  },
  {
   "cell_type": "code",
   "execution_count": null,
   "metadata": {
    "_uuid": "39eac1134b1278e7dd5f848ea03e7246d730b97f"
   },
   "outputs": [],
   "source": [
    "f, ax = plt.subplots(1)\n",
    "f.set_figheight(5)\n",
    "f.set_figwidth(10)\n",
    "_ = pjme_all[['MW_Prediction','PJME_MW']].plot(ax=ax,\n",
    "                                              style=['-','.'])\n",
    "ax.set_ylim(0, 60000)\n",
    "ax.set_xbound(lower='10-03-2016', upper='10-04-2016')\n",
    "plot = plt.suptitle('Oct 3, 2016 - Best Predicted Day')"
   ]
  },
  {
   "cell_type": "code",
   "execution_count": null,
   "metadata": {
    "_uuid": "b20a85a8224428cbcb9888c62fa466757b0e04f7"
   },
   "outputs": [],
   "source": [
    "f, ax = plt.subplots(1)\n",
    "f.set_figheight(5)\n",
    "f.set_figwidth(10)\n",
    "_ = pjme_all[['MW_Prediction','PJME_MW']].plot(ax=ax,\n",
    "                                              style=['-','.'])\n",
    "ax.set_ylim(0, 60000)\n",
    "ax.set_xbound(lower='08-13-2016', upper='08-14-2016')\n",
    "plot = plt.suptitle('Aug 13, 2016 - Worst Predicted Day')"
   ]
  },
  {
   "cell_type": "markdown",
   "metadata": {
    "_uuid": "4cd7f2212c6ca87a2ffb2b8ea12a3581e4ee4027"
   },
   "source": [
    "# Up next?\n",
    "- Add Lag variables\n",
    "- Add holiday indicators.\n",
    "- Add weather data source."
   ]
  }
 ],
 "metadata": {
  "kernelspec": {
   "display_name": "Python 3",
   "language": "python",
   "name": "python3"
  },
  "language_info": {
   "codemirror_mode": {
    "name": "ipython",
    "version": 3
   },
   "file_extension": ".py",
   "mimetype": "text/x-python",
   "name": "python",
   "nbconvert_exporter": "python",
   "pygments_lexer": "ipython3",
   "version": "3.8.3"
  }
 },
 "nbformat": 4,
 "nbformat_minor": 1
}
