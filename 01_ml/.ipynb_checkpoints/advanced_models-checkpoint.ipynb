{
 "cells": [
  {
   "cell_type": "markdown",
   "metadata": {},
   "source": [
    "## Import dependencies"
   ]
  },
  {
   "cell_type": "code",
   "execution_count": 2,
   "metadata": {},
   "outputs": [],
   "source": [
    "# display full output in Notebook, instead of only the last result\n",
    "from IPython.core.interactiveshell import InteractiveShell\n",
    "InteractiveShell.ast_node_interactivity = \"all\"\n",
    "\n",
    "# customized preprocessing functions\n",
    "import util\n",
    "\n",
    "# standard libraries\n",
    "import pandas as pd\n",
    "import numpy as np\n",
    "import os\n",
    "from datetime import datetime\n",
    "import time\n",
    "import matplotlib.pyplot as plt\n",
    "\n",
    "\n",
    "# scikit-learn\n",
    "from sklearn.metrics import mean_squared_error\n",
    "from sklearn.metrics import mean_absolute_error\n",
    "from sklearn.preprocessing import OrdinalEncoder \n",
    "from sklearn.preprocessing import OneHotEncoder\n",
    "from sklearn.compose import ColumnTransformer\n",
    "from sklearn.preprocessing import StandardScaler\n",
    "from sklearn.pipeline import Pipeline\n",
    "from sklearn.ensemble import RandomForestRegressor\n",
    "from sklearn.model_selection import TimeSeriesSplit\n",
    "from sklearn.model_selection import GridSearchCV\n",
    "from sklearn.model_selection import RandomizedSearchCV\n",
    "\n",
    "# models\n",
    "from pmdarima import auto_arima\n",
    "import statsmodels.api as sm\n",
    "import xgboost as xgb"
   ]
  },
  {
   "cell_type": "markdown",
   "metadata": {},
   "source": [
    "## Import data"
   ]
  },
  {
   "cell_type": "code",
   "execution_count": 3,
   "metadata": {},
   "outputs": [
    {
     "name": "stdout",
     "output_type": "stream",
     "text": [
      "Dataset shape of Rapperswil data: (12317, 18)\n",
      "Dataset shape of Burgdorf data: (7782, 18)\n"
     ]
    }
   ],
   "source": [
    "data_path = \"../00_data\"\n",
    "\n",
    "df_rapperswil = pd.read_csv(os.path.join(data_path, \"features_rapperswil.csv\"), sep=\",\")\n",
    "df_burgdorf = pd.read_csv(os.path.join(data_path, \"features_burgdorf.csv\"), sep=\",\")\n",
    "\n",
    "print('Dataset shape of Rapperswil data: {}'.format(df_rapperswil.shape))\n",
    "print('Dataset shape of Burgdorf data: {}'.format(df_burgdorf.shape))\n",
    "\n",
    "df_rapperswil['date'] = pd.to_datetime(df_rapperswil['date'])\n",
    "df_burgdorf['date'] = pd.to_datetime(df_burgdorf['date'])"
   ]
  },
  {
   "cell_type": "code",
   "execution_count": 4,
   "metadata": {},
   "outputs": [],
   "source": [
    "#  declare categorical columns\n",
    "for col in ['hour', 'day_of_week', 'quarter', 'month', 'day_of_year', 'day_of_month', 'week_of_year', 'weather', 'holiday']:\n",
    "    df_rapperswil[col] = df_rapperswil[col].astype(object)\n",
    "    df_burgdorf[col] = df_burgdorf[col].astype(object)"
   ]
  },
  {
   "cell_type": "markdown",
   "metadata": {},
   "source": [
    "## Preprocessing"
   ]
  },
  {
   "cell_type": "code",
   "execution_count": 222,
   "metadata": {},
   "outputs": [],
   "source": [
    "def split_features(df, label=None):\n",
    "    X = df[[# 'date_only', (is not as a feature and kept out-commented to have overview of source data)\n",
    "             'hour',\n",
    "             'day_of_week',\n",
    "             'quarter',\n",
    "             'month',\n",
    "             'day_of_year',\n",
    "             'day_of_month',\n",
    "             'week_of_year',\n",
    "             'temperature',\n",
    "             'weather',]]\n",
    "            # 'holiday',\n",
    "            # 't-7',\n",
    "            # 't-3',\n",
    "            # 't-2',\n",
    "            # 't-1']]\n",
    "    if label:\n",
    "        y = df[label]\n",
    "        return X, y\n",
    "    return X"
   ]
  },
  {
   "cell_type": "markdown",
   "metadata": {},
   "source": [
    "Split data into train and test data using 70/30% ratio by considering the order of the time series"
   ]
  },
  {
   "cell_type": "code",
   "execution_count": 223,
   "metadata": {},
   "outputs": [],
   "source": [
    "# set datetime column as index\n",
    "df_burgdorf.set_index('date', inplace = True)\n",
    "# df_rapperswil.set_index('date', inplace = True)"
   ]
  },
  {
   "cell_type": "code",
   "execution_count": 224,
   "metadata": {},
   "outputs": [
    {
     "data": {
      "text/plain": [
       "Timestamp('2021-08-16 04:00:00')"
      ]
     },
     "execution_count": 224,
     "metadata": {},
     "output_type": "execute_result"
    }
   ],
   "source": [
    "# identify split date manually and use beginning of the month of the specific date\n",
    "# e.g. 2021-08-16 04:00:00 --> 2021-08-01 01:00:00, only for pragmatic reasons for better paper story\n",
    "train = 0.7 * len(df_burgdorf)\n",
    "df_burgdorf[:int(train)].index.max()"
   ]
  },
  {
   "cell_type": "code",
   "execution_count": 225,
   "metadata": {},
   "outputs": [],
   "source": [
    "def split(df, split_date):\n",
    "    \n",
    "    # define split date\n",
    "    # split_date = datetime.strptime(split_date, '%Y-%m-%d %H:%M:%S').date()\n",
    "    split_date = datetime.strptime(split_date, '%Y-%m-%d %H:%M:%S')\n",
    "    \n",
    "    # split df into train and test set\n",
    "    df_train = df.loc[df.index <= split_date].copy()\n",
    "    df_test = df.loc[df.index > split_date].copy()\n",
    "    \n",
    "    # set date as index in both sets\n",
    "    # df_train = df_train.set_index('date')\n",
    "    # df_test = df_test.set_index('date')\n",
    "    \n",
    "    return df_train, df_test"
   ]
  },
  {
   "cell_type": "code",
   "execution_count": 226,
   "metadata": {},
   "outputs": [],
   "source": [
    "# df_train, df_test = split(df_rapperswil, '2021-07-01 01:00:00')\n",
    "df_train, df_test = split(df_burgdorf, '2021-08-01 01:00:00')"
   ]
  },
  {
   "cell_type": "code",
   "execution_count": 227,
   "metadata": {},
   "outputs": [],
   "source": [
    "# split data sets\n",
    "X_train, y_train = split_features(df_train, label='occupancy_rate')\n",
    "X_test, y_test = split_features(df_test, label='occupancy_rate')"
   ]
  },
  {
   "cell_type": "markdown",
   "metadata": {},
   "source": [
    "**Feature standardization and scaling** \\\n",
    "Features vary in magnitude and units, which is why we apply feature scaling using `StandardScaler()` for numeric features and `OneHotEncoder()` for categorical features. For example, the input value `day_of_week` should not be used as a continuous value from 1 to 7, since this would mean that the last weekdays (5, 6 or 7) are associated to a higher\n",
    "weight than the first ones (1,2 and 3)."
   ]
  },
  {
   "cell_type": "code",
   "execution_count": 228,
   "metadata": {},
   "outputs": [
    {
     "data": {
      "text/plain": [
       "True"
      ]
     },
     "execution_count": 228,
     "metadata": {},
     "output_type": "execute_result"
    }
   ],
   "source": [
    "# scaling not really required for decision trees\n",
    "\n",
    "\n",
    "# split numerical and categorical columns\n",
    "data_num = X_train.select_dtypes(include=[np.number])\n",
    "data_cat = X_train.select_dtypes(include=[np.object])\n",
    "\n",
    "# check whether no columns got lost during type allocation\n",
    "len(X_train.columns) == len(data_num.columns) + len(data_cat.columns)\n",
    "\n",
    "# create data pipeline\n",
    "num_pipeline = Pipeline([('std_scaler', StandardScaler())])\n",
    "\n",
    "num_attribs = list(data_num)\n",
    "cat_attribs = list(data_cat)\n",
    "\n",
    "full_pipeline = ColumnTransformer([\n",
    "        ('num', num_pipeline, num_attribs),\n",
    "        # don’t take precautions to handle unseen values for OneHotEncoder\n",
    "        ('cat', OneHotEncoder(handle_unknown = 'ignore'), cat_attribs)])\n",
    "\n",
    "# lightgbm (ms) \n",
    "\n",
    "# fit and transform training data set with preprocessing pipeline and\n",
    "# only transform test feature set with the pipeline fit on training feature set to not\n",
    "# artificially improve test performance\n",
    "\n",
    "X_train = full_pipeline.fit_transform(X_train)\n",
    "X_test = full_pipeline.transform(X_test)"
   ]
  },
  {
   "cell_type": "markdown",
   "metadata": {},
   "source": [
    "## 1. Random forest"
   ]
  },
  {
   "cell_type": "markdown",
   "metadata": {},
   "source": [
    "For hyperparameter optimization, we apply `random grid search` with cross validation to narrow down the range of reasonable values for the given parameters for the models. Then, `full grid search` with cross validation is applied with the value range obtained from the random grid search."
   ]
  },
  {
   "cell_type": "markdown",
   "metadata": {},
   "source": [
    "1) Define random grid"
   ]
  },
  {
   "cell_type": "code",
   "execution_count": null,
   "metadata": {},
   "outputs": [],
   "source": [
    "# number of trees in random forest\n",
    "n_estimators = [x for x in range(200, 2000, 25)]\n",
    "\n",
    "# number of features to consider at every split\n",
    "max_features = ['auto', 'sqrt']\n",
    "\n",
    "# maximum number of levels in tree\n",
    "max_depth = [int(x) for x in np.linspace(10, 110, num = 11)]\n",
    "max_depth.append(None)\n",
    "\n",
    "# important note - consider regularization for the next run\n",
    "\n",
    "# minimum number of samples required to split a node\n",
    "min_samples_split = [2, 5, 10]\n",
    "\n",
    "# minimum number of samples required at each leaf node\n",
    "min_samples_leaf = [1, 2, 4]\n",
    "\n",
    "# create grid\n",
    "random_grid = {'n_estimators': n_estimators,\n",
    "               'max_features': max_features,\n",
    "               'max_depth': max_depth,\n",
    "               'min_samples_split': min_samples_split,\n",
    "               'min_samples_leaf': min_samples_leaf}"
   ]
  },
  {
   "cell_type": "markdown",
   "metadata": {},
   "source": [
    "2) Run grid search"
   ]
  },
  {
   "cell_type": "code",
   "execution_count": null,
   "metadata": {},
   "outputs": [],
   "source": [
    "# use the random grid to search for best hyperparameters\n",
    "\n",
    "# create random forest model\n",
    "rf = RandomForestRegressor(random_state = 42)\n",
    "\n",
    "# ensure prediction is made on subsequent data\n",
    "cv = TimeSeriesSplit(n_splits=3)\n",
    "\n",
    "# random search of parameters, using 3 fold cross validation, \n",
    "# search across 75 different combinations, and use all available cores\n",
    "rf_random = RandomizedSearchCV(estimator = rf, param_distributions = random_grid, n_iter = 75, cv = cv,\n",
    "                               verbose=2, random_state=42, n_jobs = -1)\n",
    "# fit the random search model\n",
    "rf_random.fit(X_train, y_train)\n",
    "\n",
    "#s how best parameters\n",
    "print('Best parameters:')\n",
    "rf_random.best_params_"
   ]
  },
  {
   "cell_type": "markdown",
   "metadata": {},
   "source": [
    "3) Define new grid with optimal value range"
   ]
  },
  {
   "cell_type": "code",
   "execution_count": null,
   "metadata": {},
   "outputs": [],
   "source": [
    "# define more specific grid\n",
    "\n",
    "# number of trees in random forest\n",
    "n_estimators = [x for x in range(200, 2000, 25)]\n",
    "\n",
    "# number of features to consider at every split\n",
    "max_features = ['auto', 'sqrt']\n",
    "\n",
    "# maximum number of levels in tree\n",
    "max_depth = [int(x) for x in np.linspace(10, 110, num = 11)]\n",
    "max_depth.append(None)\n",
    "\n",
    "# minimum number of samples required to split a node\n",
    "min_samples_split = [2, 5, 10]\n",
    "\n",
    "# minimum number of samples required at each leaf node\n",
    "min_samples_leaf = [1, 2, 4]\n",
    "\n",
    "# create grid\n",
    "random_grid = {'n_estimators': n_estimators,\n",
    "               'max_features': max_features,\n",
    "               'max_depth': max_depth,\n",
    "               'min_samples_split': min_samples_split,\n",
    "               'min_samples_leaf': min_samples_leaf}"
   ]
  },
  {
   "cell_type": "markdown",
   "metadata": {},
   "source": [
    "4) Run grid search"
   ]
  },
  {
   "cell_type": "code",
   "execution_count": null,
   "metadata": {},
   "outputs": [],
   "source": [
    "# create random forest model\n",
    "rf = RandomForestRegressor(random_state = 42)\n",
    "\n",
    "# ensure prediction is made on subsequent data\n",
    "cv = TimeSeriesSplit(n_splits=3)\n",
    "\n",
    "# random search of parameters, using 3 fold cross validation, \n",
    "# search across 75 different combinations, and use all available cores\n",
    "rf = GridSearchCV(estimator = rf, param_distributions = random_grid, n_iter = 75, cv = cv,\n",
    "                               verbose=2, random_state=42, n_jobs = -1)\n",
    "# fit the random search model\n",
    "rf.fit(X_train, y_train)\n",
    "\n",
    "# show best parameters\n",
    "print('Best parameters:')\n",
    "rf.best_params_"
   ]
  },
  {
   "cell_type": "markdown",
   "metadata": {},
   "source": [
    "5) Fit model with optimal parameters"
   ]
  },
  {
   "cell_type": "code",
   "execution_count": null,
   "metadata": {},
   "outputs": [],
   "source": [
    "rf = RandomForestRegressor(random_state = 42,\n",
    "                           n_estimators = 600,\n",
    "                           max_features = 'auto',\n",
    "                           max_depth = 20,\n",
    "                           min_samples_split = 2,\n",
    "                           min_samples_leaf = 2)"
   ]
  },
  {
   "cell_type": "code",
   "execution_count": null,
   "metadata": {},
   "outputs": [],
   "source": [
    "# fit the random search model\n",
    "rf.fit(X_train, y_train)\n",
    "\n",
    "# run prediction\n",
    "df_test['random_forest'] = rf.predict(X_test)\n",
    "df_all = pd.concat([df_test, df_train], sort=False)"
   ]
  },
  {
   "cell_type": "code",
   "execution_count": null,
   "metadata": {},
   "outputs": [],
   "source": [
    "print('MAE: ', round(mean_absolute_error(y_true=df_test['occupancy_rate'], y_pred=df_test['random_forest']), 2))\n",
    "print('RMSE: ', round(mean_squared_error(y_true=df_test['occupancy_rate'], y_pred=df_test['random_forest'], squared=False), 2))"
   ]
  },
  {
   "cell_type": "markdown",
   "metadata": {},
   "source": [
    "## 2. XGBoost"
   ]
  },
  {
   "cell_type": "markdown",
   "metadata": {},
   "source": [
    "1) Define random grid"
   ]
  },
  {
   "cell_type": "code",
   "execution_count": null,
   "metadata": {},
   "outputs": [],
   "source": [
    "# number of trees in random forest\n",
    "n_estimators = [x for x in range(200, 2000, 25)]\n",
    "\n",
    "# learning rate\n",
    "arr = np.arange(0.01, 1.0, 0.05)\n",
    "eta = arr.tolist()\n",
    "\n",
    "# defines the minimum sum of weights of all observations required in a child\n",
    "min_child_weight = [i for i in range(1, 100, 8)]\n",
    "\n",
    "# maximum depth of a tree\n",
    "max_depth = [i for i in range(1, 250, 5)]\n",
    "\n",
    "# regularization\n",
    "gamma = [0, 1, 5]\n",
    "\n",
    "# number of columns used by each tree\n",
    "colsample_bytree = [0.8, 0.9, 1]\n",
    "\n",
    "# maximum number of leaf nodes in tree\n",
    "max_leaf_nodes = [i for i in range(10, 300, 5)]\n",
    "max_leaf_nodes.append(None)\n",
    "\n",
    "# create random grid\n",
    "random_grid = {'n_estimators' : n_estimators,\n",
    "               'eta' : eta,\n",
    "               'max_depth': max_depth,\n",
    "               # 'max_features': max_features,\n",
    "               'min_child_weight': min_child_weight,\n",
    "               'gamma' : gamma,\n",
    "               'colsample_bytree' : colsample_bytree,\n",
    "               'max_leaf_nodes': max_leaf_nodes}"
   ]
  },
  {
   "cell_type": "markdown",
   "metadata": {},
   "source": [
    "2) Run random grid search"
   ]
  },
  {
   "cell_type": "code",
   "execution_count": null,
   "metadata": {},
   "outputs": [],
   "source": [
    "# create xgb model\n",
    "xgb = xgb.XGBRegressor(random_state=42)\n",
    "\n",
    "# ensure prediction is made on subsequent data\n",
    "cv = TimeSeriesSplit(n_splits=3)\n",
    "\n",
    "# random search of parameters, using 3 fold cross validation, \n",
    "# search across 75 different combinations, and use all available cores\n",
    "xbg_random = RandomizedSearchCV(estimator = xgb, param_distributions = random_grid, n_iter = 75, cv = cv,\n",
    "                               verbose=2, random_state=42, n_jobs = -1)\n",
    "# fit the xgboost model\n",
    "start = time.time()\n",
    "xbg_random.fit(X_train, y_train)\n",
    "end = time.time()\n",
    "print(end - start)\n",
    "\n",
    "# show best parameters\n",
    "print('Best parameters:')\n",
    "xbg_random.best_params_"
   ]
  },
  {
   "cell_type": "markdown",
   "metadata": {},
   "source": [
    "3) Define new grid with optimal value range"
   ]
  },
  {
   "cell_type": "markdown",
   "metadata": {},
   "source": [
    "4) Run grid search"
   ]
  },
  {
   "cell_type": "markdown",
   "metadata": {},
   "source": [
    "5) Optimal parameters obtained from last random grid search"
   ]
  },
  {
   "cell_type": "code",
   "execution_count": 229,
   "metadata": {},
   "outputs": [],
   "source": [
    "xgb = xgb.XGBRegressor(n_estimators = 1475,\n",
    "                            min_child_weight = 9,\n",
    "                            max_leaf_nodes = 190,\n",
    "                            # max_features = 'auto',\n",
    "                            max_depth = 91,\n",
    "                            gamma = 0,\n",
    "                            eta = 0.4,\n",
    "                            colsample_bytree = 0.9,\n",
    "                            random_state=42)"
   ]
  },
  {
   "cell_type": "code",
   "execution_count": 230,
   "metadata": {},
   "outputs": [
    {
     "name": "stdout",
     "output_type": "stream",
     "text": [
      "[15:45:21] WARNING: /Users/travis/build/dmlc/xgboost/src/learner.cc:516: \n",
      "Parameters: { max_leaf_nodes } might not be used.\n",
      "\n",
      "  This may not be accurate due to some parameters are only used in language bindings but\n",
      "  passed down to XGBoost core.  Or some parameters are not used but slip through this\n",
      "  verification. Please open an issue if you find above cases.\n",
      "\n",
      "\n"
     ]
    },
    {
     "data": {
      "text/plain": [
       "XGBRegressor(base_score=0.5, booster='gbtree', colsample_bylevel=1,\n",
       "             colsample_bynode=1, colsample_bytree=0.9, eta=0.4, gamma=0,\n",
       "             gpu_id=-1, importance_type='gain', interaction_constraints='',\n",
       "             learning_rate=0.400000006, max_delta_step=0, max_depth=91,\n",
       "             max_leaf_nodes=190, min_child_weight=9, missing=nan,\n",
       "             monotone_constraints='()', n_estimators=1475, n_jobs=0,\n",
       "             num_parallel_tree=1, random_state=42, reg_alpha=0, reg_lambda=1,\n",
       "             scale_pos_weight=1, subsample=1, tree_method='exact',\n",
       "             validate_parameters=1, verbosity=None)"
      ]
     },
     "execution_count": 230,
     "metadata": {},
     "output_type": "execute_result"
    }
   ],
   "source": [
    "# fit the random search model\n",
    "xgb.fit(X_train, y_train)\n",
    "\n",
    "# run prediction\n",
    "# give meaningful column name, e.g. \"prediction_xgb_all_features\"\n",
    "df_test['xgb_f1_f3_f4_features'] = xgb.predict(X_test)\n",
    "df_all = pd.concat([df_test, df_train], sort=False)"
   ]
  },
  {
   "cell_type": "code",
   "execution_count": null,
   "metadata": {},
   "outputs": [],
   "source": [
    "# Best Performance: 3.93 (MAE), 6.03 (RMSE) "
   ]
  },
  {
   "cell_type": "code",
   "execution_count": null,
   "metadata": {},
   "outputs": [],
   "source": [
    "print('MAE: ', round(mean_absolute_error(y_true=df_test['occupancy_rate'], y_pred=df_test['xgb_all_features']), 2))\n",
    "print('RMSE: ', round(mean_squared_error(y_true=df_test['occupancy_rate'], y_pred=df_test['xgb_all_features'], squared=False), 2))"
   ]
  },
  {
   "cell_type": "code",
   "execution_count": 231,
   "metadata": {},
   "outputs": [
    {
     "data": {
      "image/png": "[encoded data removed]",
      "text/plain": [
       "<Figure size 432x288 with 1 Axes>"
      ]
     },
     "metadata": {
      "needs_background": "light"
     },
     "output_type": "display_data"
    }
   ],
   "source": [
    "# plot the true target values for the test set versus the estimated values with the best model\n",
    "plt.scatter(df_test['occupancy_rate'], df_test['xgb_f1_f3_f4_features'], alpha=0.1);\n",
    "plt.plot([0, 100], [0, 100], \"k--\", lw=3);\n",
    "plt.xlabel('Measured parking occupancy (%)');\n",
    "plt.ylabel('Predicted parking occupancy (%)');\n",
    "plt.title('F1 + F3 + F4 features: True values vs predicted values');\n",
    "\n",
    "# provide MAE and RMSE details to the plot\n",
    "textstr = '\\n'.join((\n",
    "    r'MAE: %.2f' % (mean_absolute_error(y_true=df_test['occupancy_rate'], y_pred=df_test['xgb_f1_f3_f4_features'])),\n",
    "    r'RMSE: %.2f' % (mean_squared_error(y_true=df_test['occupancy_rate'], y_pred=df_test['xgb_f1_f3_f4_features'], squared=False))\n",
    "))\n",
    "\n",
    "# style infobox\n",
    "# ax.hist(x, 1000)\n",
    "# props = dict(boxstyle='round', facecolor='wheat', alpha=0.5)\n",
    "\n",
    "# place a text box in upper left in axes coords\n",
    "# plt.text(0.03, 0.95, textstr, verticalalignment='center', bbox=props, transform=ax.transAxes)\n",
    "\n",
    "# export - pay attention to an appropriate name\n",
    "file = 'xgb_burgdorf_f1_f2_f3_f4_features.png'\n",
    "plt.savefig('../05_visualisations_of_eda/' + file);"
   ]
  },
  {
   "cell_type": "code",
   "execution_count": null,
   "metadata": {},
   "outputs": [],
   "source": [
    "df_test[['occupancy_rate', 'xgb_all_features']]"
   ]
  },
  {
   "cell_type": "code",
   "execution_count": null,
   "metadata": {},
   "outputs": [],
   "source": [
    "df_test.index.max()"
   ]
  },
  {
   "cell_type": "code",
   "execution_count": null,
   "metadata": {},
   "outputs": [],
   "source": [
    "# Plot the forecast with the actuals\n",
    "model = 'xgb_all_features'\n",
    "\n",
    "fig = plt.figure(figsize=(20,8));\n",
    "ax = fig.add_subplot(111);\n",
    "_ = df_all[['occupancy_rate', model]].plot(ax=ax, style=['-','-'], linewidth=2, color=['steelblue', 'darkorange'])\n",
    "\n",
    "ax.set_xbound(lower='2021-08-01', upper='2021-11-20')\n",
    "# plot = plt.suptitle('Autumn 2021 Forecast vs Actuals')\n",
    "plt.title('XGBoost: August 2021 Forecast vs Actuals',\n",
    "           fontsize = 16, weight = 'bold');\n",
    "plt.xlabel('Date', fontsize = 14, weight = 'bold');\n",
    "plt.ylabel('Parking occupancy', fontsize = 14, weight = 'bold');\n",
    "\n",
    "\n",
    "# save fig\n",
    "\n",
    "file = 'burgdorf_xgboost.png'\n",
    "plt.savefig('../05_visualisations_of_eda/' + file, \n",
    "           facecolor=fig.get_facecolor(), edgecolor='none');"
   ]
  },
  {
   "cell_type": "code",
   "execution_count": null,
   "metadata": {},
   "outputs": [],
   "source": []
  }
 ],
 "metadata": {
  "kernelspec": {
   "display_name": "Python 3",
   "language": "python",
   "name": "python3"
  },
  "language_info": {
   "codemirror_mode": {
    "name": "ipython",
    "version": 3
   },
   "file_extension": ".py",
   "mimetype": "text/x-python",
   "name": "python",
   "nbconvert_exporter": "python",
   "pygments_lexer": "ipython3",
   "version": "3.8.3"
  }
 },
 "nbformat": 4,
 "nbformat_minor": 4
}
