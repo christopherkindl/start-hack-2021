{
 "cells": [
  {
   "cell_type": "markdown",
   "metadata": {},
   "source": [
    "## Import dependencies"
   ]
  },
  {
   "cell_type": "code",
   "execution_count": 86,
   "metadata": {},
   "outputs": [
    {
     "data": {
      "application/javascript": [
       "IPython.notebook.set_autosave_interval(60000)"
      ]
     },
     "metadata": {},
     "output_type": "display_data"
    },
    {
     "name": "stdout",
     "output_type": "stream",
     "text": [
      "Autosaving every 60 seconds\n"
     ]
    }
   ],
   "source": [
    "# autosave every 60 seconds\n",
    "%autosave 60\n",
    "\n",
    "#display full output in Notebook, instead of only the last result\n",
    "from IPython.core.interactiveshell import InteractiveShell\n",
    "InteractiveShell.ast_node_interactivity = \"all\"\n",
    "\n",
    "#plot pretty figures\n",
    "%matplotlib inline\n",
    "import matplotlib as mpl\n",
    "import matplotlib.pyplot as plt\n",
    "from matplotlib.ticker import PercentFormatter\n",
    "from matplotlib.ticker import MaxNLocator\n",
    "mpl.rc('axes', labelsize=14)\n",
    "mpl.rc('xtick', labelsize=12)\n",
    "mpl.rc('ytick', labelsize=12)\n",
    "\n",
    "#standard libraries\n",
    "import numpy as np\n",
    "import pandas as pd\n",
    "import os\n",
    "\n",
    "#make this notebook's output stable across runs\n",
    "np.random.seed(42)\n",
    "    \n",
    "#ignore useless warnings (see SciPy issue #5998)\n",
    "import warnings\n",
    "warnings.filterwarnings('ignore', category=FutureWarning)\n",
    "\n",
    "#ARIMA model\n",
    "from statsmodels.tsa.seasonal import seasonal_decompose\n",
    "from statsmodels.tsa.stattools import adfuller\n",
    "from statsmodels.graphics.tsaplots import plot_acf, plot_pacf\n",
    "\n",
    "#indicate how many differencing rounds are necessary\n",
    "from pmdarima.arima.utils import ndiffs\n",
    "\n",
    "#preprocessing libraries\n",
    "import json\n",
    "from datetime import datetime, timezone\n",
    "import time\n",
    "\n",
    "#model libraries\n",
    "from sklearn.preprocessing import OrdinalEncoder \n",
    "from sklearn.preprocessing import OneHotEncoder\n",
    "from sklearn.compose import ColumnTransformer\n",
    "from sklearn.preprocessing import StandardScaler\n",
    "from sklearn.pipeline import Pipeline\n",
    "from sklearn.model_selection import train_test_split\n",
    "from sklearn.model_selection import TimeSeriesSplit\n",
    "from sklearn.model_selection import cross_validate\n",
    "from sklearn.linear_model import LinearRegression\n",
    "from sklearn.linear_model import Ridge, Lasso\n",
    "from sklearn.linear_model import SGDRegressor\n",
    "from sklearn.preprocessing import PolynomialFeatures\n",
    "from sklearn.ensemble import RandomForestRegressor\n",
    "from sklearn.svm import SVR\n",
    "from sklearn.model_selection import cross_val_score\n",
    "from sklearn.model_selection import GridSearchCV\n",
    "from sklearn.model_selection import RandomizedSearchCV\n",
    "from sklearn.model_selection import StratifiedShuffleSplit\n",
    "from sklearn.tree import DecisionTreeRegressor\n",
    "from sklearn.ensemble import GradientBoostingRegressor, AdaBoostRegressor\n",
    "from fbprophet import Prophet\n",
    "from sklearn.metrics import mean_squared_error\n",
    "from sklearn.metrics import mean_absolute_error\n",
    "from sklearn.metrics import r2_score\n",
    "from sklearn.base import clone\n",
    "\n",
    "import xgboost as xgb\n",
    "from xgboost import plot_importance, plot_tree\n",
    "\n",
    "#viz\n",
    "import seaborn as sns\n",
    "# plt.style.use('fivethirtyeight')\n",
    "sns.set_style(\"whitegrid\")\n",
    "\n",
    "#store model\n",
    "import pickle"
   ]
  },
  {
   "cell_type": "markdown",
   "metadata": {},
   "source": [
    "## Import data"
   ]
  },
  {
   "cell_type": "code",
   "execution_count": 151,
   "metadata": {},
   "outputs": [],
   "source": [
    "# data path\n",
    "data_path = '/Users/christopherkindl/working/start-hack-2021/00_data/'\n",
    "\n",
    "#define variables\n",
    "rapperswil_data = 'rapperswil.csv'\n",
    "burgdorf_data = 'burgdorf.csv'\n",
    "weather_data = 'weather_rapperswil.csv'\n",
    "public_holidays = 'public_holidays.csv'\n",
    "\n",
    "#function to import data\n",
    "def load_data(data_path, data_type):\n",
    "    csv_path = os.path.join(data_path, data_type)\n",
    "    return pd.read_csv(csv_path, sep=';')\n",
    "\n",
    "#function to import data (,)\n",
    "def load_data_2(data_path, data_type):\n",
    "    csv_path = os.path.join(data_path, data_type)\n",
    "    return pd.read_csv(csv_path, sep=',')\n",
    "\n",
    "\n",
    "#load weather data\n",
    "df_weather = load_data_2(data_path, weather_data)\n",
    "\n",
    "#load parking data\n",
    "df_rapperswil = load_data(data_path, rapperswil_data)\n",
    "\n",
    "#load public holiday data\n",
    "col_list = ['Date']\n",
    "df_holidays = pd.read_csv('/Users/christopherkindl/working/start-hack-2021/00_data/public_holidays.csv',\n",
    "                          sep=';', encoding='latin1', usecols=col_list)\n",
    "\n",
    "df_holidays = df_holidays.rename(columns={'Date' : 'date'})\n",
    "\n",
    "df_holidays['date'] = [datetime.strptime(i, '%d.%m.%Y').date() for i in df_holidays.date]"
   ]
  },
  {
   "cell_type": "markdown",
   "metadata": {},
   "source": [
    "## Data cleaning "
   ]
  },
  {
   "cell_type": "code",
   "execution_count": 30,
   "metadata": {},
   "outputs": [],
   "source": [
    "#rename columns\n",
    "df_rapperswil = df_rapperswil.rename(columns={'Datum': 'date', 'BELEGUNGSQUOTE (%)': 'occupancy_rate'})\n",
    "\n",
    "#convert date column into datetime format\n",
    "df_rapperswil['date'] = pd.to_datetime(df_rapperswil['date'])\n",
    "\n",
    "#remove time zone\n",
    "df_rapperswil['date'] = df_rapperswil['date'].apply(lambda x: x.replace(tzinfo=None))"
   ]
  },
  {
   "cell_type": "markdown",
   "metadata": {},
   "source": [
    "## Feature Engineering"
   ]
  },
  {
   "cell_type": "markdown",
   "metadata": {},
   "source": [
    "We see the following features as relevant:\n",
    "\n",
    "**Date-time features:**\n",
    "- Hour\n",
    "- Day of week\n",
    "- Quarter\n",
    "- Month\n",
    "- Day of year\n",
    "- Day of month\n",
    "- Week of year\n",
    "\n",
    "**Local features:**\n",
    "- Weather type\n",
    "- Temperature (Fahrenheit)\n",
    "- Public holiday or not (Coming soon)\n",
    "\n",
    "**Lag features:** (TBD)\n"
   ]
  },
  {
   "cell_type": "markdown",
   "metadata": {},
   "source": [
    "### Date-time features"
   ]
  },
  {
   "cell_type": "code",
   "execution_count": 26,
   "metadata": {},
   "outputs": [],
   "source": [
    "def time_features(df, label=None):\n",
    "    \"\"\"\n",
    "    Input initial df of parking lots (e.g. df_rapperswil).\n",
    "    Create several time dimensions, such as quarter or day of week.\n",
    "    Return df with new time dimensions.\n",
    "    \"\"\"\n",
    "    df = df.copy()\n",
    "    #df['id'] = df.index\n",
    "    df['date_only'] = df['date'].dt.date\n",
    "    df['hour'] = df['date'].dt.hour\n",
    "    df['day_of_week'] = df['date'].dt.dayofweek\n",
    "    #df['day_name'] = df['date'].dt.day_name()\n",
    "    df['quarter'] = df['date'].dt.quarter\n",
    "    df['month'] = df['date'].dt.month\n",
    "    #df['year'] = df['date'].dt.year\n",
    "    df['day_of_year'] = df['date'].dt.dayofyear\n",
    "    df['day_of_month'] = df['date'].dt.day\n",
    "    df['week_of_year'] = df['date'].dt.weekofyear\n",
    "    \n",
    "    return df"
   ]
  },
  {
   "cell_type": "code",
   "execution_count": 34,
   "metadata": {},
   "outputs": [],
   "source": [
    "df_rapperswil = time_features(df_rapperswil)"
   ]
  },
  {
   "cell_type": "markdown",
   "metadata": {},
   "source": [
    "### Local features"
   ]
  },
  {
   "cell_type": "code",
   "execution_count": 31,
   "metadata": {},
   "outputs": [],
   "source": [
    "#only keep essential columns\n",
    "df_weather = df_weather[['dt', 'temp', 'weather_main']]\n",
    "\n",
    "#convert date column into datetime format\n",
    "df_weather['date'] = pd.to_datetime(df_weather['dt'], unit='s')\n",
    "\n",
    "# keep only essential columns\n",
    "# df_weather = df_weather[['date', 'weather_main']]\n",
    "\n",
    "#drop dt column\n",
    "df_weather.drop(columns=['dt'], inplace = True)\n",
    "\n",
    "# rename columns\n",
    "df_weather = df_weather.rename(columns={'weather_main': 'weather', 'temp' : 'temperature'})"
   ]
  },
  {
   "cell_type": "markdown",
   "metadata": {},
   "source": [
    "Merge weather data, parking and public holidays data"
   ]
  },
  {
   "cell_type": "code",
   "execution_count": null,
   "metadata": {},
   "outputs": [],
   "source": [
    "merged_df = pd.merge(df_rapperswil, df_weather, how='inner', on = 'date')\n",
    "\n",
    "# drop date_only column\n",
    "# merged_df = merged_df.drop('date_only', 1)"
   ]
  },
  {
   "cell_type": "code",
   "execution_count": 164,
   "metadata": {},
   "outputs": [],
   "source": [
    "# check whether date is holiday day\n",
    "holidays = [i for i in df_holidays.date]\n",
    "merged_df['holiday'] = merged_df['date_only'].isin(holidays)\n",
    "\n",
    "# convert boolean into integers\n",
    "merged_df.replace({'holiday': {False: 0, True: 1}}, inplace=True)"
   ]
  },
  {
   "cell_type": "markdown",
   "metadata": {},
   "source": [
    "## Data preperation"
   ]
  },
  {
   "cell_type": "markdown",
   "metadata": {},
   "source": [
    "1) General configurations"
   ]
  },
  {
   "cell_type": "code",
   "execution_count": 168,
   "metadata": {},
   "outputs": [],
   "source": [
    "# split into X and y\n",
    "X, y = merged_df.drop(['occupancy_rate'], axis=1), merged_df[['occupancy_rate']]\n",
    "# X, y = merged_df[['hour']], merged_df[['occupancy_rate']]\n",
    "\n",
    "# number of cross-validation rounds for model evaluation\n",
    "ts_cv = TimeSeriesSplit(n_splits=5)"
   ]
  },
  {
   "cell_type": "markdown",
   "metadata": {},
   "source": [
    "2) Pre-processing pipeline\n",
    "- drop (or impute) Nan values\n",
    "- encode features\n",
    "- standardise features (scaling)"
   ]
  },
  {
   "cell_type": "code",
   "execution_count": 170,
   "metadata": {},
   "outputs": [],
   "source": [
    "# transform categorical values into integers\n",
    "X['weather'] = pd.Categorical(X['weather'])\n",
    "X['weather'] = X.weather.cat.codes"
   ]
  },
  {
   "cell_type": "code",
   "execution_count": 13,
   "metadata": {},
   "outputs": [
    {
     "name": "stderr",
     "output_type": "stream",
     "text": [
      "<ipython-input-13-12fa8e0ca122>:3: DeprecationWarning: `np.object` is a deprecated alias for the builtin `object`. To silence this warning, use `object` by itself. Doing this will not modify any behavior and is safe. \n",
      "Deprecated in NumPy 1.20; for more details and guidance: https://numpy.org/devdocs/release/1.20.0-notes.html#deprecations\n",
      "  data_cat = X.select_dtypes(include=[np.object])\n"
     ]
    }
   ],
   "source": [
    "#split numerical and categorical columns\n",
    "data_num = X.select_dtypes(include=[np.number])\n",
    "data_cat = X.select_dtypes(include=[np.object])\n",
    "\n",
    "#create data pipeline\n",
    "num_pipeline = Pipeline([('std_scaler', StandardScaler())])\n",
    "\n",
    "num_attribs = list(data_num)\n",
    "cat_attribs = list(data_cat)\n",
    "\n",
    "full_pipeline = ColumnTransformer([\n",
    "        ('num', num_pipeline, num_attribs),\n",
    "        ('cat', OneHotEncoder(), cat_attribs), \n",
    "    ])\n",
    "\n",
    "X = full_pipeline.fit_transform(X)"
   ]
  },
  {
   "cell_type": "code",
   "execution_count": 33,
   "metadata": {},
   "outputs": [],
   "source": [
    "#assign initial colum names in seperate list\n",
    "cat_encoder = full_pipeline.named_transformers_['cat']\n",
    "cat_encoder = list(cat_encoder.categories_)\n",
    "cat_encoder_attribs = [str(cat_attribs[index]) + '_' + category for index,categories \n",
    "                      in enumerate(cat_encoder) for category in categories]\n",
    "attributes = num_attribs + cat_encoder_attribs "
   ]
  },
  {
   "cell_type": "markdown",
   "metadata": {},
   "source": [
    "## Train/Test Split"
   ]
  },
  {
   "cell_type": "code",
   "execution_count": null,
   "metadata": {},
   "outputs": [],
   "source": [
    "# set datetime as index\n",
    "merged_df = merged_df.set_index('date')"
   ]
  },
  {
   "cell_type": "code",
   "execution_count": 175,
   "metadata": {},
   "outputs": [],
   "source": [
    "# keep only sommer months as other months are too much covid-biased\n",
    "end_date = '2020-09-30'\n",
    "end_date = datetime.strptime(end_date, '%Y-%m-%d').date()\n",
    "filtered_df = merged_df.loc[merged_df['date_only'] <= end_date].copy()\n",
    "\n",
    "# train/test split\n",
    "split_date = '2020-08-31'\n",
    "split_date = datetime.strptime(split_date, '%Y-%m-%d').date()\n",
    "\n",
    "df_train = merged_df.loc[merged_df['date_only'] <= split_date].copy()\n",
    "df_test = merged_df.loc[merged_df['date_only'] > split_date].copy()"
   ]
  },
  {
   "cell_type": "code",
   "execution_count": 177,
   "metadata": {},
   "outputs": [
    {
     "data": {
      "text/plain": [
       "Index(['occupancy_rate', 'date_only', 'hour', 'day_of_week', 'quarter',\n",
       "       'month', 'day_of_year', 'day_of_month', 'week_of_year', 'temperature',\n",
       "       'weather', 'holiday'],\n",
       "      dtype='object')"
      ]
     },
     "execution_count": 177,
     "metadata": {},
     "output_type": "execute_result"
    }
   ],
   "source": [
    "# show defined features\n",
    "merged_df.columns"
   ]
  },
  {
   "cell_type": "code",
   "execution_count": 178,
   "metadata": {},
   "outputs": [],
   "source": [
    "# define function to split df accordingly \n",
    "def split(df, label=None):    \n",
    "    X = df[['hour','day_of_week','quarter','month',\n",
    "           'day_of_year','day_of_month','week_of_year', 'temperature','weather', 'holiday']]\n",
    "    if label:\n",
    "        y = df[label]\n",
    "        return X, y\n",
    "    return X"
   ]
  },
  {
   "cell_type": "code",
   "execution_count": 179,
   "metadata": {},
   "outputs": [],
   "source": [
    "# apply functions\n",
    "X_train, y_train = split(df_train, label='occupancy_rate')\n",
    "X_test, y_test = split(df_test, label='occupancy_rate')"
   ]
  },
  {
   "cell_type": "code",
   "execution_count": 180,
   "metadata": {},
   "outputs": [
    {
     "name": "stderr",
     "output_type": "stream",
     "text": [
      "<ipython-input-180-3f85e03db52f>:2: SettingWithCopyWarning: \n",
      "A value is trying to be set on a copy of a slice from a DataFrame.\n",
      "Try using .loc[row_indexer,col_indexer] = value instead\n",
      "\n",
      "See the caveats in the documentation: https://pandas.pydata.org/pandas-docs/stable/user_guide/indexing.html#returning-a-view-versus-a-copy\n",
      "  X_train['weather'] = pd.Categorical(X_train['weather'])\n",
      "<ipython-input-180-3f85e03db52f>:3: SettingWithCopyWarning: \n",
      "A value is trying to be set on a copy of a slice from a DataFrame.\n",
      "Try using .loc[row_indexer,col_indexer] = value instead\n",
      "\n",
      "See the caveats in the documentation: https://pandas.pydata.org/pandas-docs/stable/user_guide/indexing.html#returning-a-view-versus-a-copy\n",
      "  X_test['weather'] = pd.Categorical(X_test['weather'])\n"
     ]
    }
   ],
   "source": [
    "# convert categorical column\n",
    "X_train['weather'] = pd.Categorical(X_train['weather'])\n",
    "X_test['weather'] = pd.Categorical(X_test['weather'])"
   ]
  },
  {
   "cell_type": "code",
   "execution_count": 181,
   "metadata": {},
   "outputs": [
    {
     "name": "stderr",
     "output_type": "stream",
     "text": [
      "<ipython-input-181-6839ee27418e>:3: DeprecationWarning: `np.object` is a deprecated alias for the builtin `object`. To silence this warning, use `object` by itself. Doing this will not modify any behavior and is safe. \n",
      "Deprecated in NumPy 1.20; for more details and guidance: https://numpy.org/devdocs/release/1.20.0-notes.html#deprecations\n",
      "  data_cat = X_train.select_dtypes(include=[np.object])\n"
     ]
    }
   ],
   "source": [
    "#split numerical and categorical columns\n",
    "data_num = X_train.select_dtypes(include=[np.number])\n",
    "data_cat = X_train.select_dtypes(include=[np.object])\n",
    "\n",
    "#create data pipeline\n",
    "num_pipeline = Pipeline([('std_scaler', StandardScaler())])\n",
    "\n",
    "num_attribs = list(data_num)\n",
    "cat_attribs = list(data_cat)\n",
    "\n",
    "full_pipeline = ColumnTransformer([\n",
    "        ('num', num_pipeline, num_attribs),\n",
    "        ('cat', OneHotEncoder(), cat_attribs), \n",
    "    ])\n",
    "\n",
    "X_train = full_pipeline.fit_transform(X_train)\n",
    "X_test = full_pipeline.transform(X_test)"
   ]
  },
  {
   "cell_type": "markdown",
   "metadata": {},
   "source": [
    "## Create models"
   ]
  },
  {
   "cell_type": "code",
   "execution_count": 182,
   "metadata": {},
   "outputs": [
    {
     "data": {
      "text/plain": [
       "XGBRegressor(base_score=0.5, booster='gbtree', colsample_bylevel=1,\n",
       "             colsample_bynode=1, colsample_bytree=1, gamma=0, gpu_id=-1,\n",
       "             importance_type='gain', interaction_constraints='',\n",
       "             learning_rate=0.300000012, max_delta_step=0, max_depth=6,\n",
       "             min_child_weight=1, missing=nan, monotone_constraints='()',\n",
       "             n_estimators=1000, n_jobs=0, num_parallel_tree=1, random_state=0,\n",
       "             reg_alpha=0, reg_lambda=1, scale_pos_weight=1, subsample=1,\n",
       "             tree_method='exact', validate_parameters=1, verbosity=None)"
      ]
     },
     "execution_count": 182,
     "metadata": {},
     "output_type": "execute_result"
    }
   ],
   "source": [
    "# initialize XGB model\n",
    " # move import to the top of the notebook\n",
    "\n",
    "reg = xgb.XGBRegressor(n_estimators=1000)\n",
    "reg.fit(X_train, y_train, eval_set=[(X_train, y_train), (X_test, y_test)], early_stopping_rounds=50,\n",
    "       verbose=False) # set false to not see training progress"
   ]
  },
  {
   "cell_type": "markdown",
   "metadata": {},
   "source": [
    "## Feature Importance"
   ]
  },
  {
   "cell_type": "markdown",
   "metadata": {},
   "source": [
    "## Forecast on test set"
   ]
  },
  {
   "cell_type": "code",
   "execution_count": 183,
   "metadata": {},
   "outputs": [],
   "source": [
    "df_test['prediction'] = reg.predict(X_test)\n",
    "df_all = pd.concat([df_test, df_train], sort=False)"
   ]
  },
  {
   "cell_type": "code",
   "execution_count": 187,
   "metadata": {
    "scrolled": true
   },
   "outputs": [
    {
     "data": {
      "image/png": "[encoded data removed]",
      "text/plain": [
       "<Figure size 1080x360 with 1 Axes>"
      ]
     },
     "metadata": {},
     "output_type": "display_data"
    }
   ],
   "source": [
    "# Plot the forecast with the actuals\n",
    "f, ax = plt.subplots(1)\n",
    "f.set_figheight(5)\n",
    "f.set_figwidth(15)\n",
    "_ = df_all[['prediction','occupancy_rate']].plot(ax=ax, style=['-','-'])\n",
    "\n",
    "ax.set_xbound(lower='2020-08-31', upper='2020-09-30')\n",
    "plot = plt.suptitle('September 2020 Forecast vs Actuals')"
   ]
  },
  {
   "cell_type": "markdown",
   "metadata": {},
   "source": [
    "## Error metrics on test set"
   ]
  },
  {
   "cell_type": "markdown",
   "metadata": {},
   "source": [
    "1) Calculate standard metrics"
   ]
  },
  {
   "cell_type": "code",
   "execution_count": 188,
   "metadata": {},
   "outputs": [
    {
     "name": "stdout",
     "output_type": "stream",
     "text": [
      "13.609\n",
      "348.291\n"
     ]
    }
   ],
   "source": [
    "print(round(mean_absolute_error(y_true=df_test['occupancy_rate'], y_pred=df_test['prediction']), 3))\n",
    "print(round(mean_squared_error(y_true=df_test['occupancy_rate'], y_pred=df_test['prediction']), 3))"
   ]
  },
  {
   "cell_type": "code",
   "execution_count": 189,
   "metadata": {},
   "outputs": [
    {
     "data": {
      "text/html": [
       "<div>\n",
       "<style scoped>\n",
       "    .dataframe tbody tr th:only-of-type {\n",
       "        vertical-align: middle;\n",
       "    }\n",
       "\n",
       "    .dataframe tbody tr th {\n",
       "        vertical-align: top;\n",
       "    }\n",
       "\n",
       "    .dataframe thead th {\n",
       "        text-align: right;\n",
       "    }\n",
       "</style>\n",
       "<table border=\"1\" class=\"dataframe\">\n",
       "  <thead>\n",
       "    <tr style=\"text-align: right;\">\n",
       "      <th></th>\n",
       "      <th>occupancy_rate</th>\n",
       "      <th>prediction</th>\n",
       "    </tr>\n",
       "    <tr>\n",
       "      <th>date</th>\n",
       "      <th></th>\n",
       "      <th></th>\n",
       "    </tr>\n",
       "  </thead>\n",
       "  <tbody>\n",
       "    <tr>\n",
       "      <th>2020-12-01 04:00:00</th>\n",
       "      <td>8.762887</td>\n",
       "      <td>8.502053</td>\n",
       "    </tr>\n",
       "    <tr>\n",
       "      <th>2020-12-01 06:00:00</th>\n",
       "      <td>12.738854</td>\n",
       "      <td>7.547741</td>\n",
       "    </tr>\n",
       "    <tr>\n",
       "      <th>2020-12-01 09:00:00</th>\n",
       "      <td>68.298969</td>\n",
       "      <td>46.743240</td>\n",
       "    </tr>\n",
       "    <tr>\n",
       "      <th>2020-12-01 09:00:00</th>\n",
       "      <td>68.298969</td>\n",
       "      <td>46.743240</td>\n",
       "    </tr>\n",
       "    <tr>\n",
       "      <th>2020-12-01 23:00:00</th>\n",
       "      <td>12.578616</td>\n",
       "      <td>25.026299</td>\n",
       "    </tr>\n",
       "    <tr>\n",
       "      <th>2020-12-01 23:00:00</th>\n",
       "      <td>12.578616</td>\n",
       "      <td>25.026299</td>\n",
       "    </tr>\n",
       "    <tr>\n",
       "      <th>2020-12-02 06:00:00</th>\n",
       "      <td>9.106529</td>\n",
       "      <td>7.103070</td>\n",
       "    </tr>\n",
       "    <tr>\n",
       "      <th>2020-12-02 11:00:00</th>\n",
       "      <td>89.171975</td>\n",
       "      <td>46.226711</td>\n",
       "    </tr>\n",
       "    <tr>\n",
       "      <th>2020-12-02 13:00:00</th>\n",
       "      <td>82.857143</td>\n",
       "      <td>53.146671</td>\n",
       "    </tr>\n",
       "    <tr>\n",
       "      <th>2020-12-02 14:00:00</th>\n",
       "      <td>88.144330</td>\n",
       "      <td>50.059975</td>\n",
       "    </tr>\n",
       "  </tbody>\n",
       "</table>\n",
       "</div>"
      ],
      "text/plain": [
       "                     occupancy_rate  prediction\n",
       "date                                           \n",
       "2020-12-01 04:00:00        8.762887    8.502053\n",
       "2020-12-01 06:00:00       12.738854    7.547741\n",
       "2020-12-01 09:00:00       68.298969   46.743240\n",
       "2020-12-01 09:00:00       68.298969   46.743240\n",
       "2020-12-01 23:00:00       12.578616   25.026299\n",
       "2020-12-01 23:00:00       12.578616   25.026299\n",
       "2020-12-02 06:00:00        9.106529    7.103070\n",
       "2020-12-02 11:00:00       89.171975   46.226711\n",
       "2020-12-02 13:00:00       82.857143   53.146671\n",
       "2020-12-02 14:00:00       88.144330   50.059975"
      ]
     },
     "execution_count": 189,
     "metadata": {},
     "output_type": "execute_result"
    }
   ],
   "source": [
    "df_test_temp = df_test[['occupancy_rate', 'prediction']]\n",
    "df_test_temp.head(10)"
   ]
  },
  {
   "cell_type": "markdown",
   "metadata": {},
   "source": [
    "2) Look at Worst and Best Predicted Days"
   ]
  },
  {
   "cell_type": "code",
   "execution_count": null,
   "metadata": {},
   "outputs": [],
   "source": [
    "# aggregate data\n",
    "df_test['error'] = df_test['occupancy_rate'] - df_test['prediction']\n",
    "df_test['abs_error'] = df_test['error'].apply(np.abs)\n",
    "error_by_day = df_test.groupby(['month','day_of_month']) \\\n",
    "    .mean()[['occupancy_rate','prediction','error','abs_error']]"
   ]
  },
  {
   "cell_type": "code",
   "execution_count": 103,
   "metadata": {},
   "outputs": [
    {
     "data": {
      "text/html": [
       "<div>\n",
       "<style scoped>\n",
       "    .dataframe tbody tr th:only-of-type {\n",
       "        vertical-align: middle;\n",
       "    }\n",
       "\n",
       "    .dataframe tbody tr th {\n",
       "        vertical-align: top;\n",
       "    }\n",
       "\n",
       "    .dataframe thead th {\n",
       "        text-align: right;\n",
       "    }\n",
       "</style>\n",
       "<table border=\"1\" class=\"dataframe\">\n",
       "  <thead>\n",
       "    <tr style=\"text-align: right;\">\n",
       "      <th></th>\n",
       "      <th></th>\n",
       "      <th>occupancy_rate</th>\n",
       "      <th>prediction</th>\n",
       "      <th>error</th>\n",
       "      <th>abs_error</th>\n",
       "    </tr>\n",
       "    <tr>\n",
       "      <th>month</th>\n",
       "      <th>day_of_month</th>\n",
       "      <th></th>\n",
       "      <th></th>\n",
       "      <th></th>\n",
       "      <th></th>\n",
       "    </tr>\n",
       "  </thead>\n",
       "  <tbody>\n",
       "    <tr>\n",
       "      <th>12</th>\n",
       "      <th>25</th>\n",
       "      <td>12.833103</td>\n",
       "      <td>39.962570</td>\n",
       "      <td>-27.129466</td>\n",
       "      <td>27.401066</td>\n",
       "    </tr>\n",
       "    <tr>\n",
       "      <th>10</th>\n",
       "      <th>31</th>\n",
       "      <td>10.915493</td>\n",
       "      <td>37.355129</td>\n",
       "      <td>-26.439636</td>\n",
       "      <td>26.439636</td>\n",
       "    </tr>\n",
       "    <tr>\n",
       "      <th>1</th>\n",
       "      <th>31</th>\n",
       "      <td>10.824742</td>\n",
       "      <td>32.069763</td>\n",
       "      <td>-21.245021</td>\n",
       "      <td>21.245021</td>\n",
       "    </tr>\n",
       "    <tr>\n",
       "      <th>2</th>\n",
       "      <th>28</th>\n",
       "      <td>12.893082</td>\n",
       "      <td>32.069763</td>\n",
       "      <td>-19.176681</td>\n",
       "      <td>19.176681</td>\n",
       "    </tr>\n",
       "    <tr>\n",
       "      <th rowspan=\"2\" valign=\"top\">1</th>\n",
       "      <th>12</th>\n",
       "      <td>29.150838</td>\n",
       "      <td>45.299637</td>\n",
       "      <td>-16.148801</td>\n",
       "      <td>27.596242</td>\n",
       "    </tr>\n",
       "    <tr>\n",
       "      <th>30</th>\n",
       "      <td>27.074784</td>\n",
       "      <td>42.682739</td>\n",
       "      <td>-15.607957</td>\n",
       "      <td>20.839852</td>\n",
       "    </tr>\n",
       "    <tr>\n",
       "      <th>12</th>\n",
       "      <th>26</th>\n",
       "      <td>22.069648</td>\n",
       "      <td>36.957325</td>\n",
       "      <td>-14.887677</td>\n",
       "      <td>20.678189</td>\n",
       "    </tr>\n",
       "    <tr>\n",
       "      <th>1</th>\n",
       "      <th>1</th>\n",
       "      <td>20.262693</td>\n",
       "      <td>35.112740</td>\n",
       "      <td>-14.850046</td>\n",
       "      <td>16.731739</td>\n",
       "    </tr>\n",
       "    <tr>\n",
       "      <th>12</th>\n",
       "      <th>27</th>\n",
       "      <td>16.559753</td>\n",
       "      <td>30.691080</td>\n",
       "      <td>-14.131327</td>\n",
       "      <td>14.637080</td>\n",
       "    </tr>\n",
       "    <tr>\n",
       "      <th>1</th>\n",
       "      <th>23</th>\n",
       "      <td>28.852762</td>\n",
       "      <td>42.436119</td>\n",
       "      <td>-13.583358</td>\n",
       "      <td>16.777959</td>\n",
       "    </tr>\n",
       "  </tbody>\n",
       "</table>\n",
       "</div>"
      ],
      "text/plain": [
       "                    occupancy_rate  prediction      error  abs_error\n",
       "month day_of_month                                                  \n",
       "12    25                 12.833103   39.962570 -27.129466  27.401066\n",
       "10    31                 10.915493   37.355129 -26.439636  26.439636\n",
       "1     31                 10.824742   32.069763 -21.245021  21.245021\n",
       "2     28                 12.893082   32.069763 -19.176681  19.176681\n",
       "1     12                 29.150838   45.299637 -16.148801  27.596242\n",
       "      30                 27.074784   42.682739 -15.607957  20.839852\n",
       "12    26                 22.069648   36.957325 -14.887677  20.678189\n",
       "1     1                  20.262693   35.112740 -14.850046  16.731739\n",
       "12    27                 16.559753   30.691080 -14.131327  14.637080\n",
       "1     23                 28.852762   42.436119 -13.583358  16.777959"
      ]
     },
     "execution_count": 103,
     "metadata": {},
     "output_type": "execute_result"
    }
   ],
   "source": [
    "error_by_day.sort_values('error', ascending=True).head(10)"
   ]
  },
  {
   "cell_type": "markdown",
   "metadata": {},
   "source": [
    "# Archive"
   ]
  },
  {
   "cell_type": "markdown",
   "metadata": {},
   "source": [
    "3) Run models"
   ]
  },
  {
   "cell_type": "markdown",
   "metadata": {},
   "source": [
    "1. Evaluate performance with hour variable only"
   ]
  },
  {
   "cell_type": "code",
   "execution_count": 39,
   "metadata": {
    "scrolled": true
   },
   "outputs": [
    {
     "name": "stderr",
     "output_type": "stream",
     "text": [
      "/Users/christopherkindl/opt/anaconda3/lib/python3.8/site-packages/sklearn/model_selection/_validation.py:531: DataConversionWarning: A column-vector y was passed when a 1d array was expected. Please change the shape of y to (n_samples,), for example using ravel().\n",
      "  estimator.fit(X_train, y_train, **fit_params)\n",
      "/Users/christopherkindl/opt/anaconda3/lib/python3.8/site-packages/sklearn/model_selection/_validation.py:531: DataConversionWarning: A column-vector y was passed when a 1d array was expected. Please change the shape of y to (n_samples,), for example using ravel().\n",
      "  estimator.fit(X_train, y_train, **fit_params)\n",
      "/Users/christopherkindl/opt/anaconda3/lib/python3.8/site-packages/sklearn/model_selection/_validation.py:531: DataConversionWarning: A column-vector y was passed when a 1d array was expected. Please change the shape of y to (n_samples,), for example using ravel().\n",
      "  estimator.fit(X_train, y_train, **fit_params)\n",
      "/Users/christopherkindl/opt/anaconda3/lib/python3.8/site-packages/sklearn/model_selection/_validation.py:531: DataConversionWarning: A column-vector y was passed when a 1d array was expected. Please change the shape of y to (n_samples,), for example using ravel().\n",
      "  estimator.fit(X_train, y_train, **fit_params)\n",
      "/Users/christopherkindl/opt/anaconda3/lib/python3.8/site-packages/sklearn/model_selection/_validation.py:531: DataConversionWarning: A column-vector y was passed when a 1d array was expected. Please change the shape of y to (n_samples,), for example using ravel().\n",
      "  estimator.fit(X_train, y_train, **fit_params)\n"
     ]
    },
    {
     "name": "stdout",
     "output_type": "stream",
     "text": [
      "Base Root Meat Squared Error is: 15.73510\n"
     ]
    }
   ],
   "source": [
    "# run cross-validation\n",
    "\n",
    "# Init RF and CV\n",
    "cv = TimeSeriesSplit(n_splits=5)\n",
    "rf = RandomForestRegressor(n_estimators=250, random_state=42) # will be optimised by grid search\n",
    "\n",
    "scores = cross_validate(rf, X, y, cv=cv, scoring='neg_mean_squared_error', return_estimator=True)\n",
    "\n",
    "# Base RMSLE\n",
    "base_rmsle = np.sqrt(-np.mean(scores[\"test_score\"]))\n",
    "print(\"Base Root Meat Squared Error is: {:.5f}\".format(base_rmsle))"
   ]
  },
  {
   "cell_type": "markdown",
   "metadata": {},
   "source": [
    "2. Evaluate performance without weather information"
   ]
  },
  {
   "cell_type": "code",
   "execution_count": 31,
   "metadata": {},
   "outputs": [
    {
     "name": "stderr",
     "output_type": "stream",
     "text": [
      "/Users/christopherkindl/opt/anaconda3/lib/python3.8/site-packages/sklearn/model_selection/_validation.py:531: DataConversionWarning: A column-vector y was passed when a 1d array was expected. Please change the shape of y to (n_samples,), for example using ravel().\n",
      "  estimator.fit(X_train, y_train, **fit_params)\n",
      "/Users/christopherkindl/opt/anaconda3/lib/python3.8/site-packages/sklearn/model_selection/_validation.py:531: DataConversionWarning: A column-vector y was passed when a 1d array was expected. Please change the shape of y to (n_samples,), for example using ravel().\n",
      "  estimator.fit(X_train, y_train, **fit_params)\n",
      "/Users/christopherkindl/opt/anaconda3/lib/python3.8/site-packages/sklearn/model_selection/_validation.py:531: DataConversionWarning: A column-vector y was passed when a 1d array was expected. Please change the shape of y to (n_samples,), for example using ravel().\n",
      "  estimator.fit(X_train, y_train, **fit_params)\n",
      "/Users/christopherkindl/opt/anaconda3/lib/python3.8/site-packages/sklearn/model_selection/_validation.py:531: DataConversionWarning: A column-vector y was passed when a 1d array was expected. Please change the shape of y to (n_samples,), for example using ravel().\n",
      "  estimator.fit(X_train, y_train, **fit_params)\n",
      "/Users/christopherkindl/opt/anaconda3/lib/python3.8/site-packages/sklearn/model_selection/_validation.py:531: DataConversionWarning: A column-vector y was passed when a 1d array was expected. Please change the shape of y to (n_samples,), for example using ravel().\n",
      "  estimator.fit(X_train, y_train, **fit_params)\n"
     ]
    },
    {
     "name": "stdout",
     "output_type": "stream",
     "text": [
      "Base Root Meat Squared Error is: 7.79661\n"
     ]
    }
   ],
   "source": [
    "# run cross-validation\n",
    "\n",
    "# Init RF and CV\n",
    "cv = TimeSeriesSplit(n_splits=5)\n",
    "rf = RandomForestRegressor(n_estimators=100, random_state=42) # will be optimised by grid search\n",
    "lr = LinearRegression()\n",
    "\n",
    "scores = cross_validate(rf, X, y, cv=cv, scoring='neg_mean_squared_error', return_estimator=True)\n",
    "\n",
    "# Base RMSLE\n",
    "base_rmsle = np.sqrt(-np.mean(scores[\"test_score\"]))\n",
    "print(\"Base Root Meat Squared Error is: {:.5f}\".format(base_rmsle))"
   ]
  },
  {
   "cell_type": "markdown",
   "metadata": {},
   "source": [
    "3. Evaluate performance with AdaBoost"
   ]
  },
  {
   "cell_type": "code",
   "execution_count": 18,
   "metadata": {},
   "outputs": [
    {
     "name": "stderr",
     "output_type": "stream",
     "text": [
      "/Users/christopherkindl/opt/anaconda3/lib/python3.8/site-packages/sklearn/utils/validation.py:73: DataConversionWarning: A column-vector y was passed when a 1d array was expected. Please change the shape of y to (n_samples, ), for example using ravel().\n",
      "  return f(**kwargs)\n",
      "/Users/christopherkindl/opt/anaconda3/lib/python3.8/site-packages/sklearn/utils/validation.py:73: DataConversionWarning: A column-vector y was passed when a 1d array was expected. Please change the shape of y to (n_samples, ), for example using ravel().\n",
      "  return f(**kwargs)\n",
      "/Users/christopherkindl/opt/anaconda3/lib/python3.8/site-packages/sklearn/utils/validation.py:73: DataConversionWarning: A column-vector y was passed when a 1d array was expected. Please change the shape of y to (n_samples, ), for example using ravel().\n",
      "  return f(**kwargs)\n",
      "/Users/christopherkindl/opt/anaconda3/lib/python3.8/site-packages/sklearn/utils/validation.py:73: DataConversionWarning: A column-vector y was passed when a 1d array was expected. Please change the shape of y to (n_samples, ), for example using ravel().\n",
      "  return f(**kwargs)\n",
      "/Users/christopherkindl/opt/anaconda3/lib/python3.8/site-packages/sklearn/utils/validation.py:73: DataConversionWarning: A column-vector y was passed when a 1d array was expected. Please change the shape of y to (n_samples, ), for example using ravel().\n",
      "  return f(**kwargs)\n"
     ]
    },
    {
     "name": "stdout",
     "output_type": "stream",
     "text": [
      "Base Root Meat Squared Error is: 14.63672\n"
     ]
    }
   ],
   "source": [
    "cv = TimeSeriesSplit(n_splits=5)\n",
    "# rf = RandomForestRegressor(n_estimators=100, random_state=42) # will be optimised by grid search\n",
    "abr = AdaBoostRegressor(random_state=42, n_estimators=2500)\n",
    "\n",
    "scores = cross_validate(abr, X, y, cv=cv, scoring='neg_mean_squared_error', return_estimator=True)\n",
    "\n",
    "# Base RMSLE\n",
    "base_rmsle = np.sqrt(-np.mean(scores[\"test_score\"]))\n",
    "print(\"Base Root Meat Squared Error is: {:.5f}\".format(base_rmsle))"
   ]
  },
  {
   "cell_type": "markdown",
   "metadata": {},
   "source": [
    "4. Evaluate performance with XGBoost"
   ]
  },
  {
   "cell_type": "code",
   "execution_count": 23,
   "metadata": {},
   "outputs": [
    {
     "name": "stdout",
     "output_type": "stream",
     "text": [
      "Base Root Meat Squared Error is: 6.88160\n"
     ]
    }
   ],
   "source": [
    "xgb = XGBRegressor(n_estimators=1000)\n",
    "\n",
    "scores = cross_validate(xgb, X, y, cv=cv, scoring='neg_mean_squared_error', return_estimator=True)\n",
    "\n",
    "# Base RMSLE\n",
    "base_rmsle = np.sqrt(-np.mean(scores[\"test_score\"]))\n",
    "print(\"Base Root Meat Squared Error is: {:.5f}\".format(base_rmsle))"
   ]
  },
  {
   "cell_type": "markdown",
   "metadata": {},
   "source": [
    "4) Feature importance"
   ]
  },
  {
   "cell_type": "code",
   "execution_count": null,
   "metadata": {
    "scrolled": false
   },
   "outputs": [],
   "source": [
    "#get feature importance\n",
    "for idx,estimator in enumerate(scores['estimator']):\n",
    "    print(\"Features sorted by their score for estimator {}:\".format(idx))\n",
    "    feature_importances = pd.DataFrame(estimator.feature_importances_,\n",
    "                                       index = attributes,\n",
    "                                       columns=['importance']).sort_values('importance', ascending=False)\n",
    "    print('-----------------------------------------------')\n",
    "    print(feature_importances)"
   ]
  },
  {
   "cell_type": "code",
   "execution_count": null,
   "metadata": {},
   "outputs": [],
   "source": []
  }
 ],
 "metadata": {
  "kernelspec": {
   "display_name": "Python 3",
   "language": "python",
   "name": "python3"
  },
  "language_info": {
   "codemirror_mode": {
    "name": "ipython",
    "version": 3
   },
   "file_extension": ".py",
   "mimetype": "text/x-python",
   "name": "python",
   "nbconvert_exporter": "python",
   "pygments_lexer": "ipython3",
   "version": "3.8.3"
  }
 },
 "nbformat": 4,
 "nbformat_minor": 4
}
