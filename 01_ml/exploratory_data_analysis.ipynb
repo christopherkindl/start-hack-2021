{
 "cells": [
  {
   "cell_type": "markdown",
   "metadata": {},
   "source": [
    "## Import of dependencies"
   ]
  },
  {
   "cell_type": "code",
   "execution_count": null,
   "metadata": {},
   "outputs": [],
   "source": [
    "# display full output in Notebook, instead of only the last result\n",
    "from IPython.core.interactiveshell import InteractiveShell\n",
    "InteractiveShell.ast_node_interactivity = \"all\"\n",
    "\n",
    "# customized preprocessing functions\n",
    "import util\n",
    "\n",
    "# standard libraries\n",
    "import pandas as pd\n",
    "import numpy as np\n",
    "import os\n",
    "from datetime import datetime\n",
    "import time\n",
    "import matplotlib.pyplot as plt\n",
    "\n",
    "#viz\n",
    "import seaborn as sns\n",
    "# plt.style.use('fivethirtyeight')\n",
    "sns.set_style(\"whitegrid\")\n",
    "\n",
    "#store model\n",
    "import pickle"
   ]
  },
  {
   "cell_type": "markdown",
   "metadata": {},
   "source": [
    "## Import data"
   ]
  },
  {
   "cell_type": "code",
   "execution_count": null,
   "metadata": {},
   "outputs": [],
   "source": [
    "locations = ['burgdorf', 'rapperswil']"
   ]
  },
  {
   "cell_type": "code",
   "execution_count": null,
   "metadata": {},
   "outputs": [],
   "source": [
    "data_path = \"/Users/christopherkindl/working/start-hack-2021/00_data\" # sorry but I ran into a strange directory error\n",
    "\n",
    "dfs = {}\n",
    "\n",
    "for loc in locations:\n",
    "    dfs[loc] = pd.read_csv(os.path.join(data_path, \"features_{}.csv\".format(loc)), sep=\",\")\n",
    "    dfs[loc]['date'] = pd.to_datetime(dfs[loc]['date'])\n",
    "\n",
    "    #  declare categorical columns\n",
    "    for col in ['hour', 'day_of_week', 'quarter', 'month', 'day_of_year', 'day_of_month',\n",
    "                'week_of_year', 'weather', 'weather_t-1', 'weather_t-2', 'weather_t-3', 'weather_t-7', \n",
    "                'holiday']:\n",
    "        \n",
    "        dfs[loc][col] = dfs[loc][col].astype(object)\n",
    "\n",
    "    # set datetime column as index\n",
    "    dfs[loc].set_index('date', inplace = True)"
   ]
  },
  {
   "cell_type": "code",
   "execution_count": null,
   "metadata": {},
   "outputs": [],
   "source": [
    "for loc in locations:\n",
    "    print('Dataset shape of {} data: {}'.format(loc.capitalize(), dfs[loc].shape))"
   ]
  },
  {
   "cell_type": "markdown",
   "metadata": {},
   "source": [
    "## Boxplots"
   ]
  },
  {
   "cell_type": "code",
   "execution_count": null,
   "metadata": {
    "scrolled": true
   },
   "outputs": [],
   "source": [
    "plt_params = {\n",
    "    'text.usetex' : True,\n",
    "    'font.size' : 20,\n",
    "    'xtick.labelsize' : 18,\n",
    "    'ytick.labelsize' : 18,\n",
    "    'lines.linewidth': 1,\n",
    "    'grid.linewidth':   2,\n",
    "}\n",
    "plt.rcParams.update(plt_params)\n",
    "\n",
    "for loc in locations:\n",
    "    # set size of figure\n",
    "    fig = plt.figure(figsize=(20,12));\n",
    "\n",
    "    # provide data\n",
    "    # please align colors with current colors in paper\n",
    "    ax = sns.boxplot(x='hour', y='occupancy_rate', data=dfs[loc], linewidth=2, color=\"#B4D0E4\", boxprops=dict(alpha=.7));\n",
    "\n",
    "    # please align style, especially fontsizes\n",
    "    _ = plt.xlabel(r'Hour of day');\n",
    "    _ = plt.ylabel(r'Parking occupancy $\\left[\\%\\right]$');\n",
    "    #ax = sns.boxplot(x=df.groupby('hour')['occupancy_rate'].mean().index, y=df.groupby('hour')['occupancy_rate'].mean())\n",
    "    #plt.show();\n",
    "\n",
    "    # save fig\n",
    "    file = 'boxplot_' + loc + '.png'\n",
    "    plt.savefig('../05_visualisations_of_eda/' + file,\n",
    "               facecolor=fig.get_facecolor(), edgecolor='none');"
   ]
  }
 ],
 "metadata": {
  "kernelspec": {
   "display_name": "Python 3",
   "language": "python",
   "name": "python3"
  },
  "language_info": {
   "codemirror_mode": {
    "name": "ipython",
    "version": 3
   },
   "file_extension": ".py",
   "mimetype": "text/x-python",
   "name": "python",
   "nbconvert_exporter": "python",
   "pygments_lexer": "ipython3",
   "version": "3.8.12"
  }
 },
 "nbformat": 4,
 "nbformat_minor": 4
}
